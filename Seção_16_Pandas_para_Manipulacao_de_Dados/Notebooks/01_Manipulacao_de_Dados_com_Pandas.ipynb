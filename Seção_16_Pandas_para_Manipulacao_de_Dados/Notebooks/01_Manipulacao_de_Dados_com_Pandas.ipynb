{
 "cells": [
  {
   "cell_type": "markdown",
   "id": "b3eb19fe-e379-4fd3-9187-34a1d3e61480",
   "metadata": {},
   "source": [
    "## Analisando dados com Pandas"
   ]
  },
  {
   "cell_type": "code",
   "id": "613bfa29-1608-4012-bcb9-6762b7a1b0bd",
   "metadata": {
    "ExecuteTime": {
     "end_time": "2024-07-02T12:44:28.657690Z",
     "start_time": "2024-07-02T12:44:28.191386Z"
    }
   },
   "source": [
    "import pandas as pd\n",
    "import numpy as np"
   ],
   "outputs": [],
   "execution_count": 1
  },
  {
   "cell_type": "markdown",
   "id": "4b357cb5-1b1a-4b28-995b-e66700cde104",
   "metadata": {},
   "source": [
    "## Series\n",
    "\n",
    "Series com Listas"
   ]
  },
  {
   "cell_type": "code",
   "id": "b71a4c19-791f-421c-97df-3dea1c11f188",
   "metadata": {
    "ExecuteTime": {
     "end_time": "2024-07-02T12:44:28.670491Z",
     "start_time": "2024-07-02T12:44:28.659703Z"
    }
   },
   "source": [
    "numeros = pd.Series([1, 2, 3, 4, 5, 6, 7, 8, 9, 10, 11, 12])\n",
    "numeros"
   ],
   "outputs": [
    {
     "data": {
      "text/plain": [
       "0      1\n",
       "1      2\n",
       "2      3\n",
       "3      4\n",
       "4      5\n",
       "5      6\n",
       "6      7\n",
       "7      8\n",
       "8      9\n",
       "9     10\n",
       "10    11\n",
       "11    12\n",
       "dtype: int64"
      ]
     },
     "execution_count": 2,
     "metadata": {},
     "output_type": "execute_result"
    }
   ],
   "execution_count": 2
  },
  {
   "cell_type": "code",
   "id": "d25483c2-79be-4649-a493-1b2c36631225",
   "metadata": {
    "ExecuteTime": {
     "end_time": "2024-07-02T12:44:28.680119Z",
     "start_time": "2024-07-02T12:44:28.671550Z"
    }
   },
   "source": [
    "type(numeros)"
   ],
   "outputs": [
    {
     "data": {
      "text/plain": [
       "pandas.core.series.Series"
      ]
     },
     "execution_count": 3,
     "metadata": {},
     "output_type": "execute_result"
    }
   ],
   "execution_count": 3
  },
  {
   "cell_type": "code",
   "id": "8ea8d7a9-f92f-424e-896f-0e266b8bdba7",
   "metadata": {
    "ExecuteTime": {
     "end_time": "2024-07-02T12:45:16.887258Z",
     "start_time": "2024-07-02T12:45:16.880124Z"
    }
   },
   "source": [
    "numeros.index"
   ],
   "outputs": [
    {
     "data": {
      "text/plain": [
       "RangeIndex(start=0, stop=12, step=1)"
      ]
     },
     "execution_count": 4,
     "metadata": {},
     "output_type": "execute_result"
    }
   ],
   "execution_count": 4
  },
  {
   "cell_type": "code",
   "id": "6410366e-9fd3-45a0-b0db-55e800bdec89",
   "metadata": {
    "ExecuteTime": {
     "end_time": "2024-07-02T12:45:18.031643Z",
     "start_time": "2024-07-02T12:45:18.026977Z"
    }
   },
   "source": [
    "meses = ['janeiro', 'Fevereiro', 'Março', 'Abril', 'Maio', 'Junho', 'Julho', 'Agosto', 'Setembro', 'Outubro', 'Novembro', 'Dezembro']"
   ],
   "outputs": [],
   "execution_count": 5
  },
  {
   "cell_type": "code",
   "id": "1c16b24f-0df9-4c49-85e3-e37dc15c93aa",
   "metadata": {
    "ExecuteTime": {
     "end_time": "2024-07-02T12:45:18.692482Z",
     "start_time": "2024-07-02T12:45:18.684722Z"
    }
   },
   "source": [
    "meses_sr = pd.Series(np.arange(1, 13), index=meses)\n",
    "meses_sr"
   ],
   "outputs": [
    {
     "data": {
      "text/plain": [
       "janeiro       1\n",
       "Fevereiro     2\n",
       "Março         3\n",
       "Abril         4\n",
       "Maio          5\n",
       "Junho         6\n",
       "Julho         7\n",
       "Agosto        8\n",
       "Setembro      9\n",
       "Outubro      10\n",
       "Novembro     11\n",
       "Dezembro     12\n",
       "dtype: int32"
      ]
     },
     "execution_count": 6,
     "metadata": {},
     "output_type": "execute_result"
    }
   ],
   "execution_count": 6
  },
  {
   "cell_type": "code",
   "id": "05d7c9f7-1431-4b33-a3be-de54f5e03e6e",
   "metadata": {
    "ExecuteTime": {
     "end_time": "2024-07-02T12:45:19.632607Z",
     "start_time": "2024-07-02T12:45:19.625950Z"
    }
   },
   "source": [
    "meses_sr.index"
   ],
   "outputs": [
    {
     "data": {
      "text/plain": [
       "Index(['janeiro', 'Fevereiro', 'Março', 'Abril', 'Maio', 'Junho', 'Julho',\n",
       "       'Agosto', 'Setembro', 'Outubro', 'Novembro', 'Dezembro'],\n",
       "      dtype='object')"
      ]
     },
     "execution_count": 7,
     "metadata": {},
     "output_type": "execute_result"
    }
   ],
   "execution_count": 7
  },
  {
   "cell_type": "markdown",
   "id": "dfbd8958-69ad-4a9d-822a-743d3a68ccbc",
   "metadata": {},
   "source": [
    "## Series com Dicionários"
   ]
  },
  {
   "metadata": {
    "ExecuteTime": {
     "end_time": "2024-07-02T12:45:22.095931Z",
     "start_time": "2024-07-02T12:45:22.091753Z"
    }
   },
   "cell_type": "code",
   "source": [
    "# Criando uma série através de um dicionário - As chaves passa o índices\n",
    "world_cup = {'Brasil': 5, 'Alemanha': 4, 'Itália': 4, 'Argentina': 2, 'Uruguai': 2, 'Inglaterra': 1, 'França': 1}"
   ],
   "id": "5635abf7be99057b",
   "outputs": [],
   "execution_count": 8
  },
  {
   "metadata": {
    "ExecuteTime": {
     "end_time": "2024-07-02T12:45:22.770586Z",
     "start_time": "2024-07-02T12:45:22.757188Z"
    }
   },
   "cell_type": "code",
   "source": [
    "world_cup_sr = pd.Series(world_cup)\n",
    "world_cup_sr"
   ],
   "id": "77ae8b7642c5cf1",
   "outputs": [
    {
     "data": {
      "text/plain": [
       "Brasil        5\n",
       "Alemanha      4\n",
       "Itália        4\n",
       "Argentina     2\n",
       "Uruguai       2\n",
       "Inglaterra    1\n",
       "França        1\n",
       "dtype: int64"
      ]
     },
     "execution_count": 9,
     "metadata": {},
     "output_type": "execute_result"
    }
   ],
   "execution_count": 9
  },
  {
   "metadata": {
    "ExecuteTime": {
     "end_time": "2024-07-02T12:45:27.917113Z",
     "start_time": "2024-07-02T12:45:27.911858Z"
    }
   },
   "cell_type": "code",
   "source": [
    "# Criando uma série definindo o índice\n",
    "world_cup = {'Brasil': 5, 'Alemanha': 4, 'Itália': 4, 'Argentina': 2, 'Uruguai': 2, 'Inglaterra': 1, 'França': 1}"
   ],
   "id": "49ff9d9ee8dabcdd",
   "outputs": [],
   "execution_count": 10
  },
  {
   "metadata": {
    "ExecuteTime": {
     "end_time": "2024-07-02T12:45:29.929526Z",
     "start_time": "2024-07-02T12:45:29.917473Z"
    }
   },
   "cell_type": "code",
   "source": [
    "world_cup_sr = pd.Series(\n",
    "    world_cup, \n",
    "    index=['Brasil', 'Alemanha', 'Itália', 'Argentina', 'Uruguai', 'Inglaterra', 'França', 'Espanha'],\n",
    "    name='wcSeries'\n",
    ")"
   ],
   "id": "2d2c87085425ba0a",
   "outputs": [],
   "execution_count": 11
  },
  {
   "metadata": {
    "ExecuteTime": {
     "end_time": "2024-07-02T12:46:05.597515Z",
     "start_time": "2024-07-02T12:46:05.588309Z"
    }
   },
   "cell_type": "code",
   "source": [
    "# Obeserve o valor nulo\n",
    "world_cup_sr"
   ],
   "id": "cd070c19ff6032a8",
   "outputs": [
    {
     "data": {
      "text/plain": [
       "Brasil        5.0\n",
       "Alemanha      4.0\n",
       "Itália        4.0\n",
       "Argentina     2.0\n",
       "Uruguai       2.0\n",
       "Inglaterra    1.0\n",
       "França        1.0\n",
       "Espanha       NaN\n",
       "Name: wcSeries, dtype: float64"
      ]
     },
     "execution_count": 12,
     "metadata": {},
     "output_type": "execute_result"
    }
   ],
   "execution_count": 12
  },
  {
   "metadata": {
    "ExecuteTime": {
     "end_time": "2024-07-02T12:46:50.965533Z",
     "start_time": "2024-07-02T12:46:50.959792Z"
    }
   },
   "cell_type": "code",
   "source": "world_cup_sr.index",
   "id": "3de10c03c44bc336",
   "outputs": [
    {
     "data": {
      "text/plain": [
       "Index(['Brasil', 'Alemanha', 'Itália', 'Argentina', 'Uruguai', 'Inglaterra',\n",
       "       'França', 'Espanha'],\n",
       "      dtype='object')"
      ]
     },
     "execution_count": 13,
     "metadata": {},
     "output_type": "execute_result"
    }
   ],
   "execution_count": 13
  },
  {
   "metadata": {
    "ExecuteTime": {
     "end_time": "2024-07-02T12:46:57.903593Z",
     "start_time": "2024-07-02T12:46:57.898397Z"
    }
   },
   "cell_type": "code",
   "source": [
    "# Posso trazer o valor de uma série através do índice\n",
    "world_cup_sr['Brasil']"
   ],
   "id": "ba6fba3f779c83d9",
   "outputs": [
    {
     "data": {
      "text/plain": [
       "5.0"
      ]
     },
     "execution_count": 14,
     "metadata": {},
     "output_type": "execute_result"
    }
   ],
   "execution_count": 14
  },
  {
   "metadata": {
    "ExecuteTime": {
     "end_time": "2024-07-02T12:48:56.785015Z",
     "start_time": "2024-07-02T12:48:56.775106Z"
    }
   },
   "cell_type": "code",
   "source": [
    "# Implicitamente, porém, o Python ainda atribui um índice numérico\n",
    "world_cup_sr[0]"
   ],
   "id": "90f512331ae45aee",
   "outputs": [
    {
     "name": "stderr",
     "output_type": "stream",
     "text": [
      "C:\\Users\\Romulo Vieira\\AppData\\Local\\Temp\\ipykernel_19068\\802167029.py:2: FutureWarning: Series.__getitem__ treating keys as positions is deprecated. In a future version, integer keys will always be treated as labels (consistent with DataFrame behavior). To access a value by position, use `ser.iloc[pos]`\n",
      "  world_cup_sr[0]\n"
     ]
    },
    {
     "data": {
      "text/plain": [
       "5.0"
      ]
     },
     "execution_count": 15,
     "metadata": {},
     "output_type": "execute_result"
    }
   ],
   "execution_count": 15
  },
  {
   "metadata": {
    "ExecuteTime": {
     "end_time": "2024-07-02T12:51:05.488395Z",
     "start_time": "2024-07-02T12:51:05.480472Z"
    }
   },
   "cell_type": "code",
   "source": [
    "# Podemos também atribuir um valor através do índice numérico ou valorado\n",
    "world_cup_sr['Espanha'] = 1\n",
    "world_cup_sr"
   ],
   "id": "833b6907a3183d45",
   "outputs": [
    {
     "data": {
      "text/plain": [
       "Brasil        5.0\n",
       "Alemanha      4.0\n",
       "Itália        4.0\n",
       "Argentina     2.0\n",
       "Uruguai       2.0\n",
       "Inglaterra    1.0\n",
       "França        1.0\n",
       "Espanha       1.0\n",
       "Name: wcSeries, dtype: float64"
      ]
     },
     "execution_count": 16,
     "metadata": {},
     "output_type": "execute_result"
    }
   ],
   "execution_count": 16
  },
  {
   "metadata": {
    "ExecuteTime": {
     "end_time": "2024-07-02T12:51:17.463694Z",
     "start_time": "2024-07-02T12:51:17.455440Z"
    }
   },
   "cell_type": "code",
   "source": [
    "# Ao trabalharmos com índices numéricos, podemos fazer slices assim como nas listas e vetores\n",
    "world_cup_sr[1:3]"
   ],
   "id": "d3817e2e379fe751",
   "outputs": [
    {
     "data": {
      "text/plain": [
       "Alemanha    4.0\n",
       "Itália      4.0\n",
       "Name: wcSeries, dtype: float64"
      ]
     },
     "execution_count": 17,
     "metadata": {},
     "output_type": "execute_result"
    }
   ],
   "execution_count": 17
  },
  {
   "metadata": {
    "ExecuteTime": {
     "end_time": "2024-07-02T12:51:38.204357Z",
     "start_time": "2024-07-02T12:51:38.198244Z"
    }
   },
   "cell_type": "code",
   "source": [
    "# Podemos realizar comparações lógicas\n",
    "world_cup_sr[world_cup_sr > 3]"
   ],
   "id": "80448074655d9daa",
   "outputs": [
    {
     "data": {
      "text/plain": [
       "Brasil      5.0\n",
       "Alemanha    4.0\n",
       "Itália      4.0\n",
       "Name: wcSeries, dtype: float64"
      ]
     },
     "execution_count": 18,
     "metadata": {},
     "output_type": "execute_result"
    }
   ],
   "execution_count": 18
  },
  {
   "metadata": {},
   "cell_type": "markdown",
   "source": "## Leitura de Arquivos - Excel",
   "id": "9751f55cd4ad964b"
  },
  {
   "metadata": {
    "ExecuteTime": {
     "end_time": "2024-07-02T12:58:54.423530Z",
     "start_time": "2024-07-02T12:58:54.084582Z"
    }
   },
   "cell_type": "code",
   "source": [
    "arquivo = \"Alunos.xlsx\"\n",
    "\n",
    "# Carregando o arquivo\n",
    "xls = pd.ExcelFile(arquivo)\n",
    "\n",
    "# Verificando as planilhas (sheets) do arquivo\n",
    "print(xls.sheet_names)"
   ],
   "id": "ac26ba031dfc83e9",
   "outputs": [
    {
     "name": "stdout",
     "output_type": "stream",
     "text": [
      "['Alunos', 'Notas', 'Trimestre']\n"
     ]
    }
   ],
   "execution_count": 20
  },
  {
   "metadata": {
    "ExecuteTime": {
     "end_time": "2024-07-02T12:59:16.497616Z",
     "start_time": "2024-07-02T12:59:16.481784Z"
    }
   },
   "cell_type": "code",
   "source": [
    "# Carregando a planilha na variável alunos\n",
    "alunos = xls.parse('Alunos')\n",
    "\n",
    "# Exibindo as primeiras linhas do DataFrame\n",
    "alunos.head()"
   ],
   "id": "d20b63018842f9c2",
   "outputs": [
    {
     "data": {
      "text/plain": [
       "   Alunos\n",
       "0     Ana\n",
       "1   Clara\n",
       "2   Célia\n",
       "3    João\n",
       "4  Carlos"
      ],
      "text/html": [
       "<div>\n",
       "<style scoped>\n",
       "    .dataframe tbody tr th:only-of-type {\n",
       "        vertical-align: middle;\n",
       "    }\n",
       "\n",
       "    .dataframe tbody tr th {\n",
       "        vertical-align: top;\n",
       "    }\n",
       "\n",
       "    .dataframe thead th {\n",
       "        text-align: right;\n",
       "    }\n",
       "</style>\n",
       "<table border=\"1\" class=\"dataframe\">\n",
       "  <thead>\n",
       "    <tr style=\"text-align: right;\">\n",
       "      <th></th>\n",
       "      <th>Alunos</th>\n",
       "    </tr>\n",
       "  </thead>\n",
       "  <tbody>\n",
       "    <tr>\n",
       "      <th>0</th>\n",
       "      <td>Ana</td>\n",
       "    </tr>\n",
       "    <tr>\n",
       "      <th>1</th>\n",
       "      <td>Clara</td>\n",
       "    </tr>\n",
       "    <tr>\n",
       "      <th>2</th>\n",
       "      <td>Célia</td>\n",
       "    </tr>\n",
       "    <tr>\n",
       "      <th>3</th>\n",
       "      <td>João</td>\n",
       "    </tr>\n",
       "    <tr>\n",
       "      <th>4</th>\n",
       "      <td>Carlos</td>\n",
       "    </tr>\n",
       "  </tbody>\n",
       "</table>\n",
       "</div>"
      ]
     },
     "execution_count": 21,
     "metadata": {},
     "output_type": "execute_result"
    }
   ],
   "execution_count": 21
  },
  {
   "metadata": {
    "ExecuteTime": {
     "end_time": "2024-07-02T12:59:21.120499Z",
     "start_time": "2024-07-02T12:59:21.114208Z"
    }
   },
   "cell_type": "code",
   "source": "type(alunos)",
   "id": "7b83bd8f275b4831",
   "outputs": [
    {
     "data": {
      "text/plain": [
       "pandas.core.frame.DataFrame"
      ]
     },
     "execution_count": 22,
     "metadata": {},
     "output_type": "execute_result"
    }
   ],
   "execution_count": 22
  },
  {
   "metadata": {
    "ExecuteTime": {
     "end_time": "2024-07-02T12:59:30.497980Z",
     "start_time": "2024-07-02T12:59:29.783436Z"
    }
   },
   "cell_type": "code",
   "source": [
    "# Tentando trazer a linha no índice 1\n",
    "alunos[1]"
   ],
   "id": "48c41d4ff5a91ee1",
   "outputs": [
    {
     "ename": "KeyError",
     "evalue": "1",
     "output_type": "error",
     "traceback": [
      "\u001B[1;31m---------------------------------------------------------------------------\u001B[0m",
      "\u001B[1;31mKeyError\u001B[0m                                  Traceback (most recent call last)",
      "File \u001B[1;32mD:\\WorkSpace\\Github\\Data_Science_de_A_a_Z_Extracao_e_Exibicao_dos_Dados\\venv\\Lib\\site-packages\\pandas\\core\\indexes\\base.py:3791\u001B[0m, in \u001B[0;36mIndex.get_loc\u001B[1;34m(self, key)\u001B[0m\n\u001B[0;32m   3790\u001B[0m \u001B[38;5;28;01mtry\u001B[39;00m:\n\u001B[1;32m-> 3791\u001B[0m     \u001B[38;5;28;01mreturn\u001B[39;00m \u001B[38;5;28;43mself\u001B[39;49m\u001B[38;5;241;43m.\u001B[39;49m\u001B[43m_engine\u001B[49m\u001B[38;5;241;43m.\u001B[39;49m\u001B[43mget_loc\u001B[49m\u001B[43m(\u001B[49m\u001B[43mcasted_key\u001B[49m\u001B[43m)\u001B[49m\n\u001B[0;32m   3792\u001B[0m \u001B[38;5;28;01mexcept\u001B[39;00m \u001B[38;5;167;01mKeyError\u001B[39;00m \u001B[38;5;28;01mas\u001B[39;00m err:\n",
      "File \u001B[1;32mindex.pyx:152\u001B[0m, in \u001B[0;36mpandas._libs.index.IndexEngine.get_loc\u001B[1;34m()\u001B[0m\n",
      "File \u001B[1;32mindex.pyx:181\u001B[0m, in \u001B[0;36mpandas._libs.index.IndexEngine.get_loc\u001B[1;34m()\u001B[0m\n",
      "File \u001B[1;32mpandas\\_libs\\hashtable_class_helper.pxi:7080\u001B[0m, in \u001B[0;36mpandas._libs.hashtable.PyObjectHashTable.get_item\u001B[1;34m()\u001B[0m\n",
      "File \u001B[1;32mpandas\\_libs\\hashtable_class_helper.pxi:7088\u001B[0m, in \u001B[0;36mpandas._libs.hashtable.PyObjectHashTable.get_item\u001B[1;34m()\u001B[0m\n",
      "\u001B[1;31mKeyError\u001B[0m: 1",
      "\nThe above exception was the direct cause of the following exception:\n",
      "\u001B[1;31mKeyError\u001B[0m                                  Traceback (most recent call last)",
      "Cell \u001B[1;32mIn[23], line 2\u001B[0m\n\u001B[0;32m      1\u001B[0m \u001B[38;5;66;03m# Tentando trazer a linha no índice 1\u001B[39;00m\n\u001B[1;32m----> 2\u001B[0m \u001B[43malunos\u001B[49m\u001B[43m[\u001B[49m\u001B[38;5;241;43m1\u001B[39;49m\u001B[43m]\u001B[49m\n",
      "File \u001B[1;32mD:\\WorkSpace\\Github\\Data_Science_de_A_a_Z_Extracao_e_Exibicao_dos_Dados\\venv\\Lib\\site-packages\\pandas\\core\\frame.py:3893\u001B[0m, in \u001B[0;36mDataFrame.__getitem__\u001B[1;34m(self, key)\u001B[0m\n\u001B[0;32m   3891\u001B[0m \u001B[38;5;28;01mif\u001B[39;00m \u001B[38;5;28mself\u001B[39m\u001B[38;5;241m.\u001B[39mcolumns\u001B[38;5;241m.\u001B[39mnlevels \u001B[38;5;241m>\u001B[39m \u001B[38;5;241m1\u001B[39m:\n\u001B[0;32m   3892\u001B[0m     \u001B[38;5;28;01mreturn\u001B[39;00m \u001B[38;5;28mself\u001B[39m\u001B[38;5;241m.\u001B[39m_getitem_multilevel(key)\n\u001B[1;32m-> 3893\u001B[0m indexer \u001B[38;5;241m=\u001B[39m \u001B[38;5;28;43mself\u001B[39;49m\u001B[38;5;241;43m.\u001B[39;49m\u001B[43mcolumns\u001B[49m\u001B[38;5;241;43m.\u001B[39;49m\u001B[43mget_loc\u001B[49m\u001B[43m(\u001B[49m\u001B[43mkey\u001B[49m\u001B[43m)\u001B[49m\n\u001B[0;32m   3894\u001B[0m \u001B[38;5;28;01mif\u001B[39;00m is_integer(indexer):\n\u001B[0;32m   3895\u001B[0m     indexer \u001B[38;5;241m=\u001B[39m [indexer]\n",
      "File \u001B[1;32mD:\\WorkSpace\\Github\\Data_Science_de_A_a_Z_Extracao_e_Exibicao_dos_Dados\\venv\\Lib\\site-packages\\pandas\\core\\indexes\\base.py:3798\u001B[0m, in \u001B[0;36mIndex.get_loc\u001B[1;34m(self, key)\u001B[0m\n\u001B[0;32m   3793\u001B[0m     \u001B[38;5;28;01mif\u001B[39;00m \u001B[38;5;28misinstance\u001B[39m(casted_key, \u001B[38;5;28mslice\u001B[39m) \u001B[38;5;129;01mor\u001B[39;00m (\n\u001B[0;32m   3794\u001B[0m         \u001B[38;5;28misinstance\u001B[39m(casted_key, abc\u001B[38;5;241m.\u001B[39mIterable)\n\u001B[0;32m   3795\u001B[0m         \u001B[38;5;129;01mand\u001B[39;00m \u001B[38;5;28many\u001B[39m(\u001B[38;5;28misinstance\u001B[39m(x, \u001B[38;5;28mslice\u001B[39m) \u001B[38;5;28;01mfor\u001B[39;00m x \u001B[38;5;129;01min\u001B[39;00m casted_key)\n\u001B[0;32m   3796\u001B[0m     ):\n\u001B[0;32m   3797\u001B[0m         \u001B[38;5;28;01mraise\u001B[39;00m InvalidIndexError(key)\n\u001B[1;32m-> 3798\u001B[0m     \u001B[38;5;28;01mraise\u001B[39;00m \u001B[38;5;167;01mKeyError\u001B[39;00m(key) \u001B[38;5;28;01mfrom\u001B[39;00m \u001B[38;5;21;01merr\u001B[39;00m\n\u001B[0;32m   3799\u001B[0m \u001B[38;5;28;01mexcept\u001B[39;00m \u001B[38;5;167;01mTypeError\u001B[39;00m:\n\u001B[0;32m   3800\u001B[0m     \u001B[38;5;66;03m# If we have a listlike key, _check_indexing_error will raise\u001B[39;00m\n\u001B[0;32m   3801\u001B[0m     \u001B[38;5;66;03m#  InvalidIndexError. Otherwise we fall through and re-raise\u001B[39;00m\n\u001B[0;32m   3802\u001B[0m     \u001B[38;5;66;03m#  the TypeError.\u001B[39;00m\n\u001B[0;32m   3803\u001B[0m     \u001B[38;5;28mself\u001B[39m\u001B[38;5;241m.\u001B[39m_check_indexing_error(key)\n",
      "\u001B[1;31mKeyError\u001B[0m: 1"
     ]
    }
   ],
   "execution_count": 23
  },
  {
   "metadata": {},
   "cell_type": "markdown",
   "source": "## Ao ler de um arquivo, o Pandas tratará tudo (tipo) como DataFrame",
   "id": "56e348c9c22ee4e"
  },
  {
   "metadata": {
    "ExecuteTime": {
     "end_time": "2024-07-02T13:02:06.750240Z",
     "start_time": "2024-07-02T13:02:06.740062Z"
    }
   },
   "cell_type": "code",
   "source": "alunos",
   "id": "11594d47ea0fe668",
   "outputs": [
    {
     "data": {
      "text/plain": [
       "    Alunos\n",
       "0      Ana\n",
       "1    Clara\n",
       "2    Célia\n",
       "3     João\n",
       "4   Carlos\n",
       "5    Jorge\n",
       "6   Lilian\n",
       "7  Antônio"
      ],
      "text/html": [
       "<div>\n",
       "<style scoped>\n",
       "    .dataframe tbody tr th:only-of-type {\n",
       "        vertical-align: middle;\n",
       "    }\n",
       "\n",
       "    .dataframe tbody tr th {\n",
       "        vertical-align: top;\n",
       "    }\n",
       "\n",
       "    .dataframe thead th {\n",
       "        text-align: right;\n",
       "    }\n",
       "</style>\n",
       "<table border=\"1\" class=\"dataframe\">\n",
       "  <thead>\n",
       "    <tr style=\"text-align: right;\">\n",
       "      <th></th>\n",
       "      <th>Alunos</th>\n",
       "    </tr>\n",
       "  </thead>\n",
       "  <tbody>\n",
       "    <tr>\n",
       "      <th>0</th>\n",
       "      <td>Ana</td>\n",
       "    </tr>\n",
       "    <tr>\n",
       "      <th>1</th>\n",
       "      <td>Clara</td>\n",
       "    </tr>\n",
       "    <tr>\n",
       "      <th>2</th>\n",
       "      <td>Célia</td>\n",
       "    </tr>\n",
       "    <tr>\n",
       "      <th>3</th>\n",
       "      <td>João</td>\n",
       "    </tr>\n",
       "    <tr>\n",
       "      <th>4</th>\n",
       "      <td>Carlos</td>\n",
       "    </tr>\n",
       "    <tr>\n",
       "      <th>5</th>\n",
       "      <td>Jorge</td>\n",
       "    </tr>\n",
       "    <tr>\n",
       "      <th>6</th>\n",
       "      <td>Lilian</td>\n",
       "    </tr>\n",
       "    <tr>\n",
       "      <th>7</th>\n",
       "      <td>Antônio</td>\n",
       "    </tr>\n",
       "  </tbody>\n",
       "</table>\n",
       "</div>"
      ]
     },
     "execution_count": 24,
     "metadata": {},
     "output_type": "execute_result"
    }
   ],
   "execution_count": 24
  },
  {
   "metadata": {
    "ExecuteTime": {
     "end_time": "2024-07-02T13:02:23.223950Z",
     "start_time": "2024-07-02T13:02:23.205655Z"
    }
   },
   "cell_type": "code",
   "source": [
    "# Em Dataframes os índices são as colunas\n",
    "alunos['Alunos'][1]"
   ],
   "id": "d91e8f10f48eca6f",
   "outputs": [
    {
     "data": {
      "text/plain": [
       "'Clara'"
      ]
     },
     "execution_count": 25,
     "metadata": {},
     "output_type": "execute_result"
    }
   ],
   "execution_count": 25
  },
  {
   "metadata": {
    "ExecuteTime": {
     "end_time": "2024-07-02T13:02:53.862292Z",
     "start_time": "2024-07-02T13:02:53.855680Z"
    }
   },
   "cell_type": "code",
   "source": [
    "# Dot Notation\n",
    "alunos.Alunos[1]"
   ],
   "id": "d66cb4f15e28b693",
   "outputs": [
    {
     "data": {
      "text/plain": [
       "'Clara'"
      ]
     },
     "execution_count": 26,
     "metadata": {},
     "output_type": "execute_result"
    }
   ],
   "execution_count": 26
  },
  {
   "metadata": {},
   "cell_type": "markdown",
   "source": "## Dot Notation X Colchetes?",
   "id": "4af876336196008e"
  },
  {
   "metadata": {
    "ExecuteTime": {
     "end_time": "2024-07-02T13:04:02.895546Z",
     "start_time": "2024-07-02T13:04:02.876908Z"
    }
   },
   "cell_type": "code",
   "source": [
    "alunos =  xls.parse('Trimestre')\n",
    "\n",
    "# Exibindo as primeiras linhas do DataFrame\n",
    "alunos.head()"
   ],
   "id": "f9edb75a25e55f32",
   "outputs": [
    {
     "data": {
      "text/plain": [
       "   Alunos  Sobrenome  Mês 01  Mês 02  Mês 03\n",
       "0     Ana     Santos     5.7     6.8     4.6\n",
       "1   Clara      Mafra     9.9     7.0     9.0\n",
       "2   Célia    Tavares     8.0     8.0     9.0\n",
       "3    João      Nunes     9.9     9.0     8.0\n",
       "4  Carlos  Guilherme     7.0     7.5     6.0"
      ],
      "text/html": [
       "<div>\n",
       "<style scoped>\n",
       "    .dataframe tbody tr th:only-of-type {\n",
       "        vertical-align: middle;\n",
       "    }\n",
       "\n",
       "    .dataframe tbody tr th {\n",
       "        vertical-align: top;\n",
       "    }\n",
       "\n",
       "    .dataframe thead th {\n",
       "        text-align: right;\n",
       "    }\n",
       "</style>\n",
       "<table border=\"1\" class=\"dataframe\">\n",
       "  <thead>\n",
       "    <tr style=\"text-align: right;\">\n",
       "      <th></th>\n",
       "      <th>Alunos</th>\n",
       "      <th>Sobrenome</th>\n",
       "      <th>Mês 01</th>\n",
       "      <th>Mês 02</th>\n",
       "      <th>Mês 03</th>\n",
       "    </tr>\n",
       "  </thead>\n",
       "  <tbody>\n",
       "    <tr>\n",
       "      <th>0</th>\n",
       "      <td>Ana</td>\n",
       "      <td>Santos</td>\n",
       "      <td>5.7</td>\n",
       "      <td>6.8</td>\n",
       "      <td>4.6</td>\n",
       "    </tr>\n",
       "    <tr>\n",
       "      <th>1</th>\n",
       "      <td>Clara</td>\n",
       "      <td>Mafra</td>\n",
       "      <td>9.9</td>\n",
       "      <td>7.0</td>\n",
       "      <td>9.0</td>\n",
       "    </tr>\n",
       "    <tr>\n",
       "      <th>2</th>\n",
       "      <td>Célia</td>\n",
       "      <td>Tavares</td>\n",
       "      <td>8.0</td>\n",
       "      <td>8.0</td>\n",
       "      <td>9.0</td>\n",
       "    </tr>\n",
       "    <tr>\n",
       "      <th>3</th>\n",
       "      <td>João</td>\n",
       "      <td>Nunes</td>\n",
       "      <td>9.9</td>\n",
       "      <td>9.0</td>\n",
       "      <td>8.0</td>\n",
       "    </tr>\n",
       "    <tr>\n",
       "      <th>4</th>\n",
       "      <td>Carlos</td>\n",
       "      <td>Guilherme</td>\n",
       "      <td>7.0</td>\n",
       "      <td>7.5</td>\n",
       "      <td>6.0</td>\n",
       "    </tr>\n",
       "  </tbody>\n",
       "</table>\n",
       "</div>"
      ]
     },
     "execution_count": 27,
     "metadata": {},
     "output_type": "execute_result"
    }
   ],
   "execution_count": 27
  },
  {
   "metadata": {
    "ExecuteTime": {
     "end_time": "2024-07-02T13:04:18.808952Z",
     "start_time": "2024-07-02T13:04:18.801407Z"
    }
   },
   "cell_type": "code",
   "source": "alunos[\"Mês 01\"][1]",
   "id": "589e22db4443eaa5",
   "outputs": [
    {
     "data": {
      "text/plain": [
       "9.9"
      ]
     },
     "execution_count": 28,
     "metadata": {},
     "output_type": "execute_result"
    }
   ],
   "execution_count": 28
  },
  {
   "metadata": {
    "ExecuteTime": {
     "end_time": "2024-07-02T13:05:03.034988Z",
     "start_time": "2024-07-02T13:05:03.026771Z"
    }
   },
   "cell_type": "code",
   "source": [
    "# Utilize o TAB para completar o código\n",
    "alunos.Sobrenome[1]"
   ],
   "id": "ec06d860b568b399",
   "outputs": [
    {
     "data": {
      "text/plain": [
       "'Mafra'"
      ]
     },
     "execution_count": 29,
     "metadata": {},
     "output_type": "execute_result"
    }
   ],
   "execution_count": 29
  },
  {
   "metadata": {
    "ExecuteTime": {
     "end_time": "2024-07-02T13:05:57.553165Z",
     "start_time": "2024-07-02T13:05:57.546609Z"
    }
   },
   "cell_type": "code",
   "source": [
    "# Índice de linhas\n",
    "alunos.index"
   ],
   "id": "5637ef1898b051a",
   "outputs": [
    {
     "data": {
      "text/plain": [
       "RangeIndex(start=0, stop=8, step=1)"
      ]
     },
     "execution_count": 30,
     "metadata": {},
     "output_type": "execute_result"
    }
   ],
   "execution_count": 30
  },
  {
   "metadata": {
    "ExecuteTime": {
     "end_time": "2024-07-02T13:06:01.467448Z",
     "start_time": "2024-07-02T13:06:01.451183Z"
    }
   },
   "cell_type": "code",
   "source": [
    "# Tamanho do DataFrame\n",
    "alunos.shape"
   ],
   "id": "6a9490fb1eb804b0",
   "outputs": [
    {
     "data": {
      "text/plain": [
       "(8, 5)"
      ]
     },
     "execution_count": 31,
     "metadata": {},
     "output_type": "execute_result"
    }
   ],
   "execution_count": 31
  },
  {
   "metadata": {
    "ExecuteTime": {
     "end_time": "2024-07-02T13:06:11.252102Z",
     "start_time": "2024-07-02T13:06:11.238186Z"
    }
   },
   "cell_type": "code",
   "source": [
    "# Verificando as colunas\n",
    "alunos.columns"
   ],
   "id": "16de03df06142a59",
   "outputs": [
    {
     "data": {
      "text/plain": [
       "Index(['Alunos', 'Sobrenome', 'Mês 01', 'Mês 02', 'Mês 03'], dtype='object')"
      ]
     },
     "execution_count": 32,
     "metadata": {},
     "output_type": "execute_result"
    }
   ],
   "execution_count": 32
  },
  {
   "metadata": {},
   "cell_type": "markdown",
   "source": "## Criando uma nova série em um DataFrame",
   "id": "a6d53f54869da463"
  },
  {
   "metadata": {
    "ExecuteTime": {
     "end_time": "2024-07-02T13:07:34.154806Z",
     "start_time": "2024-07-02T13:07:34.143407Z"
    }
   },
   "cell_type": "code",
   "source": [
    "# Criando uma nova série\n",
    "'João' + ' ' + 'Nunes'"
   ],
   "id": "6174a0802a2ef7d1",
   "outputs": [
    {
     "data": {
      "text/plain": [
       "'João Nunes'"
      ]
     },
     "execution_count": 33,
     "metadata": {},
     "output_type": "execute_result"
    }
   ],
   "execution_count": 33
  },
  {
   "metadata": {
    "ExecuteTime": {
     "end_time": "2024-07-02T13:07:42.983329Z",
     "start_time": "2024-07-02T13:07:42.979021Z"
    }
   },
   "cell_type": "code",
   "source": "alunos['Nome Completo'] = alunos['Alunos'] + ' ' + alunos['Sobrenome']",
   "id": "2749f23df4abae5f",
   "outputs": [],
   "execution_count": 34
  },
  {
   "metadata": {
    "ExecuteTime": {
     "end_time": "2024-07-02T13:07:44.233481Z",
     "start_time": "2024-07-02T13:07:44.222708Z"
    }
   },
   "cell_type": "code",
   "source": "alunos",
   "id": "3f7f2d1f106b44f0",
   "outputs": [
    {
     "data": {
      "text/plain": [
       "    Alunos  Sobrenome  Mês 01  Mês 02  Mês 03     Nome Completo\n",
       "0      Ana     Santos     5.7     6.8     4.6        Ana Santos\n",
       "1    Clara      Mafra     9.9     7.0     9.0       Clara Mafra\n",
       "2    Célia    Tavares     8.0     8.0     9.0     Célia Tavares\n",
       "3     João      Nunes     9.9     9.0     8.0        João Nunes\n",
       "4   Carlos  Guilherme     7.0     7.5     6.0  Carlos Guilherme\n",
       "5    Jorge      Silva     6.8     7.0     5.0       Jorge Silva\n",
       "6   Lilian     Vianna     7.8     8.0     8.5     Lilian Vianna\n",
       "7  Antônio      Costa     7.0     6.5     6.0     Antônio Costa"
      ],
      "text/html": [
       "<div>\n",
       "<style scoped>\n",
       "    .dataframe tbody tr th:only-of-type {\n",
       "        vertical-align: middle;\n",
       "    }\n",
       "\n",
       "    .dataframe tbody tr th {\n",
       "        vertical-align: top;\n",
       "    }\n",
       "\n",
       "    .dataframe thead th {\n",
       "        text-align: right;\n",
       "    }\n",
       "</style>\n",
       "<table border=\"1\" class=\"dataframe\">\n",
       "  <thead>\n",
       "    <tr style=\"text-align: right;\">\n",
       "      <th></th>\n",
       "      <th>Alunos</th>\n",
       "      <th>Sobrenome</th>\n",
       "      <th>Mês 01</th>\n",
       "      <th>Mês 02</th>\n",
       "      <th>Mês 03</th>\n",
       "      <th>Nome Completo</th>\n",
       "    </tr>\n",
       "  </thead>\n",
       "  <tbody>\n",
       "    <tr>\n",
       "      <th>0</th>\n",
       "      <td>Ana</td>\n",
       "      <td>Santos</td>\n",
       "      <td>5.7</td>\n",
       "      <td>6.8</td>\n",
       "      <td>4.6</td>\n",
       "      <td>Ana Santos</td>\n",
       "    </tr>\n",
       "    <tr>\n",
       "      <th>1</th>\n",
       "      <td>Clara</td>\n",
       "      <td>Mafra</td>\n",
       "      <td>9.9</td>\n",
       "      <td>7.0</td>\n",
       "      <td>9.0</td>\n",
       "      <td>Clara Mafra</td>\n",
       "    </tr>\n",
       "    <tr>\n",
       "      <th>2</th>\n",
       "      <td>Célia</td>\n",
       "      <td>Tavares</td>\n",
       "      <td>8.0</td>\n",
       "      <td>8.0</td>\n",
       "      <td>9.0</td>\n",
       "      <td>Célia Tavares</td>\n",
       "    </tr>\n",
       "    <tr>\n",
       "      <th>3</th>\n",
       "      <td>João</td>\n",
       "      <td>Nunes</td>\n",
       "      <td>9.9</td>\n",
       "      <td>9.0</td>\n",
       "      <td>8.0</td>\n",
       "      <td>João Nunes</td>\n",
       "    </tr>\n",
       "    <tr>\n",
       "      <th>4</th>\n",
       "      <td>Carlos</td>\n",
       "      <td>Guilherme</td>\n",
       "      <td>7.0</td>\n",
       "      <td>7.5</td>\n",
       "      <td>6.0</td>\n",
       "      <td>Carlos Guilherme</td>\n",
       "    </tr>\n",
       "    <tr>\n",
       "      <th>5</th>\n",
       "      <td>Jorge</td>\n",
       "      <td>Silva</td>\n",
       "      <td>6.8</td>\n",
       "      <td>7.0</td>\n",
       "      <td>5.0</td>\n",
       "      <td>Jorge Silva</td>\n",
       "    </tr>\n",
       "    <tr>\n",
       "      <th>6</th>\n",
       "      <td>Lilian</td>\n",
       "      <td>Vianna</td>\n",
       "      <td>7.8</td>\n",
       "      <td>8.0</td>\n",
       "      <td>8.5</td>\n",
       "      <td>Lilian Vianna</td>\n",
       "    </tr>\n",
       "    <tr>\n",
       "      <th>7</th>\n",
       "      <td>Antônio</td>\n",
       "      <td>Costa</td>\n",
       "      <td>7.0</td>\n",
       "      <td>6.5</td>\n",
       "      <td>6.0</td>\n",
       "      <td>Antônio Costa</td>\n",
       "    </tr>\n",
       "  </tbody>\n",
       "</table>\n",
       "</div>"
      ]
     },
     "execution_count": 35,
     "metadata": {},
     "output_type": "execute_result"
    }
   ],
   "execution_count": 35
  },
  {
   "metadata": {
    "ExecuteTime": {
     "end_time": "2024-07-02T13:07:51.813608Z",
     "start_time": "2024-07-02T13:07:51.806343Z"
    }
   },
   "cell_type": "code",
   "source": "alunos['Nome Completo'] = alunos.Alunos + ' ' + alunos.Sobrenome",
   "id": "28574599941fe347",
   "outputs": [],
   "execution_count": 36
  },
  {
   "metadata": {
    "ExecuteTime": {
     "end_time": "2024-07-02T13:07:52.468807Z",
     "start_time": "2024-07-02T13:07:52.456139Z"
    }
   },
   "cell_type": "code",
   "source": "alunos",
   "id": "a811510f087295c2",
   "outputs": [
    {
     "data": {
      "text/plain": [
       "    Alunos  Sobrenome  Mês 01  Mês 02  Mês 03     Nome Completo\n",
       "0      Ana     Santos     5.7     6.8     4.6        Ana Santos\n",
       "1    Clara      Mafra     9.9     7.0     9.0       Clara Mafra\n",
       "2    Célia    Tavares     8.0     8.0     9.0     Célia Tavares\n",
       "3     João      Nunes     9.9     9.0     8.0        João Nunes\n",
       "4   Carlos  Guilherme     7.0     7.5     6.0  Carlos Guilherme\n",
       "5    Jorge      Silva     6.8     7.0     5.0       Jorge Silva\n",
       "6   Lilian     Vianna     7.8     8.0     8.5     Lilian Vianna\n",
       "7  Antônio      Costa     7.0     6.5     6.0     Antônio Costa"
      ],
      "text/html": [
       "<div>\n",
       "<style scoped>\n",
       "    .dataframe tbody tr th:only-of-type {\n",
       "        vertical-align: middle;\n",
       "    }\n",
       "\n",
       "    .dataframe tbody tr th {\n",
       "        vertical-align: top;\n",
       "    }\n",
       "\n",
       "    .dataframe thead th {\n",
       "        text-align: right;\n",
       "    }\n",
       "</style>\n",
       "<table border=\"1\" class=\"dataframe\">\n",
       "  <thead>\n",
       "    <tr style=\"text-align: right;\">\n",
       "      <th></th>\n",
       "      <th>Alunos</th>\n",
       "      <th>Sobrenome</th>\n",
       "      <th>Mês 01</th>\n",
       "      <th>Mês 02</th>\n",
       "      <th>Mês 03</th>\n",
       "      <th>Nome Completo</th>\n",
       "    </tr>\n",
       "  </thead>\n",
       "  <tbody>\n",
       "    <tr>\n",
       "      <th>0</th>\n",
       "      <td>Ana</td>\n",
       "      <td>Santos</td>\n",
       "      <td>5.7</td>\n",
       "      <td>6.8</td>\n",
       "      <td>4.6</td>\n",
       "      <td>Ana Santos</td>\n",
       "    </tr>\n",
       "    <tr>\n",
       "      <th>1</th>\n",
       "      <td>Clara</td>\n",
       "      <td>Mafra</td>\n",
       "      <td>9.9</td>\n",
       "      <td>7.0</td>\n",
       "      <td>9.0</td>\n",
       "      <td>Clara Mafra</td>\n",
       "    </tr>\n",
       "    <tr>\n",
       "      <th>2</th>\n",
       "      <td>Célia</td>\n",
       "      <td>Tavares</td>\n",
       "      <td>8.0</td>\n",
       "      <td>8.0</td>\n",
       "      <td>9.0</td>\n",
       "      <td>Célia Tavares</td>\n",
       "    </tr>\n",
       "    <tr>\n",
       "      <th>3</th>\n",
       "      <td>João</td>\n",
       "      <td>Nunes</td>\n",
       "      <td>9.9</td>\n",
       "      <td>9.0</td>\n",
       "      <td>8.0</td>\n",
       "      <td>João Nunes</td>\n",
       "    </tr>\n",
       "    <tr>\n",
       "      <th>4</th>\n",
       "      <td>Carlos</td>\n",
       "      <td>Guilherme</td>\n",
       "      <td>7.0</td>\n",
       "      <td>7.5</td>\n",
       "      <td>6.0</td>\n",
       "      <td>Carlos Guilherme</td>\n",
       "    </tr>\n",
       "    <tr>\n",
       "      <th>5</th>\n",
       "      <td>Jorge</td>\n",
       "      <td>Silva</td>\n",
       "      <td>6.8</td>\n",
       "      <td>7.0</td>\n",
       "      <td>5.0</td>\n",
       "      <td>Jorge Silva</td>\n",
       "    </tr>\n",
       "    <tr>\n",
       "      <th>6</th>\n",
       "      <td>Lilian</td>\n",
       "      <td>Vianna</td>\n",
       "      <td>7.8</td>\n",
       "      <td>8.0</td>\n",
       "      <td>8.5</td>\n",
       "      <td>Lilian Vianna</td>\n",
       "    </tr>\n",
       "    <tr>\n",
       "      <th>7</th>\n",
       "      <td>Antônio</td>\n",
       "      <td>Costa</td>\n",
       "      <td>7.0</td>\n",
       "      <td>6.5</td>\n",
       "      <td>6.0</td>\n",
       "      <td>Antônio Costa</td>\n",
       "    </tr>\n",
       "  </tbody>\n",
       "</table>\n",
       "</div>"
      ]
     },
     "execution_count": 37,
     "metadata": {},
     "output_type": "execute_result"
    }
   ],
   "execution_count": 37
  }
 ],
 "metadata": {
  "kernelspec": {
   "display_name": "Python 3 (ipykernel)",
   "language": "python",
   "name": "python3"
  },
  "language_info": {
   "codemirror_mode": {
    "name": "ipython",
    "version": 3
   },
   "file_extension": ".py",
   "mimetype": "text/x-python",
   "name": "python",
   "nbconvert_exporter": "python",
   "pygments_lexer": "ipython3",
   "version": "3.12.1"
  }
 },
 "nbformat": 4,
 "nbformat_minor": 5
}
