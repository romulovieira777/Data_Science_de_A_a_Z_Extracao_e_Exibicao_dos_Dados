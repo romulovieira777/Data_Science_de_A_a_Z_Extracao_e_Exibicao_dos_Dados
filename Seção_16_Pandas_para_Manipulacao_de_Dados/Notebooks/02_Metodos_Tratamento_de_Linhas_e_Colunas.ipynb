{
 "cells": [
  {
   "cell_type": "code",
   "id": "initial_id",
   "metadata": {
    "collapsed": true,
    "ExecuteTime": {
     "end_time": "2024-08-27T20:07:39.795733Z",
     "start_time": "2024-08-27T20:07:36.514646Z"
    }
   },
   "source": [
    "import numpy as np\n",
    "import pandas as pd"
   ],
   "outputs": [],
   "execution_count": 1
  },
  {
   "metadata": {
    "ExecuteTime": {
     "end_time": "2024-08-27T20:10:27.196916Z",
     "start_time": "2024-08-27T20:10:26.963851Z"
    }
   },
   "cell_type": "code",
   "source": [
    "file = \"D:\\WorkSpace\\Github\\Data_Science_de_A_a_Z_Extracao_e_Exibicao_dos_Dados\\Seção_16_Pandas_para_Manipulacao_de_Dados\\Dataset\\Diarias.csv\"\n",
    "diarias = pd.read_csv(file, sep=\"\\t\")\n",
    "diarias.head(6)"
   ],
   "id": "68fea20bab315d63",
   "outputs": [
    {
     "name": "stderr",
     "output_type": "stream",
     "text": [
      "<>:1: SyntaxWarning: invalid escape sequence '\\W'\n",
      "<>:1: SyntaxWarning: invalid escape sequence '\\W'\n",
      "C:\\Users\\Romulo Vieira\\AppData\\Local\\Temp\\ipykernel_13908\\1364994719.py:1: SyntaxWarning: invalid escape sequence '\\W'\n",
      "  file = \"D:\\WorkSpace\\Github\\Data_Science_de_A_a_Z_Extracao_e_Exibicao_dos_Dados\\Seção_16_Pandas_para_Manipulacao_de_Dados\\Dataset\\Diarias.csv\"\n",
      "C:\\Users\\Romulo Vieira\\AppData\\Local\\Temp\\ipykernel_13908\\1364994719.py:1: SyntaxWarning: invalid escape sequence '\\W'\n",
      "  file = \"D:\\WorkSpace\\Github\\Data_Science_de_A_a_Z_Extracao_e_Exibicao_dos_Dados\\Seção_16_Pandas_para_Manipulacao_de_Dados\\Dataset\\Diarias.csv\"\n"
     ]
    },
    {
     "ename": "UnicodeDecodeError",
     "evalue": "'utf-8' codec can't decode byte 0xf3 in position 1: invalid continuation byte",
     "output_type": "error",
     "traceback": [
      "\u001B[1;31m---------------------------------------------------------------------------\u001B[0m",
      "\u001B[1;31mUnicodeDecodeError\u001B[0m                        Traceback (most recent call last)",
      "Cell \u001B[1;32mIn[3], line 2\u001B[0m\n\u001B[0;32m      1\u001B[0m file \u001B[38;5;241m=\u001B[39m \u001B[38;5;124m\"\u001B[39m\u001B[38;5;124mD:\u001B[39m\u001B[38;5;124m\\\u001B[39m\u001B[38;5;124mWorkSpace\u001B[39m\u001B[38;5;124m\\\u001B[39m\u001B[38;5;124mGithub\u001B[39m\u001B[38;5;124m\\\u001B[39m\u001B[38;5;124mData_Science_de_A_a_Z_Extracao_e_Exibicao_dos_Dados\u001B[39m\u001B[38;5;124m\\\u001B[39m\u001B[38;5;124mSeção_16_Pandas_para_Manipulacao_de_Dados\u001B[39m\u001B[38;5;124m\\\u001B[39m\u001B[38;5;124mDataset\u001B[39m\u001B[38;5;124m\\\u001B[39m\u001B[38;5;124mDiarias.csv\u001B[39m\u001B[38;5;124m\"\u001B[39m\n\u001B[1;32m----> 2\u001B[0m diarias \u001B[38;5;241m=\u001B[39m \u001B[43mpd\u001B[49m\u001B[38;5;241;43m.\u001B[39;49m\u001B[43mread_csv\u001B[49m\u001B[43m(\u001B[49m\u001B[43mfile\u001B[49m\u001B[43m,\u001B[49m\u001B[43m \u001B[49m\u001B[43msep\u001B[49m\u001B[38;5;241;43m=\u001B[39;49m\u001B[38;5;124;43m\"\u001B[39;49m\u001B[38;5;130;43;01m\\t\u001B[39;49;00m\u001B[38;5;124;43m\"\u001B[39;49m\u001B[43m)\u001B[49m\n\u001B[0;32m      3\u001B[0m diarias\u001B[38;5;241m.\u001B[39mhead(\u001B[38;5;241m6\u001B[39m)\n",
      "File \u001B[1;32mD:\\WorkSpace\\Github\\Data_Science_de_A_a_Z_Extracao_e_Exibicao_dos_Dados\\venv\\Lib\\site-packages\\pandas\\io\\parsers\\readers.py:948\u001B[0m, in \u001B[0;36mread_csv\u001B[1;34m(filepath_or_buffer, sep, delimiter, header, names, index_col, usecols, dtype, engine, converters, true_values, false_values, skipinitialspace, skiprows, skipfooter, nrows, na_values, keep_default_na, na_filter, verbose, skip_blank_lines, parse_dates, infer_datetime_format, keep_date_col, date_parser, date_format, dayfirst, cache_dates, iterator, chunksize, compression, thousands, decimal, lineterminator, quotechar, quoting, doublequote, escapechar, comment, encoding, encoding_errors, dialect, on_bad_lines, delim_whitespace, low_memory, memory_map, float_precision, storage_options, dtype_backend)\u001B[0m\n\u001B[0;32m    935\u001B[0m kwds_defaults \u001B[38;5;241m=\u001B[39m _refine_defaults_read(\n\u001B[0;32m    936\u001B[0m     dialect,\n\u001B[0;32m    937\u001B[0m     delimiter,\n\u001B[1;32m   (...)\u001B[0m\n\u001B[0;32m    944\u001B[0m     dtype_backend\u001B[38;5;241m=\u001B[39mdtype_backend,\n\u001B[0;32m    945\u001B[0m )\n\u001B[0;32m    946\u001B[0m kwds\u001B[38;5;241m.\u001B[39mupdate(kwds_defaults)\n\u001B[1;32m--> 948\u001B[0m \u001B[38;5;28;01mreturn\u001B[39;00m \u001B[43m_read\u001B[49m\u001B[43m(\u001B[49m\u001B[43mfilepath_or_buffer\u001B[49m\u001B[43m,\u001B[49m\u001B[43m \u001B[49m\u001B[43mkwds\u001B[49m\u001B[43m)\u001B[49m\n",
      "File \u001B[1;32mD:\\WorkSpace\\Github\\Data_Science_de_A_a_Z_Extracao_e_Exibicao_dos_Dados\\venv\\Lib\\site-packages\\pandas\\io\\parsers\\readers.py:611\u001B[0m, in \u001B[0;36m_read\u001B[1;34m(filepath_or_buffer, kwds)\u001B[0m\n\u001B[0;32m    608\u001B[0m _validate_names(kwds\u001B[38;5;241m.\u001B[39mget(\u001B[38;5;124m\"\u001B[39m\u001B[38;5;124mnames\u001B[39m\u001B[38;5;124m\"\u001B[39m, \u001B[38;5;28;01mNone\u001B[39;00m))\n\u001B[0;32m    610\u001B[0m \u001B[38;5;66;03m# Create the parser.\u001B[39;00m\n\u001B[1;32m--> 611\u001B[0m parser \u001B[38;5;241m=\u001B[39m \u001B[43mTextFileReader\u001B[49m\u001B[43m(\u001B[49m\u001B[43mfilepath_or_buffer\u001B[49m\u001B[43m,\u001B[49m\u001B[43m \u001B[49m\u001B[38;5;241;43m*\u001B[39;49m\u001B[38;5;241;43m*\u001B[39;49m\u001B[43mkwds\u001B[49m\u001B[43m)\u001B[49m\n\u001B[0;32m    613\u001B[0m \u001B[38;5;28;01mif\u001B[39;00m chunksize \u001B[38;5;129;01mor\u001B[39;00m iterator:\n\u001B[0;32m    614\u001B[0m     \u001B[38;5;28;01mreturn\u001B[39;00m parser\n",
      "File \u001B[1;32mD:\\WorkSpace\\Github\\Data_Science_de_A_a_Z_Extracao_e_Exibicao_dos_Dados\\venv\\Lib\\site-packages\\pandas\\io\\parsers\\readers.py:1448\u001B[0m, in \u001B[0;36mTextFileReader.__init__\u001B[1;34m(self, f, engine, **kwds)\u001B[0m\n\u001B[0;32m   1445\u001B[0m     \u001B[38;5;28mself\u001B[39m\u001B[38;5;241m.\u001B[39moptions[\u001B[38;5;124m\"\u001B[39m\u001B[38;5;124mhas_index_names\u001B[39m\u001B[38;5;124m\"\u001B[39m] \u001B[38;5;241m=\u001B[39m kwds[\u001B[38;5;124m\"\u001B[39m\u001B[38;5;124mhas_index_names\u001B[39m\u001B[38;5;124m\"\u001B[39m]\n\u001B[0;32m   1447\u001B[0m \u001B[38;5;28mself\u001B[39m\u001B[38;5;241m.\u001B[39mhandles: IOHandles \u001B[38;5;241m|\u001B[39m \u001B[38;5;28;01mNone\u001B[39;00m \u001B[38;5;241m=\u001B[39m \u001B[38;5;28;01mNone\u001B[39;00m\n\u001B[1;32m-> 1448\u001B[0m \u001B[38;5;28mself\u001B[39m\u001B[38;5;241m.\u001B[39m_engine \u001B[38;5;241m=\u001B[39m \u001B[38;5;28;43mself\u001B[39;49m\u001B[38;5;241;43m.\u001B[39;49m\u001B[43m_make_engine\u001B[49m\u001B[43m(\u001B[49m\u001B[43mf\u001B[49m\u001B[43m,\u001B[49m\u001B[43m \u001B[49m\u001B[38;5;28;43mself\u001B[39;49m\u001B[38;5;241;43m.\u001B[39;49m\u001B[43mengine\u001B[49m\u001B[43m)\u001B[49m\n",
      "File \u001B[1;32mD:\\WorkSpace\\Github\\Data_Science_de_A_a_Z_Extracao_e_Exibicao_dos_Dados\\venv\\Lib\\site-packages\\pandas\\io\\parsers\\readers.py:1723\u001B[0m, in \u001B[0;36mTextFileReader._make_engine\u001B[1;34m(self, f, engine)\u001B[0m\n\u001B[0;32m   1720\u001B[0m     \u001B[38;5;28;01mraise\u001B[39;00m \u001B[38;5;167;01mValueError\u001B[39;00m(msg)\n\u001B[0;32m   1722\u001B[0m \u001B[38;5;28;01mtry\u001B[39;00m:\n\u001B[1;32m-> 1723\u001B[0m     \u001B[38;5;28;01mreturn\u001B[39;00m \u001B[43mmapping\u001B[49m\u001B[43m[\u001B[49m\u001B[43mengine\u001B[49m\u001B[43m]\u001B[49m\u001B[43m(\u001B[49m\u001B[43mf\u001B[49m\u001B[43m,\u001B[49m\u001B[43m \u001B[49m\u001B[38;5;241;43m*\u001B[39;49m\u001B[38;5;241;43m*\u001B[39;49m\u001B[38;5;28;43mself\u001B[39;49m\u001B[38;5;241;43m.\u001B[39;49m\u001B[43moptions\u001B[49m\u001B[43m)\u001B[49m\n\u001B[0;32m   1724\u001B[0m \u001B[38;5;28;01mexcept\u001B[39;00m \u001B[38;5;167;01mException\u001B[39;00m:\n\u001B[0;32m   1725\u001B[0m     \u001B[38;5;28;01mif\u001B[39;00m \u001B[38;5;28mself\u001B[39m\u001B[38;5;241m.\u001B[39mhandles \u001B[38;5;129;01mis\u001B[39;00m \u001B[38;5;129;01mnot\u001B[39;00m \u001B[38;5;28;01mNone\u001B[39;00m:\n",
      "File \u001B[1;32mD:\\WorkSpace\\Github\\Data_Science_de_A_a_Z_Extracao_e_Exibicao_dos_Dados\\venv\\Lib\\site-packages\\pandas\\io\\parsers\\c_parser_wrapper.py:93\u001B[0m, in \u001B[0;36mCParserWrapper.__init__\u001B[1;34m(self, src, **kwds)\u001B[0m\n\u001B[0;32m     90\u001B[0m \u001B[38;5;28;01mif\u001B[39;00m kwds[\u001B[38;5;124m\"\u001B[39m\u001B[38;5;124mdtype_backend\u001B[39m\u001B[38;5;124m\"\u001B[39m] \u001B[38;5;241m==\u001B[39m \u001B[38;5;124m\"\u001B[39m\u001B[38;5;124mpyarrow\u001B[39m\u001B[38;5;124m\"\u001B[39m:\n\u001B[0;32m     91\u001B[0m     \u001B[38;5;66;03m# Fail here loudly instead of in cython after reading\u001B[39;00m\n\u001B[0;32m     92\u001B[0m     import_optional_dependency(\u001B[38;5;124m\"\u001B[39m\u001B[38;5;124mpyarrow\u001B[39m\u001B[38;5;124m\"\u001B[39m)\n\u001B[1;32m---> 93\u001B[0m \u001B[38;5;28mself\u001B[39m\u001B[38;5;241m.\u001B[39m_reader \u001B[38;5;241m=\u001B[39m \u001B[43mparsers\u001B[49m\u001B[38;5;241;43m.\u001B[39;49m\u001B[43mTextReader\u001B[49m\u001B[43m(\u001B[49m\u001B[43msrc\u001B[49m\u001B[43m,\u001B[49m\u001B[43m \u001B[49m\u001B[38;5;241;43m*\u001B[39;49m\u001B[38;5;241;43m*\u001B[39;49m\u001B[43mkwds\u001B[49m\u001B[43m)\u001B[49m\n\u001B[0;32m     95\u001B[0m \u001B[38;5;28mself\u001B[39m\u001B[38;5;241m.\u001B[39munnamed_cols \u001B[38;5;241m=\u001B[39m \u001B[38;5;28mself\u001B[39m\u001B[38;5;241m.\u001B[39m_reader\u001B[38;5;241m.\u001B[39munnamed_cols\n\u001B[0;32m     97\u001B[0m \u001B[38;5;66;03m# error: Cannot determine type of 'names'\u001B[39;00m\n",
      "File \u001B[1;32mparsers.pyx:579\u001B[0m, in \u001B[0;36mpandas._libs.parsers.TextReader.__cinit__\u001B[1;34m()\u001B[0m\n",
      "File \u001B[1;32mparsers.pyx:668\u001B[0m, in \u001B[0;36mpandas._libs.parsers.TextReader._get_header\u001B[1;34m()\u001B[0m\n",
      "File \u001B[1;32mparsers.pyx:879\u001B[0m, in \u001B[0;36mpandas._libs.parsers.TextReader._tokenize_rows\u001B[1;34m()\u001B[0m\n",
      "File \u001B[1;32mparsers.pyx:890\u001B[0m, in \u001B[0;36mpandas._libs.parsers.TextReader._check_tokenize_status\u001B[1;34m()\u001B[0m\n",
      "File \u001B[1;32mparsers.pyx:2050\u001B[0m, in \u001B[0;36mpandas._libs.parsers.raise_parser_error\u001B[1;34m()\u001B[0m\n",
      "File \u001B[1;32m<frozen codecs>:322\u001B[0m, in \u001B[0;36mdecode\u001B[1;34m(self, input, final)\u001B[0m\n",
      "\u001B[1;31mUnicodeDecodeError\u001B[0m: 'utf-8' codec can't decode byte 0xf3 in position 1: invalid continuation byte"
     ]
    }
   ],
   "execution_count": 3
  },
  {
   "metadata": {
    "ExecuteTime": {
     "end_time": "2024-08-27T20:11:54.436652Z",
     "start_time": "2024-08-27T20:11:54.055211Z"
    }
   },
   "cell_type": "code",
   "source": [
    "# utilizamos o 'latin-1' para ler acentos corretamente.\n",
    "file = \"D:\\WorkSpace\\Github\\Data_Science_de_A_a_Z_Extracao_e_Exibicao_dos_Dados\\Seção_16_Pandas_para_Manipulacao_de_Dados\\Dataset\\Diarias.csv\"\n",
    "diarias = pd.read_csv(file, sep=\"\\t\", encoding='latin-1')\n",
    "diarias.head(6)"
   ],
   "id": "5b5ac450540122d",
   "outputs": [
    {
     "name": "stderr",
     "output_type": "stream",
     "text": [
      "<>:2: SyntaxWarning: invalid escape sequence '\\W'\n",
      "<>:2: SyntaxWarning: invalid escape sequence '\\W'\n",
      "C:\\Users\\Romulo Vieira\\AppData\\Local\\Temp\\ipykernel_13908\\3623410937.py:2: SyntaxWarning: invalid escape sequence '\\W'\n",
      "  file = \"D:\\WorkSpace\\Github\\Data_Science_de_A_a_Z_Extracao_e_Exibicao_dos_Dados\\Seção_16_Pandas_para_Manipulacao_de_Dados\\Dataset\\Diarias.csv\"\n"
     ]
    },
    {
     "data": {
      "text/plain": [
       "   Código Órgão Superior       Nome Órgão Superior  Código Órgão Subordinado  \\\n",
       "0                  20000  PRESIDENCIA DA REPUBLICA                     20101   \n",
       "1                  20000  PRESIDENCIA DA REPUBLICA                     20101   \n",
       "2                  20000  PRESIDENCIA DA REPUBLICA                     20101   \n",
       "3                  20000  PRESIDENCIA DA REPUBLICA                     20101   \n",
       "4                  20000  PRESIDENCIA DA REPUBLICA                     20101   \n",
       "5                  20000  PRESIDENCIA DA REPUBLICA                     20101   \n",
       "\n",
       "     Nome Órgão Subordinado  Código Unidade Gestora  \\\n",
       "0  PRESIDENCIA DA REPUBLICA                  110001   \n",
       "1  PRESIDENCIA DA REPUBLICA                  110001   \n",
       "2  PRESIDENCIA DA REPUBLICA                  110001   \n",
       "3  PRESIDENCIA DA REPUBLICA                  110001   \n",
       "4  PRESIDENCIA DA REPUBLICA                  110001   \n",
       "5  PRESIDENCIA DA REPUBLICA                  110001   \n",
       "\n",
       "             Nome Unidade Gestora  Código Função    Nome Função  \\\n",
       "0  SECRETARIA DE ADMINISTRACAO/PR              4  Administração   \n",
       "1  SECRETARIA DE ADMINISTRACAO/PR              4  Administração   \n",
       "2  SECRETARIA DE ADMINISTRACAO/PR              4  Administração   \n",
       "3  SECRETARIA DE ADMINISTRACAO/PR              4  Administração   \n",
       "4  SECRETARIA DE ADMINISTRACAO/PR              4  Administração   \n",
       "5  SECRETARIA DE ADMINISTRACAO/PR              4  Administração   \n",
       "\n",
       "   Código Subfunção        Nome Subunção  ...  \\\n",
       "0               122  Administração Geral  ...   \n",
       "1               122  Administração Geral  ...   \n",
       "2               122  Administração Geral  ...   \n",
       "3               122  Administração Geral  ...   \n",
       "4               122  Administração Geral  ...   \n",
       "5               122  Administração Geral  ...   \n",
       "\n",
       "                                       Nome Programa Código Ação  \\\n",
       "0  Programa de Gestão e Manutenção da Presidência...        2000   \n",
       "1  Programa de Gestão e Manutenção da Presidência...        2000   \n",
       "2  Programa de Gestão e Manutenção da Presidência...        2000   \n",
       "3  Programa de Gestão e Manutenção da Presidência...        2000   \n",
       "4  Programa de Gestão e Manutenção da Presidência...        2000   \n",
       "5  Programa de Gestão e Manutenção da Presidência...        2000   \n",
       "\n",
       "                  Nome Ação          Linguagem Cidadã  CPF Favorecido  \\\n",
       "0  Administração da Unidade  Administração de unidade  ***.008.30*-**   \n",
       "1  Administração da Unidade  Administração de unidade  ***.008.30*-**   \n",
       "2  Administração da Unidade  Administração de unidade  ***.016.72*-**   \n",
       "3  Administração da Unidade  Administração de unidade  ***.029.67*-**   \n",
       "4  Administração da Unidade  Administração de unidade  ***.037.81*-**   \n",
       "5  Administração da Unidade  Administração de unidade  ***.037.99*-**   \n",
       "\n",
       "                    Nome Favorecido Documento Pagamento Gestão Pagamento  \\\n",
       "0           HUMBERTO GUEDES CAMPELO        2017OB800780                1   \n",
       "1           HUMBERTO GUEDES CAMPELO        2017OB800993                1   \n",
       "2       ANTONIO JOSE DE SENA BOMFIM        2017OB800926                1   \n",
       "3  CINTIA MACEDO DE OLIVEIRA REBELO        2017OB800864                1   \n",
       "4             LEONARDO ALVES RANGEL        2017OB801015                1   \n",
       "5          LUDMILA VOLOCHEN DA ROSA        2017OB800940                1   \n",
       "\n",
       "   Data Pagamento Valor Pagamento  \n",
       "0      06/02/2017         1263,20  \n",
       "1      20/02/2017         2325,20  \n",
       "2      14/02/2017          300,20  \n",
       "3      08/02/2017          344,72  \n",
       "4      21/02/2017          476,03  \n",
       "5      16/02/2017        11091,60  \n",
       "\n",
       "[6 rows x 21 columns]"
      ],
      "text/html": [
       "<div>\n",
       "<style scoped>\n",
       "    .dataframe tbody tr th:only-of-type {\n",
       "        vertical-align: middle;\n",
       "    }\n",
       "\n",
       "    .dataframe tbody tr th {\n",
       "        vertical-align: top;\n",
       "    }\n",
       "\n",
       "    .dataframe thead th {\n",
       "        text-align: right;\n",
       "    }\n",
       "</style>\n",
       "<table border=\"1\" class=\"dataframe\">\n",
       "  <thead>\n",
       "    <tr style=\"text-align: right;\">\n",
       "      <th></th>\n",
       "      <th>Código Órgão Superior</th>\n",
       "      <th>Nome Órgão Superior</th>\n",
       "      <th>Código Órgão Subordinado</th>\n",
       "      <th>Nome Órgão Subordinado</th>\n",
       "      <th>Código Unidade Gestora</th>\n",
       "      <th>Nome Unidade Gestora</th>\n",
       "      <th>Código Função</th>\n",
       "      <th>Nome Função</th>\n",
       "      <th>Código Subfunção</th>\n",
       "      <th>Nome Subunção</th>\n",
       "      <th>...</th>\n",
       "      <th>Nome Programa</th>\n",
       "      <th>Código Ação</th>\n",
       "      <th>Nome Ação</th>\n",
       "      <th>Linguagem Cidadã</th>\n",
       "      <th>CPF Favorecido</th>\n",
       "      <th>Nome Favorecido</th>\n",
       "      <th>Documento Pagamento</th>\n",
       "      <th>Gestão Pagamento</th>\n",
       "      <th>Data Pagamento</th>\n",
       "      <th>Valor Pagamento</th>\n",
       "    </tr>\n",
       "  </thead>\n",
       "  <tbody>\n",
       "    <tr>\n",
       "      <th>0</th>\n",
       "      <td>20000</td>\n",
       "      <td>PRESIDENCIA DA REPUBLICA</td>\n",
       "      <td>20101</td>\n",
       "      <td>PRESIDENCIA DA REPUBLICA</td>\n",
       "      <td>110001</td>\n",
       "      <td>SECRETARIA DE ADMINISTRACAO/PR</td>\n",
       "      <td>4</td>\n",
       "      <td>Administração</td>\n",
       "      <td>122</td>\n",
       "      <td>Administração Geral</td>\n",
       "      <td>...</td>\n",
       "      <td>Programa de Gestão e Manutenção da Presidência...</td>\n",
       "      <td>2000</td>\n",
       "      <td>Administração da Unidade</td>\n",
       "      <td>Administração de unidade</td>\n",
       "      <td>***.008.30*-**</td>\n",
       "      <td>HUMBERTO GUEDES CAMPELO</td>\n",
       "      <td>2017OB800780</td>\n",
       "      <td>1</td>\n",
       "      <td>06/02/2017</td>\n",
       "      <td>1263,20</td>\n",
       "    </tr>\n",
       "    <tr>\n",
       "      <th>1</th>\n",
       "      <td>20000</td>\n",
       "      <td>PRESIDENCIA DA REPUBLICA</td>\n",
       "      <td>20101</td>\n",
       "      <td>PRESIDENCIA DA REPUBLICA</td>\n",
       "      <td>110001</td>\n",
       "      <td>SECRETARIA DE ADMINISTRACAO/PR</td>\n",
       "      <td>4</td>\n",
       "      <td>Administração</td>\n",
       "      <td>122</td>\n",
       "      <td>Administração Geral</td>\n",
       "      <td>...</td>\n",
       "      <td>Programa de Gestão e Manutenção da Presidência...</td>\n",
       "      <td>2000</td>\n",
       "      <td>Administração da Unidade</td>\n",
       "      <td>Administração de unidade</td>\n",
       "      <td>***.008.30*-**</td>\n",
       "      <td>HUMBERTO GUEDES CAMPELO</td>\n",
       "      <td>2017OB800993</td>\n",
       "      <td>1</td>\n",
       "      <td>20/02/2017</td>\n",
       "      <td>2325,20</td>\n",
       "    </tr>\n",
       "    <tr>\n",
       "      <th>2</th>\n",
       "      <td>20000</td>\n",
       "      <td>PRESIDENCIA DA REPUBLICA</td>\n",
       "      <td>20101</td>\n",
       "      <td>PRESIDENCIA DA REPUBLICA</td>\n",
       "      <td>110001</td>\n",
       "      <td>SECRETARIA DE ADMINISTRACAO/PR</td>\n",
       "      <td>4</td>\n",
       "      <td>Administração</td>\n",
       "      <td>122</td>\n",
       "      <td>Administração Geral</td>\n",
       "      <td>...</td>\n",
       "      <td>Programa de Gestão e Manutenção da Presidência...</td>\n",
       "      <td>2000</td>\n",
       "      <td>Administração da Unidade</td>\n",
       "      <td>Administração de unidade</td>\n",
       "      <td>***.016.72*-**</td>\n",
       "      <td>ANTONIO JOSE DE SENA BOMFIM</td>\n",
       "      <td>2017OB800926</td>\n",
       "      <td>1</td>\n",
       "      <td>14/02/2017</td>\n",
       "      <td>300,20</td>\n",
       "    </tr>\n",
       "    <tr>\n",
       "      <th>3</th>\n",
       "      <td>20000</td>\n",
       "      <td>PRESIDENCIA DA REPUBLICA</td>\n",
       "      <td>20101</td>\n",
       "      <td>PRESIDENCIA DA REPUBLICA</td>\n",
       "      <td>110001</td>\n",
       "      <td>SECRETARIA DE ADMINISTRACAO/PR</td>\n",
       "      <td>4</td>\n",
       "      <td>Administração</td>\n",
       "      <td>122</td>\n",
       "      <td>Administração Geral</td>\n",
       "      <td>...</td>\n",
       "      <td>Programa de Gestão e Manutenção da Presidência...</td>\n",
       "      <td>2000</td>\n",
       "      <td>Administração da Unidade</td>\n",
       "      <td>Administração de unidade</td>\n",
       "      <td>***.029.67*-**</td>\n",
       "      <td>CINTIA MACEDO DE OLIVEIRA REBELO</td>\n",
       "      <td>2017OB800864</td>\n",
       "      <td>1</td>\n",
       "      <td>08/02/2017</td>\n",
       "      <td>344,72</td>\n",
       "    </tr>\n",
       "    <tr>\n",
       "      <th>4</th>\n",
       "      <td>20000</td>\n",
       "      <td>PRESIDENCIA DA REPUBLICA</td>\n",
       "      <td>20101</td>\n",
       "      <td>PRESIDENCIA DA REPUBLICA</td>\n",
       "      <td>110001</td>\n",
       "      <td>SECRETARIA DE ADMINISTRACAO/PR</td>\n",
       "      <td>4</td>\n",
       "      <td>Administração</td>\n",
       "      <td>122</td>\n",
       "      <td>Administração Geral</td>\n",
       "      <td>...</td>\n",
       "      <td>Programa de Gestão e Manutenção da Presidência...</td>\n",
       "      <td>2000</td>\n",
       "      <td>Administração da Unidade</td>\n",
       "      <td>Administração de unidade</td>\n",
       "      <td>***.037.81*-**</td>\n",
       "      <td>LEONARDO ALVES RANGEL</td>\n",
       "      <td>2017OB801015</td>\n",
       "      <td>1</td>\n",
       "      <td>21/02/2017</td>\n",
       "      <td>476,03</td>\n",
       "    </tr>\n",
       "    <tr>\n",
       "      <th>5</th>\n",
       "      <td>20000</td>\n",
       "      <td>PRESIDENCIA DA REPUBLICA</td>\n",
       "      <td>20101</td>\n",
       "      <td>PRESIDENCIA DA REPUBLICA</td>\n",
       "      <td>110001</td>\n",
       "      <td>SECRETARIA DE ADMINISTRACAO/PR</td>\n",
       "      <td>4</td>\n",
       "      <td>Administração</td>\n",
       "      <td>122</td>\n",
       "      <td>Administração Geral</td>\n",
       "      <td>...</td>\n",
       "      <td>Programa de Gestão e Manutenção da Presidência...</td>\n",
       "      <td>2000</td>\n",
       "      <td>Administração da Unidade</td>\n",
       "      <td>Administração de unidade</td>\n",
       "      <td>***.037.99*-**</td>\n",
       "      <td>LUDMILA VOLOCHEN DA ROSA</td>\n",
       "      <td>2017OB800940</td>\n",
       "      <td>1</td>\n",
       "      <td>16/02/2017</td>\n",
       "      <td>11091,60</td>\n",
       "    </tr>\n",
       "  </tbody>\n",
       "</table>\n",
       "<p>6 rows × 21 columns</p>\n",
       "</div>"
      ]
     },
     "execution_count": 4,
     "metadata": {},
     "output_type": "execute_result"
    }
   ],
   "execution_count": 4
  },
  {
   "metadata": {
    "ExecuteTime": {
     "end_time": "2024-08-27T20:12:34.720471Z",
     "start_time": "2024-08-27T20:12:34.713741Z"
    }
   },
   "cell_type": "code",
   "source": "type(diarias)",
   "id": "6e61c393d8cd8ee6",
   "outputs": [
    {
     "data": {
      "text/plain": [
       "pandas.core.frame.DataFrame"
      ]
     },
     "execution_count": 5,
     "metadata": {},
     "output_type": "execute_result"
    }
   ],
   "execution_count": 5
  },
  {
   "metadata": {
    "ExecuteTime": {
     "end_time": "2024-08-27T20:12:46.791169Z",
     "start_time": "2024-08-27T20:12:46.784989Z"
    }
   },
   "cell_type": "code",
   "source": [
    "# Tamanho\n",
    "diarias.shape"
   ],
   "id": "8b3532190000b33a",
   "outputs": [
    {
     "data": {
      "text/plain": [
       "(38745, 21)"
      ]
     },
     "execution_count": 6,
     "metadata": {},
     "output_type": "execute_result"
    }
   ],
   "execution_count": 6
  },
  {
   "metadata": {
    "ExecuteTime": {
     "end_time": "2024-08-27T20:14:04.314128Z",
     "start_time": "2024-08-27T20:14:04.299914Z"
    }
   },
   "cell_type": "code",
   "source": [
    "# Tipos\n",
    "diarias.dtypes"
   ],
   "id": "a96955b129412386",
   "outputs": [
    {
     "data": {
      "text/plain": [
       "Código Órgão Superior        int64\n",
       "Nome Órgão Superior         object\n",
       "Código Órgão Subordinado     int64\n",
       "Nome Órgão Subordinado      object\n",
       "Código Unidade Gestora       int64\n",
       "Nome Unidade Gestora        object\n",
       "Código Função                int64\n",
       "Nome Função                 object\n",
       "Código Subfunção             int64\n",
       "Nome Subunção               object\n",
       "Código Programa              int64\n",
       "Nome Programa               object\n",
       "Código Ação                 object\n",
       "Nome Ação                   object\n",
       "Linguagem Cidadã            object\n",
       "CPF Favorecido              object\n",
       "Nome Favorecido             object\n",
       "Documento Pagamento         object\n",
       "Gestão Pagamento             int64\n",
       "Data Pagamento              object\n",
       "Valor Pagamento             object\n",
       "dtype: object"
      ]
     },
     "execution_count": 7,
     "metadata": {},
     "output_type": "execute_result"
    }
   ],
   "execution_count": 7
  },
  {
   "metadata": {},
   "cell_type": "markdown",
   "source": "## Podemos pensar que métodos (utilização de parênteses) são ações, enquanto propriedades (sem parênteses) são o que o dataframe é.",
   "id": "6ddf5e4cc7910cc"
  },
  {
   "metadata": {
    "ExecuteTime": {
     "end_time": "2024-08-27T20:18:28.652084Z",
     "start_time": "2024-08-27T20:18:28.634007Z"
    }
   },
   "cell_type": "code",
   "source": [
    "file = \"D:\\WorkSpace\\Github\\Data_Science_de_A_a_Z_Extracao_e_Exibicao_dos_Dados\\Seção_16_Pandas_para_Manipulacao_de_Dados\\Dataset\\movies.csv\"\n",
    "filmes = pd.read_csv(file)\n",
    "filmes.head()"
   ],
   "id": "44191854c3dd8321",
   "outputs": [
    {
     "name": "stderr",
     "output_type": "stream",
     "text": [
      "<>:1: SyntaxWarning: invalid escape sequence '\\W'\n",
      "<>:1: SyntaxWarning: invalid escape sequence '\\W'\n",
      "C:\\Users\\Romulo Vieira\\AppData\\Local\\Temp\\ipykernel_13908\\2097705903.py:1: SyntaxWarning: invalid escape sequence '\\W'\n",
      "  file = \"D:\\WorkSpace\\Github\\Data_Science_de_A_a_Z_Extracao_e_Exibicao_dos_Dados\\Seção_16_Pandas_para_Manipulacao_de_Dados\\Dataset\\movies.csv\"\n"
     ]
    },
    {
     "data": {
      "text/plain": [
       "   star rating                     title content rating   genre  duration  \\\n",
       "0          9.3  The Shawshank Redemption              R   Crime       142   \n",
       "1          9.2             The Godfather              R   Crime       175   \n",
       "2          9.1    The Godfather: Part II              R   Crime       200   \n",
       "3          9.0           The Dark Knight          PG-13  Action       152   \n",
       "4          8.9              Pulp Fiction              R   Crime       154   \n",
       "\n",
       "                                         actors list  \n",
       "0  [u'Tim Robbins', u'Morgan Freeman', u'Bob Gunt...  \n",
       "1    [u'Marlon Brando', u'Al Pacino', u'James Caan']  \n",
       "2  [u'Al Pacino', u'Robert De Niro', u'Robert Duv...  \n",
       "3  [u'Christian Bale', u'Heath Ledger', u'Aaron E...  \n",
       "4  [u'John Travolta', u'Uma Thurman', u'Samuel L....  "
      ],
      "text/html": [
       "<div>\n",
       "<style scoped>\n",
       "    .dataframe tbody tr th:only-of-type {\n",
       "        vertical-align: middle;\n",
       "    }\n",
       "\n",
       "    .dataframe tbody tr th {\n",
       "        vertical-align: top;\n",
       "    }\n",
       "\n",
       "    .dataframe thead th {\n",
       "        text-align: right;\n",
       "    }\n",
       "</style>\n",
       "<table border=\"1\" class=\"dataframe\">\n",
       "  <thead>\n",
       "    <tr style=\"text-align: right;\">\n",
       "      <th></th>\n",
       "      <th>star rating</th>\n",
       "      <th>title</th>\n",
       "      <th>content rating</th>\n",
       "      <th>genre</th>\n",
       "      <th>duration</th>\n",
       "      <th>actors list</th>\n",
       "    </tr>\n",
       "  </thead>\n",
       "  <tbody>\n",
       "    <tr>\n",
       "      <th>0</th>\n",
       "      <td>9.3</td>\n",
       "      <td>The Shawshank Redemption</td>\n",
       "      <td>R</td>\n",
       "      <td>Crime</td>\n",
       "      <td>142</td>\n",
       "      <td>[u'Tim Robbins', u'Morgan Freeman', u'Bob Gunt...</td>\n",
       "    </tr>\n",
       "    <tr>\n",
       "      <th>1</th>\n",
       "      <td>9.2</td>\n",
       "      <td>The Godfather</td>\n",
       "      <td>R</td>\n",
       "      <td>Crime</td>\n",
       "      <td>175</td>\n",
       "      <td>[u'Marlon Brando', u'Al Pacino', u'James Caan']</td>\n",
       "    </tr>\n",
       "    <tr>\n",
       "      <th>2</th>\n",
       "      <td>9.1</td>\n",
       "      <td>The Godfather: Part II</td>\n",
       "      <td>R</td>\n",
       "      <td>Crime</td>\n",
       "      <td>200</td>\n",
       "      <td>[u'Al Pacino', u'Robert De Niro', u'Robert Duv...</td>\n",
       "    </tr>\n",
       "    <tr>\n",
       "      <th>3</th>\n",
       "      <td>9.0</td>\n",
       "      <td>The Dark Knight</td>\n",
       "      <td>PG-13</td>\n",
       "      <td>Action</td>\n",
       "      <td>152</td>\n",
       "      <td>[u'Christian Bale', u'Heath Ledger', u'Aaron E...</td>\n",
       "    </tr>\n",
       "    <tr>\n",
       "      <th>4</th>\n",
       "      <td>8.9</td>\n",
       "      <td>Pulp Fiction</td>\n",
       "      <td>R</td>\n",
       "      <td>Crime</td>\n",
       "      <td>154</td>\n",
       "      <td>[u'John Travolta', u'Uma Thurman', u'Samuel L....</td>\n",
       "    </tr>\n",
       "  </tbody>\n",
       "</table>\n",
       "</div>"
      ]
     },
     "execution_count": 8,
     "metadata": {},
     "output_type": "execute_result"
    }
   ],
   "execution_count": 8
  },
  {
   "metadata": {},
   "cell_type": "code",
   "outputs": [
    {
     "data": {
      "text/plain": [
       "       star rating    duration\n",
       "count   979.000000  979.000000\n",
       "mean      7.889785  120.979571\n",
       "std       0.336069   26.218010\n",
       "min       7.400000   64.000000\n",
       "25%       7.600000  102.000000\n",
       "50%       7.800000  117.000000\n",
       "75%       8.100000  134.000000\n",
       "max       9.300000  242.000000"
      ],
      "text/html": [
       "<div>\n",
       "<style scoped>\n",
       "    .dataframe tbody tr th:only-of-type {\n",
       "        vertical-align: middle;\n",
       "    }\n",
       "\n",
       "    .dataframe tbody tr th {\n",
       "        vertical-align: top;\n",
       "    }\n",
       "\n",
       "    .dataframe thead th {\n",
       "        text-align: right;\n",
       "    }\n",
       "</style>\n",
       "<table border=\"1\" class=\"dataframe\">\n",
       "  <thead>\n",
       "    <tr style=\"text-align: right;\">\n",
       "      <th></th>\n",
       "      <th>star rating</th>\n",
       "      <th>duration</th>\n",
       "    </tr>\n",
       "  </thead>\n",
       "  <tbody>\n",
       "    <tr>\n",
       "      <th>count</th>\n",
       "      <td>979.000000</td>\n",
       "      <td>979.000000</td>\n",
       "    </tr>\n",
       "    <tr>\n",
       "      <th>mean</th>\n",
       "      <td>7.889785</td>\n",
       "      <td>120.979571</td>\n",
       "    </tr>\n",
       "    <tr>\n",
       "      <th>std</th>\n",
       "      <td>0.336069</td>\n",
       "      <td>26.218010</td>\n",
       "    </tr>\n",
       "    <tr>\n",
       "      <th>min</th>\n",
       "      <td>7.400000</td>\n",
       "      <td>64.000000</td>\n",
       "    </tr>\n",
       "    <tr>\n",
       "      <th>25%</th>\n",
       "      <td>7.600000</td>\n",
       "      <td>102.000000</td>\n",
       "    </tr>\n",
       "    <tr>\n",
       "      <th>50%</th>\n",
       "      <td>7.800000</td>\n",
       "      <td>117.000000</td>\n",
       "    </tr>\n",
       "    <tr>\n",
       "      <th>75%</th>\n",
       "      <td>8.100000</td>\n",
       "      <td>134.000000</td>\n",
       "    </tr>\n",
       "    <tr>\n",
       "      <th>max</th>\n",
       "      <td>9.300000</td>\n",
       "      <td>242.000000</td>\n",
       "    </tr>\n",
       "  </tbody>\n",
       "</table>\n",
       "</div>"
      ]
     },
     "execution_count": 9,
     "metadata": {},
     "output_type": "execute_result"
    }
   ],
   "execution_count": 9,
   "source": "filmes.describe()",
   "id": "427e591a71543374"
  },
  {
   "metadata": {},
   "cell_type": "code",
   "outputs": [
    {
     "data": {
      "text/plain": [
       "(979, 6)"
      ]
     },
     "execution_count": 10,
     "metadata": {},
     "output_type": "execute_result"
    }
   ],
   "execution_count": 10,
   "source": "filmes.shape",
   "id": "ca9b2849fa55fce4"
  },
  {
   "metadata": {
    "ExecuteTime": {
     "end_time": "2024-08-27T20:20:40.126169Z",
     "start_time": "2024-08-27T20:20:40.118731Z"
    }
   },
   "cell_type": "code",
   "source": [
    "# Objects significa strings\n",
    "filmes.dtypes"
   ],
   "id": "a1cc40c261a0917",
   "outputs": [
    {
     "data": {
      "text/plain": [
       "star rating       float64\n",
       "title              object\n",
       "content rating     object\n",
       "genre              object\n",
       "duration            int64\n",
       "actors list        object\n",
       "dtype: object"
      ]
     },
     "execution_count": 11,
     "metadata": {},
     "output_type": "execute_result"
    }
   ],
   "execution_count": 11
  },
  {
   "metadata": {},
   "cell_type": "markdown",
   "source": "## Como verificar atributos e métodos",
   "id": "d36c89014f305006"
  },
  {
   "metadata": {
    "ExecuteTime": {
     "end_time": "2024-08-27T20:22:37.407770Z",
     "start_time": "2024-08-27T20:22:37.387268Z"
    }
   },
   "cell_type": "code",
   "source": [
    "# basicamente, métodos podem receber argumentos\n",
    "filmes.describe(include=['object'])"
   ],
   "id": "9e3087fa81aea8d3",
   "outputs": [
    {
     "data": {
      "text/plain": [
       "          title content rating  genre  \\\n",
       "count       979            976    979   \n",
       "unique      975             12     16   \n",
       "top     Dracula              R  Drama   \n",
       "freq          2            460    278   \n",
       "\n",
       "                                              actors list  \n",
       "count                                                 979  \n",
       "unique                                                969  \n",
       "top     [u'Daniel Radcliffe', u'Emma Watson', u'Rupert...  \n",
       "freq                                                    6  "
      ],
      "text/html": [
       "<div>\n",
       "<style scoped>\n",
       "    .dataframe tbody tr th:only-of-type {\n",
       "        vertical-align: middle;\n",
       "    }\n",
       "\n",
       "    .dataframe tbody tr th {\n",
       "        vertical-align: top;\n",
       "    }\n",
       "\n",
       "    .dataframe thead th {\n",
       "        text-align: right;\n",
       "    }\n",
       "</style>\n",
       "<table border=\"1\" class=\"dataframe\">\n",
       "  <thead>\n",
       "    <tr style=\"text-align: right;\">\n",
       "      <th></th>\n",
       "      <th>title</th>\n",
       "      <th>content rating</th>\n",
       "      <th>genre</th>\n",
       "      <th>actors list</th>\n",
       "    </tr>\n",
       "  </thead>\n",
       "  <tbody>\n",
       "    <tr>\n",
       "      <th>count</th>\n",
       "      <td>979</td>\n",
       "      <td>976</td>\n",
       "      <td>979</td>\n",
       "      <td>979</td>\n",
       "    </tr>\n",
       "    <tr>\n",
       "      <th>unique</th>\n",
       "      <td>975</td>\n",
       "      <td>12</td>\n",
       "      <td>16</td>\n",
       "      <td>969</td>\n",
       "    </tr>\n",
       "    <tr>\n",
       "      <th>top</th>\n",
       "      <td>Dracula</td>\n",
       "      <td>R</td>\n",
       "      <td>Drama</td>\n",
       "      <td>[u'Daniel Radcliffe', u'Emma Watson', u'Rupert...</td>\n",
       "    </tr>\n",
       "    <tr>\n",
       "      <th>freq</th>\n",
       "      <td>2</td>\n",
       "      <td>460</td>\n",
       "      <td>278</td>\n",
       "      <td>6</td>\n",
       "    </tr>\n",
       "  </tbody>\n",
       "</table>\n",
       "</div>"
      ]
     },
     "execution_count": 12,
     "metadata": {},
     "output_type": "execute_result"
    }
   ],
   "execution_count": 12
  },
  {
   "metadata": {
    "ExecuteTime": {
     "end_time": "2024-08-27T20:27:19.944909Z",
     "start_time": "2024-08-27T20:27:19.925603Z"
    }
   },
   "cell_type": "code",
   "source": [
    "# Como saber os argumentos de um método?\n",
    "# Posicione o cursor entre os parênteses e pressione Shift + Tab de uma até 3 vezes\n",
    "filmes.describe()"
   ],
   "id": "3a130ea0d17d0013",
   "outputs": [
    {
     "data": {
      "text/plain": [
       "       star rating    duration\n",
       "count   979.000000  979.000000\n",
       "mean      7.889785  120.979571\n",
       "std       0.336069   26.218010\n",
       "min       7.400000   64.000000\n",
       "25%       7.600000  102.000000\n",
       "50%       7.800000  117.000000\n",
       "75%       8.100000  134.000000\n",
       "max       9.300000  242.000000"
      ],
      "text/html": [
       "<div>\n",
       "<style scoped>\n",
       "    .dataframe tbody tr th:only-of-type {\n",
       "        vertical-align: middle;\n",
       "    }\n",
       "\n",
       "    .dataframe tbody tr th {\n",
       "        vertical-align: top;\n",
       "    }\n",
       "\n",
       "    .dataframe thead th {\n",
       "        text-align: right;\n",
       "    }\n",
       "</style>\n",
       "<table border=\"1\" class=\"dataframe\">\n",
       "  <thead>\n",
       "    <tr style=\"text-align: right;\">\n",
       "      <th></th>\n",
       "      <th>star rating</th>\n",
       "      <th>duration</th>\n",
       "    </tr>\n",
       "  </thead>\n",
       "  <tbody>\n",
       "    <tr>\n",
       "      <th>count</th>\n",
       "      <td>979.000000</td>\n",
       "      <td>979.000000</td>\n",
       "    </tr>\n",
       "    <tr>\n",
       "      <th>mean</th>\n",
       "      <td>7.889785</td>\n",
       "      <td>120.979571</td>\n",
       "    </tr>\n",
       "    <tr>\n",
       "      <th>std</th>\n",
       "      <td>0.336069</td>\n",
       "      <td>26.218010</td>\n",
       "    </tr>\n",
       "    <tr>\n",
       "      <th>min</th>\n",
       "      <td>7.400000</td>\n",
       "      <td>64.000000</td>\n",
       "    </tr>\n",
       "    <tr>\n",
       "      <th>25%</th>\n",
       "      <td>7.600000</td>\n",
       "      <td>102.000000</td>\n",
       "    </tr>\n",
       "    <tr>\n",
       "      <th>50%</th>\n",
       "      <td>7.800000</td>\n",
       "      <td>117.000000</td>\n",
       "    </tr>\n",
       "    <tr>\n",
       "      <th>75%</th>\n",
       "      <td>8.100000</td>\n",
       "      <td>134.000000</td>\n",
       "    </tr>\n",
       "    <tr>\n",
       "      <th>max</th>\n",
       "      <td>9.300000</td>\n",
       "      <td>242.000000</td>\n",
       "    </tr>\n",
       "  </tbody>\n",
       "</table>\n",
       "</div>"
      ]
     },
     "execution_count": 13,
     "metadata": {},
     "output_type": "execute_result"
    }
   ],
   "execution_count": 13
  },
  {
   "metadata": {},
   "cell_type": "markdown",
   "source": "## Verifique a diferença entre dados categóricos e numéricos",
   "id": "f8d13b80e7e8a880"
  },
  {
   "metadata": {},
   "cell_type": "markdown",
   "source": "## Renomeando colunas no Pandas",
   "id": "b6714353317ba4e2"
  },
  {
   "metadata": {
    "ExecuteTime": {
     "end_time": "2024-08-27T20:27:37.116774Z",
     "start_time": "2024-08-27T20:27:37.111432Z"
    }
   },
   "cell_type": "code",
   "source": "filmes.columns",
   "id": "3576f65ec607be20",
   "outputs": [
    {
     "data": {
      "text/plain": [
       "Index(['star rating', 'title', 'content rating', 'genre', 'duration',\n",
       "       'actors list'],\n",
       "      dtype='object')"
      ]
     },
     "execution_count": 14,
     "metadata": {},
     "output_type": "execute_result"
    }
   ],
   "execution_count": 14
  },
  {
   "metadata": {
    "ExecuteTime": {
     "end_time": "2024-08-27T20:31:53.141490Z",
     "start_time": "2024-08-27T20:31:53.127609Z"
    }
   },
   "cell_type": "code",
   "source": "filmes.rename(columns={'star rating':'star_rating', 'content rating':'content_rating'})",
   "id": "98beccdfe638c9e0",
   "outputs": [
    {
     "data": {
      "text/plain": [
       "     star_rating                                            title  \\\n",
       "0            9.3                         The Shawshank Redemption   \n",
       "1            9.2                                    The Godfather   \n",
       "2            9.1                           The Godfather: Part II   \n",
       "3            9.0                                  The Dark Knight   \n",
       "4            8.9                                     Pulp Fiction   \n",
       "..           ...                                              ...   \n",
       "974          7.4                                          Tootsie   \n",
       "975          7.4                      Back to the Future Part III   \n",
       "976          7.4  Master and Commander: The Far Side of the World   \n",
       "977          7.4                                      Poltergeist   \n",
       "978          7.4                                      Wall Street   \n",
       "\n",
       "    content_rating      genre  duration  \\\n",
       "0                R      Crime       142   \n",
       "1                R      Crime       175   \n",
       "2                R      Crime       200   \n",
       "3            PG-13     Action       152   \n",
       "4                R      Crime       154   \n",
       "..             ...        ...       ...   \n",
       "974             PG     Comedy       116   \n",
       "975             PG  Adventure       118   \n",
       "976          PG-13     Action       138   \n",
       "977             PG     Horror       114   \n",
       "978              R      Crime       126   \n",
       "\n",
       "                                           actors list  \n",
       "0    [u'Tim Robbins', u'Morgan Freeman', u'Bob Gunt...  \n",
       "1      [u'Marlon Brando', u'Al Pacino', u'James Caan']  \n",
       "2    [u'Al Pacino', u'Robert De Niro', u'Robert Duv...  \n",
       "3    [u'Christian Bale', u'Heath Ledger', u'Aaron E...  \n",
       "4    [u'John Travolta', u'Uma Thurman', u'Samuel L....  \n",
       "..                                                 ...  \n",
       "974  [u'Dustin Hoffman', u'Jessica Lange', u'Teri G...  \n",
       "975  [u'Michael J. Fox', u'Christopher Lloyd', u'Ma...  \n",
       "976  [u'Russell Crowe', u'Paul Bettany', u'Billy Bo...  \n",
       "977  [u'JoBeth Williams', u\"Heather O'Rourke\", u'Cr...  \n",
       "978  [u'Charlie Sheen', u'Michael Douglas', u'Tamar...  \n",
       "\n",
       "[979 rows x 6 columns]"
      ],
      "text/html": [
       "<div>\n",
       "<style scoped>\n",
       "    .dataframe tbody tr th:only-of-type {\n",
       "        vertical-align: middle;\n",
       "    }\n",
       "\n",
       "    .dataframe tbody tr th {\n",
       "        vertical-align: top;\n",
       "    }\n",
       "\n",
       "    .dataframe thead th {\n",
       "        text-align: right;\n",
       "    }\n",
       "</style>\n",
       "<table border=\"1\" class=\"dataframe\">\n",
       "  <thead>\n",
       "    <tr style=\"text-align: right;\">\n",
       "      <th></th>\n",
       "      <th>star_rating</th>\n",
       "      <th>title</th>\n",
       "      <th>content_rating</th>\n",
       "      <th>genre</th>\n",
       "      <th>duration</th>\n",
       "      <th>actors list</th>\n",
       "    </tr>\n",
       "  </thead>\n",
       "  <tbody>\n",
       "    <tr>\n",
       "      <th>0</th>\n",
       "      <td>9.3</td>\n",
       "      <td>The Shawshank Redemption</td>\n",
       "      <td>R</td>\n",
       "      <td>Crime</td>\n",
       "      <td>142</td>\n",
       "      <td>[u'Tim Robbins', u'Morgan Freeman', u'Bob Gunt...</td>\n",
       "    </tr>\n",
       "    <tr>\n",
       "      <th>1</th>\n",
       "      <td>9.2</td>\n",
       "      <td>The Godfather</td>\n",
       "      <td>R</td>\n",
       "      <td>Crime</td>\n",
       "      <td>175</td>\n",
       "      <td>[u'Marlon Brando', u'Al Pacino', u'James Caan']</td>\n",
       "    </tr>\n",
       "    <tr>\n",
       "      <th>2</th>\n",
       "      <td>9.1</td>\n",
       "      <td>The Godfather: Part II</td>\n",
       "      <td>R</td>\n",
       "      <td>Crime</td>\n",
       "      <td>200</td>\n",
       "      <td>[u'Al Pacino', u'Robert De Niro', u'Robert Duv...</td>\n",
       "    </tr>\n",
       "    <tr>\n",
       "      <th>3</th>\n",
       "      <td>9.0</td>\n",
       "      <td>The Dark Knight</td>\n",
       "      <td>PG-13</td>\n",
       "      <td>Action</td>\n",
       "      <td>152</td>\n",
       "      <td>[u'Christian Bale', u'Heath Ledger', u'Aaron E...</td>\n",
       "    </tr>\n",
       "    <tr>\n",
       "      <th>4</th>\n",
       "      <td>8.9</td>\n",
       "      <td>Pulp Fiction</td>\n",
       "      <td>R</td>\n",
       "      <td>Crime</td>\n",
       "      <td>154</td>\n",
       "      <td>[u'John Travolta', u'Uma Thurman', u'Samuel L....</td>\n",
       "    </tr>\n",
       "    <tr>\n",
       "      <th>...</th>\n",
       "      <td>...</td>\n",
       "      <td>...</td>\n",
       "      <td>...</td>\n",
       "      <td>...</td>\n",
       "      <td>...</td>\n",
       "      <td>...</td>\n",
       "    </tr>\n",
       "    <tr>\n",
       "      <th>974</th>\n",
       "      <td>7.4</td>\n",
       "      <td>Tootsie</td>\n",
       "      <td>PG</td>\n",
       "      <td>Comedy</td>\n",
       "      <td>116</td>\n",
       "      <td>[u'Dustin Hoffman', u'Jessica Lange', u'Teri G...</td>\n",
       "    </tr>\n",
       "    <tr>\n",
       "      <th>975</th>\n",
       "      <td>7.4</td>\n",
       "      <td>Back to the Future Part III</td>\n",
       "      <td>PG</td>\n",
       "      <td>Adventure</td>\n",
       "      <td>118</td>\n",
       "      <td>[u'Michael J. Fox', u'Christopher Lloyd', u'Ma...</td>\n",
       "    </tr>\n",
       "    <tr>\n",
       "      <th>976</th>\n",
       "      <td>7.4</td>\n",
       "      <td>Master and Commander: The Far Side of the World</td>\n",
       "      <td>PG-13</td>\n",
       "      <td>Action</td>\n",
       "      <td>138</td>\n",
       "      <td>[u'Russell Crowe', u'Paul Bettany', u'Billy Bo...</td>\n",
       "    </tr>\n",
       "    <tr>\n",
       "      <th>977</th>\n",
       "      <td>7.4</td>\n",
       "      <td>Poltergeist</td>\n",
       "      <td>PG</td>\n",
       "      <td>Horror</td>\n",
       "      <td>114</td>\n",
       "      <td>[u'JoBeth Williams', u\"Heather O'Rourke\", u'Cr...</td>\n",
       "    </tr>\n",
       "    <tr>\n",
       "      <th>978</th>\n",
       "      <td>7.4</td>\n",
       "      <td>Wall Street</td>\n",
       "      <td>R</td>\n",
       "      <td>Crime</td>\n",
       "      <td>126</td>\n",
       "      <td>[u'Charlie Sheen', u'Michael Douglas', u'Tamar...</td>\n",
       "    </tr>\n",
       "  </tbody>\n",
       "</table>\n",
       "<p>979 rows × 6 columns</p>\n",
       "</div>"
      ]
     },
     "execution_count": 15,
     "metadata": {},
     "output_type": "execute_result"
    }
   ],
   "execution_count": 15
  },
  {
   "metadata": {
    "ExecuteTime": {
     "end_time": "2024-08-27T20:32:02.499378Z",
     "start_time": "2024-08-27T20:32:02.492322Z"
    }
   },
   "cell_type": "code",
   "source": "filmes.columns",
   "id": "213e5a067bd3f482",
   "outputs": [
    {
     "data": {
      "text/plain": [
       "Index(['star rating', 'title', 'content rating', 'genre', 'duration',\n",
       "       'actors list'],\n",
       "      dtype='object')"
      ]
     },
     "execution_count": 16,
     "metadata": {},
     "output_type": "execute_result"
    }
   ],
   "execution_count": 16
  },
  {
   "metadata": {},
   "cell_type": "markdown",
   "source": [
    "A transformação não vai ocorrer, pois estamos modificando o dataframe original e o Pandas não permite essa operação, a não ser que ela seja explícita, ou seja, devemos forçar a alteração.\n",
    "\n",
    "    1 - Atribuir o resultado a uma nova variável, ou seja, um novo Dataframe\n",
    "    2 - Utilizar o argumento inplace=True forçando a alteração"
   ],
   "id": "94a5231bef298d20"
  },
  {
   "metadata": {
    "ExecuteTime": {
     "end_time": "2024-08-27T20:32:45.857386Z",
     "start_time": "2024-08-27T20:32:45.852874Z"
    }
   },
   "cell_type": "code",
   "source": "filmes.rename(columns={'star rating':'star_rating', 'content rating':'content_rating'}, inplace=True)",
   "id": "36e155c34c17dbf9",
   "outputs": [],
   "execution_count": 17
  },
  {
   "metadata": {
    "ExecuteTime": {
     "end_time": "2024-08-27T20:32:49.271649Z",
     "start_time": "2024-08-27T20:32:49.266621Z"
    }
   },
   "cell_type": "code",
   "source": "filmes.columns",
   "id": "b28286950d623844",
   "outputs": [
    {
     "data": {
      "text/plain": [
       "Index(['star_rating', 'title', 'content_rating', 'genre', 'duration',\n",
       "       'actors list'],\n",
       "      dtype='object')"
      ]
     },
     "execution_count": 18,
     "metadata": {},
     "output_type": "execute_result"
    }
   ],
   "execution_count": 18
  },
  {
   "metadata": {},
   "cell_type": "markdown",
   "source": "Podemos também passar a lista de colunas EXPLICITAMENTE",
   "id": "cf05cc40128a97a"
  },
  {
   "metadata": {
    "ExecuteTime": {
     "end_time": "2024-08-27T20:35:33.879189Z",
     "start_time": "2024-08-27T20:35:33.870274Z"
    }
   },
   "cell_type": "code",
   "source": [
    "colunas_filmes = ['star rating', 'title', 'content rating', 'genre', 'duration', 'actors list']\n",
    "filmes.columns = colunas_filmes\n",
    "filmes.columns"
   ],
   "id": "15df904f8b6b2438",
   "outputs": [
    {
     "data": {
      "text/plain": [
       "Index(['star rating', 'title', 'content rating', 'genre', 'duration',\n",
       "       'actors list'],\n",
       "      dtype='object')"
      ]
     },
     "execution_count": 19,
     "metadata": {},
     "output_type": "execute_result"
    }
   ],
   "execution_count": 19
  },
  {
   "metadata": {},
   "cell_type": "markdown",
   "source": "Podemos renomear as colunas no momento da LEITURA do arquivo",
   "id": "5437b5155d554a21"
  },
  {
   "metadata": {
    "ExecuteTime": {
     "end_time": "2024-08-27T20:36:03.922325Z",
     "start_time": "2024-08-27T20:36:03.909415Z"
    }
   },
   "cell_type": "code",
   "source": [
    "colunas_filmes = ['star_rating', 'title', 'content_rating', 'genre', 'duration', 'actors_list']\n",
    "\n",
    "file = \"D:\\WorkSpace\\Github\\Data_Science_de_A_a_Z_Extracao_e_Exibicao_dos_Dados\\Seção_16_Pandas_para_Manipulacao_de_Dados\\Dataset\\movies.csv\"\n",
    "filmes = pd.read_csv(file, names=colunas_filmes, header=0)\n",
    "filmes.head()"
   ],
   "id": "182c49b203d3258b",
   "outputs": [
    {
     "name": "stderr",
     "output_type": "stream",
     "text": [
      "<>:3: SyntaxWarning: invalid escape sequence '\\W'\n",
      "<>:3: SyntaxWarning: invalid escape sequence '\\W'\n",
      "C:\\Users\\Romulo Vieira\\AppData\\Local\\Temp\\ipykernel_13908\\2990811914.py:3: SyntaxWarning: invalid escape sequence '\\W'\n",
      "  file = \"D:\\WorkSpace\\Github\\Data_Science_de_A_a_Z_Extracao_e_Exibicao_dos_Dados\\Seção_16_Pandas_para_Manipulacao_de_Dados\\Dataset\\movies.csv\"\n"
     ]
    },
    {
     "data": {
      "text/plain": [
       "   star_rating                     title content_rating   genre  duration  \\\n",
       "0          9.3  The Shawshank Redemption              R   Crime       142   \n",
       "1          9.2             The Godfather              R   Crime       175   \n",
       "2          9.1    The Godfather: Part II              R   Crime       200   \n",
       "3          9.0           The Dark Knight          PG-13  Action       152   \n",
       "4          8.9              Pulp Fiction              R   Crime       154   \n",
       "\n",
       "                                         actors_list  \n",
       "0  [u'Tim Robbins', u'Morgan Freeman', u'Bob Gunt...  \n",
       "1    [u'Marlon Brando', u'Al Pacino', u'James Caan']  \n",
       "2  [u'Al Pacino', u'Robert De Niro', u'Robert Duv...  \n",
       "3  [u'Christian Bale', u'Heath Ledger', u'Aaron E...  \n",
       "4  [u'John Travolta', u'Uma Thurman', u'Samuel L....  "
      ],
      "text/html": [
       "<div>\n",
       "<style scoped>\n",
       "    .dataframe tbody tr th:only-of-type {\n",
       "        vertical-align: middle;\n",
       "    }\n",
       "\n",
       "    .dataframe tbody tr th {\n",
       "        vertical-align: top;\n",
       "    }\n",
       "\n",
       "    .dataframe thead th {\n",
       "        text-align: right;\n",
       "    }\n",
       "</style>\n",
       "<table border=\"1\" class=\"dataframe\">\n",
       "  <thead>\n",
       "    <tr style=\"text-align: right;\">\n",
       "      <th></th>\n",
       "      <th>star_rating</th>\n",
       "      <th>title</th>\n",
       "      <th>content_rating</th>\n",
       "      <th>genre</th>\n",
       "      <th>duration</th>\n",
       "      <th>actors_list</th>\n",
       "    </tr>\n",
       "  </thead>\n",
       "  <tbody>\n",
       "    <tr>\n",
       "      <th>0</th>\n",
       "      <td>9.3</td>\n",
       "      <td>The Shawshank Redemption</td>\n",
       "      <td>R</td>\n",
       "      <td>Crime</td>\n",
       "      <td>142</td>\n",
       "      <td>[u'Tim Robbins', u'Morgan Freeman', u'Bob Gunt...</td>\n",
       "    </tr>\n",
       "    <tr>\n",
       "      <th>1</th>\n",
       "      <td>9.2</td>\n",
       "      <td>The Godfather</td>\n",
       "      <td>R</td>\n",
       "      <td>Crime</td>\n",
       "      <td>175</td>\n",
       "      <td>[u'Marlon Brando', u'Al Pacino', u'James Caan']</td>\n",
       "    </tr>\n",
       "    <tr>\n",
       "      <th>2</th>\n",
       "      <td>9.1</td>\n",
       "      <td>The Godfather: Part II</td>\n",
       "      <td>R</td>\n",
       "      <td>Crime</td>\n",
       "      <td>200</td>\n",
       "      <td>[u'Al Pacino', u'Robert De Niro', u'Robert Duv...</td>\n",
       "    </tr>\n",
       "    <tr>\n",
       "      <th>3</th>\n",
       "      <td>9.0</td>\n",
       "      <td>The Dark Knight</td>\n",
       "      <td>PG-13</td>\n",
       "      <td>Action</td>\n",
       "      <td>152</td>\n",
       "      <td>[u'Christian Bale', u'Heath Ledger', u'Aaron E...</td>\n",
       "    </tr>\n",
       "    <tr>\n",
       "      <th>4</th>\n",
       "      <td>8.9</td>\n",
       "      <td>Pulp Fiction</td>\n",
       "      <td>R</td>\n",
       "      <td>Crime</td>\n",
       "      <td>154</td>\n",
       "      <td>[u'John Travolta', u'Uma Thurman', u'Samuel L....</td>\n",
       "    </tr>\n",
       "  </tbody>\n",
       "</table>\n",
       "</div>"
      ]
     },
     "execution_count": 20,
     "metadata": {},
     "output_type": "execute_result"
    }
   ],
   "execution_count": 20
  },
  {
   "metadata": {},
   "cell_type": "markdown",
   "source": [
    "## Real World\n",
    "\n",
    "É muito comum termos arquivos com várias colunas e a operação de renomear uma a uma fica inviável. Podemos então, utilizar funções do Python para trabalharmos com as colunas."
   ],
   "id": "a3f7416883bcc8df"
  },
  {
   "metadata": {
    "ExecuteTime": {
     "end_time": "2024-08-27T20:39:06.487561Z",
     "start_time": "2024-08-27T20:39:06.474983Z"
    }
   },
   "cell_type": "code",
   "source": [
    "file = \"D:\\WorkSpace\\Github\\Data_Science_de_A_a_Z_Extracao_e_Exibicao_dos_Dados\\Seção_16_Pandas_para_Manipulacao_de_Dados\\Dataset\\movies.csv\"\n",
    "filmes = pd.read_csv(file)\n",
    "filmes.head()\n",
    "\n",
    "filmes.columns = filmes.columns.str.replace(' ', '_')\n",
    "filmes.columns"
   ],
   "id": "a5460fdbf2a015ea",
   "outputs": [
    {
     "name": "stderr",
     "output_type": "stream",
     "text": [
      "<>:1: SyntaxWarning: invalid escape sequence '\\W'\n",
      "<>:1: SyntaxWarning: invalid escape sequence '\\W'\n",
      "C:\\Users\\Romulo Vieira\\AppData\\Local\\Temp\\ipykernel_13908\\2528154818.py:1: SyntaxWarning: invalid escape sequence '\\W'\n",
      "  file = \"D:\\WorkSpace\\Github\\Data_Science_de_A_a_Z_Extracao_e_Exibicao_dos_Dados\\Seção_16_Pandas_para_Manipulacao_de_Dados\\Dataset\\movies.csv\"\n"
     ]
    },
    {
     "data": {
      "text/plain": [
       "Index(['star_rating', 'title', 'content_rating', 'genre', 'duration',\n",
       "       'actors_list'],\n",
       "      dtype='object')"
      ]
     },
     "execution_count": 21,
     "metadata": {},
     "output_type": "execute_result"
    }
   ],
   "execution_count": 21
  },
  {
   "metadata": {},
   "cell_type": "markdown",
   "source": "## Removendo colunas do Dataframe",
   "id": "cf54b526fac714d4"
  },
  {
   "metadata": {
    "ExecuteTime": {
     "end_time": "2024-08-27T20:43:26.036982Z",
     "start_time": "2024-08-27T20:43:26.018015Z"
    }
   },
   "cell_type": "code",
   "source": [
    "# Por boa prática, ao realizar alguma alteração no Dataframe, devemos atribuir a outra variável,\n",
    "# assim é possível rastrear as mudanças e também voltar ao último passo.\n",
    "# Aqui também podemos utilizar o inplace=True\n",
    "# Axis = 1 - Colunas / Axis = 0 Linhas\n",
    "# filmes01 - foi criado um novo Dataframe sem a coluna 'content_rating'\n",
    "filmes01 = filmes.drop('content_rating', axis=1)\n",
    "filmes01.head()"
   ],
   "id": "76bb2cb3ac5170ff",
   "outputs": [
    {
     "data": {
      "text/plain": [
       "   star_rating                     title   genre  duration  \\\n",
       "0          9.3  The Shawshank Redemption   Crime       142   \n",
       "1          9.2             The Godfather   Crime       175   \n",
       "2          9.1    The Godfather: Part II   Crime       200   \n",
       "3          9.0           The Dark Knight  Action       152   \n",
       "4          8.9              Pulp Fiction   Crime       154   \n",
       "\n",
       "                                         actors_list  \n",
       "0  [u'Tim Robbins', u'Morgan Freeman', u'Bob Gunt...  \n",
       "1    [u'Marlon Brando', u'Al Pacino', u'James Caan']  \n",
       "2  [u'Al Pacino', u'Robert De Niro', u'Robert Duv...  \n",
       "3  [u'Christian Bale', u'Heath Ledger', u'Aaron E...  \n",
       "4  [u'John Travolta', u'Uma Thurman', u'Samuel L....  "
      ],
      "text/html": [
       "<div>\n",
       "<style scoped>\n",
       "    .dataframe tbody tr th:only-of-type {\n",
       "        vertical-align: middle;\n",
       "    }\n",
       "\n",
       "    .dataframe tbody tr th {\n",
       "        vertical-align: top;\n",
       "    }\n",
       "\n",
       "    .dataframe thead th {\n",
       "        text-align: right;\n",
       "    }\n",
       "</style>\n",
       "<table border=\"1\" class=\"dataframe\">\n",
       "  <thead>\n",
       "    <tr style=\"text-align: right;\">\n",
       "      <th></th>\n",
       "      <th>star_rating</th>\n",
       "      <th>title</th>\n",
       "      <th>genre</th>\n",
       "      <th>duration</th>\n",
       "      <th>actors_list</th>\n",
       "    </tr>\n",
       "  </thead>\n",
       "  <tbody>\n",
       "    <tr>\n",
       "      <th>0</th>\n",
       "      <td>9.3</td>\n",
       "      <td>The Shawshank Redemption</td>\n",
       "      <td>Crime</td>\n",
       "      <td>142</td>\n",
       "      <td>[u'Tim Robbins', u'Morgan Freeman', u'Bob Gunt...</td>\n",
       "    </tr>\n",
       "    <tr>\n",
       "      <th>1</th>\n",
       "      <td>9.2</td>\n",
       "      <td>The Godfather</td>\n",
       "      <td>Crime</td>\n",
       "      <td>175</td>\n",
       "      <td>[u'Marlon Brando', u'Al Pacino', u'James Caan']</td>\n",
       "    </tr>\n",
       "    <tr>\n",
       "      <th>2</th>\n",
       "      <td>9.1</td>\n",
       "      <td>The Godfather: Part II</td>\n",
       "      <td>Crime</td>\n",
       "      <td>200</td>\n",
       "      <td>[u'Al Pacino', u'Robert De Niro', u'Robert Duv...</td>\n",
       "    </tr>\n",
       "    <tr>\n",
       "      <th>3</th>\n",
       "      <td>9.0</td>\n",
       "      <td>The Dark Knight</td>\n",
       "      <td>Action</td>\n",
       "      <td>152</td>\n",
       "      <td>[u'Christian Bale', u'Heath Ledger', u'Aaron E...</td>\n",
       "    </tr>\n",
       "    <tr>\n",
       "      <th>4</th>\n",
       "      <td>8.9</td>\n",
       "      <td>Pulp Fiction</td>\n",
       "      <td>Crime</td>\n",
       "      <td>154</td>\n",
       "      <td>[u'John Travolta', u'Uma Thurman', u'Samuel L....</td>\n",
       "    </tr>\n",
       "  </tbody>\n",
       "</table>\n",
       "</div>"
      ]
     },
     "execution_count": 22,
     "metadata": {},
     "output_type": "execute_result"
    }
   ],
   "execution_count": 22
  },
  {
   "metadata": {
    "ExecuteTime": {
     "end_time": "2024-08-27T20:43:45.445330Z",
     "start_time": "2024-08-27T20:43:45.430311Z"
    }
   },
   "cell_type": "code",
   "source": "filmes.head()",
   "id": "82d43025fc2cecab",
   "outputs": [
    {
     "data": {
      "text/plain": [
       "   star_rating                     title content_rating   genre  duration  \\\n",
       "0          9.3  The Shawshank Redemption              R   Crime       142   \n",
       "1          9.2             The Godfather              R   Crime       175   \n",
       "2          9.1    The Godfather: Part II              R   Crime       200   \n",
       "3          9.0           The Dark Knight          PG-13  Action       152   \n",
       "4          8.9              Pulp Fiction              R   Crime       154   \n",
       "\n",
       "                                         actors_list  \n",
       "0  [u'Tim Robbins', u'Morgan Freeman', u'Bob Gunt...  \n",
       "1    [u'Marlon Brando', u'Al Pacino', u'James Caan']  \n",
       "2  [u'Al Pacino', u'Robert De Niro', u'Robert Duv...  \n",
       "3  [u'Christian Bale', u'Heath Ledger', u'Aaron E...  \n",
       "4  [u'John Travolta', u'Uma Thurman', u'Samuel L....  "
      ],
      "text/html": [
       "<div>\n",
       "<style scoped>\n",
       "    .dataframe tbody tr th:only-of-type {\n",
       "        vertical-align: middle;\n",
       "    }\n",
       "\n",
       "    .dataframe tbody tr th {\n",
       "        vertical-align: top;\n",
       "    }\n",
       "\n",
       "    .dataframe thead th {\n",
       "        text-align: right;\n",
       "    }\n",
       "</style>\n",
       "<table border=\"1\" class=\"dataframe\">\n",
       "  <thead>\n",
       "    <tr style=\"text-align: right;\">\n",
       "      <th></th>\n",
       "      <th>star_rating</th>\n",
       "      <th>title</th>\n",
       "      <th>content_rating</th>\n",
       "      <th>genre</th>\n",
       "      <th>duration</th>\n",
       "      <th>actors_list</th>\n",
       "    </tr>\n",
       "  </thead>\n",
       "  <tbody>\n",
       "    <tr>\n",
       "      <th>0</th>\n",
       "      <td>9.3</td>\n",
       "      <td>The Shawshank Redemption</td>\n",
       "      <td>R</td>\n",
       "      <td>Crime</td>\n",
       "      <td>142</td>\n",
       "      <td>[u'Tim Robbins', u'Morgan Freeman', u'Bob Gunt...</td>\n",
       "    </tr>\n",
       "    <tr>\n",
       "      <th>1</th>\n",
       "      <td>9.2</td>\n",
       "      <td>The Godfather</td>\n",
       "      <td>R</td>\n",
       "      <td>Crime</td>\n",
       "      <td>175</td>\n",
       "      <td>[u'Marlon Brando', u'Al Pacino', u'James Caan']</td>\n",
       "    </tr>\n",
       "    <tr>\n",
       "      <th>2</th>\n",
       "      <td>9.1</td>\n",
       "      <td>The Godfather: Part II</td>\n",
       "      <td>R</td>\n",
       "      <td>Crime</td>\n",
       "      <td>200</td>\n",
       "      <td>[u'Al Pacino', u'Robert De Niro', u'Robert Duv...</td>\n",
       "    </tr>\n",
       "    <tr>\n",
       "      <th>3</th>\n",
       "      <td>9.0</td>\n",
       "      <td>The Dark Knight</td>\n",
       "      <td>PG-13</td>\n",
       "      <td>Action</td>\n",
       "      <td>152</td>\n",
       "      <td>[u'Christian Bale', u'Heath Ledger', u'Aaron E...</td>\n",
       "    </tr>\n",
       "    <tr>\n",
       "      <th>4</th>\n",
       "      <td>8.9</td>\n",
       "      <td>Pulp Fiction</td>\n",
       "      <td>R</td>\n",
       "      <td>Crime</td>\n",
       "      <td>154</td>\n",
       "      <td>[u'John Travolta', u'Uma Thurman', u'Samuel L....</td>\n",
       "    </tr>\n",
       "  </tbody>\n",
       "</table>\n",
       "</div>"
      ]
     },
     "execution_count": 23,
     "metadata": {},
     "output_type": "execute_result"
    }
   ],
   "execution_count": 23
  },
  {
   "metadata": {
    "ExecuteTime": {
     "end_time": "2024-08-27T20:44:32.936279Z",
     "start_time": "2024-08-27T20:44:32.925345Z"
    }
   },
   "cell_type": "code",
   "source": [
    "# Removendo mais de uma coluna\n",
    "filmes02 = filmes.drop(['duration', 'actors_list'], axis=1)\n",
    "filmes02.head()"
   ],
   "id": "b631716d387dcd0a",
   "outputs": [
    {
     "data": {
      "text/plain": [
       "   star_rating                     title content_rating   genre\n",
       "0          9.3  The Shawshank Redemption              R   Crime\n",
       "1          9.2             The Godfather              R   Crime\n",
       "2          9.1    The Godfather: Part II              R   Crime\n",
       "3          9.0           The Dark Knight          PG-13  Action\n",
       "4          8.9              Pulp Fiction              R   Crime"
      ],
      "text/html": [
       "<div>\n",
       "<style scoped>\n",
       "    .dataframe tbody tr th:only-of-type {\n",
       "        vertical-align: middle;\n",
       "    }\n",
       "\n",
       "    .dataframe tbody tr th {\n",
       "        vertical-align: top;\n",
       "    }\n",
       "\n",
       "    .dataframe thead th {\n",
       "        text-align: right;\n",
       "    }\n",
       "</style>\n",
       "<table border=\"1\" class=\"dataframe\">\n",
       "  <thead>\n",
       "    <tr style=\"text-align: right;\">\n",
       "      <th></th>\n",
       "      <th>star_rating</th>\n",
       "      <th>title</th>\n",
       "      <th>content_rating</th>\n",
       "      <th>genre</th>\n",
       "    </tr>\n",
       "  </thead>\n",
       "  <tbody>\n",
       "    <tr>\n",
       "      <th>0</th>\n",
       "      <td>9.3</td>\n",
       "      <td>The Shawshank Redemption</td>\n",
       "      <td>R</td>\n",
       "      <td>Crime</td>\n",
       "    </tr>\n",
       "    <tr>\n",
       "      <th>1</th>\n",
       "      <td>9.2</td>\n",
       "      <td>The Godfather</td>\n",
       "      <td>R</td>\n",
       "      <td>Crime</td>\n",
       "    </tr>\n",
       "    <tr>\n",
       "      <th>2</th>\n",
       "      <td>9.1</td>\n",
       "      <td>The Godfather: Part II</td>\n",
       "      <td>R</td>\n",
       "      <td>Crime</td>\n",
       "    </tr>\n",
       "    <tr>\n",
       "      <th>3</th>\n",
       "      <td>9.0</td>\n",
       "      <td>The Dark Knight</td>\n",
       "      <td>PG-13</td>\n",
       "      <td>Action</td>\n",
       "    </tr>\n",
       "    <tr>\n",
       "      <th>4</th>\n",
       "      <td>8.9</td>\n",
       "      <td>Pulp Fiction</td>\n",
       "      <td>R</td>\n",
       "      <td>Crime</td>\n",
       "    </tr>\n",
       "  </tbody>\n",
       "</table>\n",
       "</div>"
      ]
     },
     "execution_count": 24,
     "metadata": {},
     "output_type": "execute_result"
    }
   ],
   "execution_count": 24
  },
  {
   "metadata": {
    "ExecuteTime": {
     "end_time": "2024-08-27T20:45:27.720470Z",
     "start_time": "2024-08-27T20:45:27.694961Z"
    }
   },
   "cell_type": "code",
   "source": "filmes01.head()",
   "id": "e097a257be585d44",
   "outputs": [
    {
     "data": {
      "text/plain": [
       "   star_rating                     title   genre  duration  \\\n",
       "0          9.3  The Shawshank Redemption   Crime       142   \n",
       "1          9.2             The Godfather   Crime       175   \n",
       "2          9.1    The Godfather: Part II   Crime       200   \n",
       "3          9.0           The Dark Knight  Action       152   \n",
       "4          8.9              Pulp Fiction   Crime       154   \n",
       "\n",
       "                                         actors_list  \n",
       "0  [u'Tim Robbins', u'Morgan Freeman', u'Bob Gunt...  \n",
       "1    [u'Marlon Brando', u'Al Pacino', u'James Caan']  \n",
       "2  [u'Al Pacino', u'Robert De Niro', u'Robert Duv...  \n",
       "3  [u'Christian Bale', u'Heath Ledger', u'Aaron E...  \n",
       "4  [u'John Travolta', u'Uma Thurman', u'Samuel L....  "
      ],
      "text/html": [
       "<div>\n",
       "<style scoped>\n",
       "    .dataframe tbody tr th:only-of-type {\n",
       "        vertical-align: middle;\n",
       "    }\n",
       "\n",
       "    .dataframe tbody tr th {\n",
       "        vertical-align: top;\n",
       "    }\n",
       "\n",
       "    .dataframe thead th {\n",
       "        text-align: right;\n",
       "    }\n",
       "</style>\n",
       "<table border=\"1\" class=\"dataframe\">\n",
       "  <thead>\n",
       "    <tr style=\"text-align: right;\">\n",
       "      <th></th>\n",
       "      <th>star_rating</th>\n",
       "      <th>title</th>\n",
       "      <th>genre</th>\n",
       "      <th>duration</th>\n",
       "      <th>actors_list</th>\n",
       "    </tr>\n",
       "  </thead>\n",
       "  <tbody>\n",
       "    <tr>\n",
       "      <th>0</th>\n",
       "      <td>9.3</td>\n",
       "      <td>The Shawshank Redemption</td>\n",
       "      <td>Crime</td>\n",
       "      <td>142</td>\n",
       "      <td>[u'Tim Robbins', u'Morgan Freeman', u'Bob Gunt...</td>\n",
       "    </tr>\n",
       "    <tr>\n",
       "      <th>1</th>\n",
       "      <td>9.2</td>\n",
       "      <td>The Godfather</td>\n",
       "      <td>Crime</td>\n",
       "      <td>175</td>\n",
       "      <td>[u'Marlon Brando', u'Al Pacino', u'James Caan']</td>\n",
       "    </tr>\n",
       "    <tr>\n",
       "      <th>2</th>\n",
       "      <td>9.1</td>\n",
       "      <td>The Godfather: Part II</td>\n",
       "      <td>Crime</td>\n",
       "      <td>200</td>\n",
       "      <td>[u'Al Pacino', u'Robert De Niro', u'Robert Duv...</td>\n",
       "    </tr>\n",
       "    <tr>\n",
       "      <th>3</th>\n",
       "      <td>9.0</td>\n",
       "      <td>The Dark Knight</td>\n",
       "      <td>Action</td>\n",
       "      <td>152</td>\n",
       "      <td>[u'Christian Bale', u'Heath Ledger', u'Aaron E...</td>\n",
       "    </tr>\n",
       "    <tr>\n",
       "      <th>4</th>\n",
       "      <td>8.9</td>\n",
       "      <td>Pulp Fiction</td>\n",
       "      <td>Crime</td>\n",
       "      <td>154</td>\n",
       "      <td>[u'John Travolta', u'Uma Thurman', u'Samuel L....</td>\n",
       "    </tr>\n",
       "  </tbody>\n",
       "</table>\n",
       "</div>"
      ]
     },
     "execution_count": 25,
     "metadata": {},
     "output_type": "execute_result"
    }
   ],
   "execution_count": 25
  },
  {
   "metadata": {},
   "cell_type": "markdown",
   "source": "## Removendo linhas do Dataframe",
   "id": "3a3df070bf7910f6"
  },
  {
   "metadata": {
    "ExecuteTime": {
     "end_time": "2024-08-27T20:47:19.651891Z",
     "start_time": "2024-08-27T20:47:19.642746Z"
    }
   },
   "cell_type": "code",
   "source": [
    "# Axis = 1 - Colunas / Axis = 0 Linhas\n",
    "filmes02.head()"
   ],
   "id": "58d84ac75753f4ee",
   "outputs": [
    {
     "data": {
      "text/plain": [
       "   star_rating                     title content_rating   genre\n",
       "0          9.3  The Shawshank Redemption              R   Crime\n",
       "1          9.2             The Godfather              R   Crime\n",
       "2          9.1    The Godfather: Part II              R   Crime\n",
       "3          9.0           The Dark Knight          PG-13  Action\n",
       "4          8.9              Pulp Fiction              R   Crime"
      ],
      "text/html": [
       "<div>\n",
       "<style scoped>\n",
       "    .dataframe tbody tr th:only-of-type {\n",
       "        vertical-align: middle;\n",
       "    }\n",
       "\n",
       "    .dataframe tbody tr th {\n",
       "        vertical-align: top;\n",
       "    }\n",
       "\n",
       "    .dataframe thead th {\n",
       "        text-align: right;\n",
       "    }\n",
       "</style>\n",
       "<table border=\"1\" class=\"dataframe\">\n",
       "  <thead>\n",
       "    <tr style=\"text-align: right;\">\n",
       "      <th></th>\n",
       "      <th>star_rating</th>\n",
       "      <th>title</th>\n",
       "      <th>content_rating</th>\n",
       "      <th>genre</th>\n",
       "    </tr>\n",
       "  </thead>\n",
       "  <tbody>\n",
       "    <tr>\n",
       "      <th>0</th>\n",
       "      <td>9.3</td>\n",
       "      <td>The Shawshank Redemption</td>\n",
       "      <td>R</td>\n",
       "      <td>Crime</td>\n",
       "    </tr>\n",
       "    <tr>\n",
       "      <th>1</th>\n",
       "      <td>9.2</td>\n",
       "      <td>The Godfather</td>\n",
       "      <td>R</td>\n",
       "      <td>Crime</td>\n",
       "    </tr>\n",
       "    <tr>\n",
       "      <th>2</th>\n",
       "      <td>9.1</td>\n",
       "      <td>The Godfather: Part II</td>\n",
       "      <td>R</td>\n",
       "      <td>Crime</td>\n",
       "    </tr>\n",
       "    <tr>\n",
       "      <th>3</th>\n",
       "      <td>9.0</td>\n",
       "      <td>The Dark Knight</td>\n",
       "      <td>PG-13</td>\n",
       "      <td>Action</td>\n",
       "    </tr>\n",
       "    <tr>\n",
       "      <th>4</th>\n",
       "      <td>8.9</td>\n",
       "      <td>Pulp Fiction</td>\n",
       "      <td>R</td>\n",
       "      <td>Crime</td>\n",
       "    </tr>\n",
       "  </tbody>\n",
       "</table>\n",
       "</div>"
      ]
     },
     "execution_count": 26,
     "metadata": {},
     "output_type": "execute_result"
    }
   ],
   "execution_count": 26
  },
  {
   "metadata": {
    "ExecuteTime": {
     "end_time": "2024-08-27T20:47:43.732898Z",
     "start_time": "2024-08-27T20:47:43.719814Z"
    }
   },
   "cell_type": "code",
   "source": [
    "filmes03 = filmes02.drop([0, 1], axis=0)\n",
    "filmes03.head()"
   ],
   "id": "8b5e904f75c2e97c",
   "outputs": [
    {
     "data": {
      "text/plain": [
       "   star_rating                           title content_rating    genre\n",
       "2          9.1          The Godfather: Part II              R    Crime\n",
       "3          9.0                 The Dark Knight          PG-13   Action\n",
       "4          8.9                    Pulp Fiction              R    Crime\n",
       "5          8.9                    12 Angry Men      NOT RATED    Drama\n",
       "6          8.9  The Good, the Bad and the Ugly      NOT RATED  Western"
      ],
      "text/html": [
       "<div>\n",
       "<style scoped>\n",
       "    .dataframe tbody tr th:only-of-type {\n",
       "        vertical-align: middle;\n",
       "    }\n",
       "\n",
       "    .dataframe tbody tr th {\n",
       "        vertical-align: top;\n",
       "    }\n",
       "\n",
       "    .dataframe thead th {\n",
       "        text-align: right;\n",
       "    }\n",
       "</style>\n",
       "<table border=\"1\" class=\"dataframe\">\n",
       "  <thead>\n",
       "    <tr style=\"text-align: right;\">\n",
       "      <th></th>\n",
       "      <th>star_rating</th>\n",
       "      <th>title</th>\n",
       "      <th>content_rating</th>\n",
       "      <th>genre</th>\n",
       "    </tr>\n",
       "  </thead>\n",
       "  <tbody>\n",
       "    <tr>\n",
       "      <th>2</th>\n",
       "      <td>9.1</td>\n",
       "      <td>The Godfather: Part II</td>\n",
       "      <td>R</td>\n",
       "      <td>Crime</td>\n",
       "    </tr>\n",
       "    <tr>\n",
       "      <th>3</th>\n",
       "      <td>9.0</td>\n",
       "      <td>The Dark Knight</td>\n",
       "      <td>PG-13</td>\n",
       "      <td>Action</td>\n",
       "    </tr>\n",
       "    <tr>\n",
       "      <th>4</th>\n",
       "      <td>8.9</td>\n",
       "      <td>Pulp Fiction</td>\n",
       "      <td>R</td>\n",
       "      <td>Crime</td>\n",
       "    </tr>\n",
       "    <tr>\n",
       "      <th>5</th>\n",
       "      <td>8.9</td>\n",
       "      <td>12 Angry Men</td>\n",
       "      <td>NOT RATED</td>\n",
       "      <td>Drama</td>\n",
       "    </tr>\n",
       "    <tr>\n",
       "      <th>6</th>\n",
       "      <td>8.9</td>\n",
       "      <td>The Good, the Bad and the Ugly</td>\n",
       "      <td>NOT RATED</td>\n",
       "      <td>Western</td>\n",
       "    </tr>\n",
       "  </tbody>\n",
       "</table>\n",
       "</div>"
      ]
     },
     "execution_count": 27,
     "metadata": {},
     "output_type": "execute_result"
    }
   ],
   "execution_count": 27
  }
 ],
 "metadata": {
  "kernelspec": {
   "display_name": "Python 3",
   "language": "python",
   "name": "python3"
  },
  "language_info": {
   "codemirror_mode": {
    "name": "ipython",
    "version": 2
   },
   "file_extension": ".py",
   "mimetype": "text/x-python",
   "name": "python",
   "nbconvert_exporter": "python",
   "pygments_lexer": "ipython2",
   "version": "2.7.6"
  }
 },
 "nbformat": 4,
 "nbformat_minor": 5
}
