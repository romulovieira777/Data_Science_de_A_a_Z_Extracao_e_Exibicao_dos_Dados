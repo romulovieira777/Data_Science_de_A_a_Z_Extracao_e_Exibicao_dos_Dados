{
 "cells": [
  {
   "cell_type": "code",
   "execution_count": 1,
   "id": "2db42d46",
   "metadata": {},
   "outputs": [],
   "source": [
    "import os"
   ]
  },
  {
   "cell_type": "code",
   "execution_count": 2,
   "id": "b1ca7a19",
   "metadata": {},
   "outputs": [],
   "source": [
    "os.path?"
   ]
  },
  {
   "cell_type": "code",
   "execution_count": 3,
   "id": "5b525bc1",
   "metadata": {},
   "outputs": [
    {
     "data": {
      "text/plain": [
       "['__all__',\n",
       " '__builtins__',\n",
       " '__cached__',\n",
       " '__doc__',\n",
       " '__file__',\n",
       " '__loader__',\n",
       " '__name__',\n",
       " '__package__',\n",
       " '__spec__',\n",
       " '_abspath_fallback',\n",
       " '_get_bothseps',\n",
       " '_getfinalpathname',\n",
       " '_getfinalpathname_nonstrict',\n",
       " '_getfullpathname',\n",
       " '_getvolumepathname',\n",
       " '_nt_readlink',\n",
       " '_readlink_deep',\n",
       " 'abspath',\n",
       " 'altsep',\n",
       " 'basename',\n",
       " 'commonpath',\n",
       " 'commonprefix',\n",
       " 'curdir',\n",
       " 'defpath',\n",
       " 'devnull',\n",
       " 'dirname',\n",
       " 'exists',\n",
       " 'expanduser',\n",
       " 'expandvars',\n",
       " 'extsep',\n",
       " 'genericpath',\n",
       " 'getatime',\n",
       " 'getctime',\n",
       " 'getmtime',\n",
       " 'getsize',\n",
       " 'isabs',\n",
       " 'isdir',\n",
       " 'isfile',\n",
       " 'islink',\n",
       " 'ismount',\n",
       " 'join',\n",
       " 'lexists',\n",
       " 'normcase',\n",
       " 'normpath',\n",
       " 'os',\n",
       " 'pardir',\n",
       " 'pathsep',\n",
       " 'realpath',\n",
       " 'relpath',\n",
       " 'samefile',\n",
       " 'sameopenfile',\n",
       " 'samestat',\n",
       " 'sep',\n",
       " 'split',\n",
       " 'splitdrive',\n",
       " 'splitext',\n",
       " 'stat',\n",
       " 'supports_unicode_filenames',\n",
       " 'sys']"
      ]
     },
     "execution_count": 3,
     "metadata": {},
     "output_type": "execute_result"
    }
   ],
   "source": [
    "# Podemos utilizar o DIR também em um método\n",
    "dir(os.path)"
   ]
  },
  {
   "cell_type": "code",
   "execution_count": 4,
   "id": "0b52c641",
   "metadata": {},
   "outputs": [],
   "source": [
    "fullpath = 'caminho do arquivo'"
   ]
  },
  {
   "cell_type": "code",
   "execution_count": 5,
   "id": "dd72a8cd",
   "metadata": {},
   "outputs": [],
   "source": [
    "# Basename consegue pegar o nome do arquivo em um caminho completo\n",
    "arquivo = os.path.basename(fullpath)"
   ]
  },
  {
   "cell_type": "code",
   "execution_count": 6,
   "id": "9120f789",
   "metadata": {},
   "outputs": [
    {
     "data": {
      "text/plain": [
       "'Seção_14_Python_Bibliotecas_Gerais\\teste.txt'"
      ]
     },
     "execution_count": 6,
     "metadata": {},
     "output_type": "execute_result"
    }
   ],
   "source": [
    "arquivo"
   ]
  },
  {
   "cell_type": "markdown",
   "id": "c44cec96",
   "metadata": {},
   "source": [
    "### Outra forma de pegarmos o nome do arquivo é indexando.\n",
    "\n",
    "### Veja a imagem \n",
    "\n",
    "## C:\\\\raw\\\\teste.txt"
   ]
  },
  {
   "cell_type": "code",
   "execution_count": 7,
   "id": "32c0aa0f",
   "metadata": {},
   "outputs": [
    {
     "data": {
      "text/plain": [
       "'\\teste.txt'"
      ]
     },
     "execution_count": 7,
     "metadata": {},
     "output_type": "execute_result"
    }
   ],
   "source": [
    "fullpath[-9:]"
   ]
  },
  {
   "cell_type": "code",
   "execution_count": 8,
   "id": "43d4cb0d",
   "metadata": {},
   "outputs": [
    {
     "data": {
      "text/plain": [
       "('Seção_14_Python_Bibliotecas_Gerais\\teste', '.txt')"
      ]
     },
     "execution_count": 8,
     "metadata": {},
     "output_type": "execute_result"
    }
   ],
   "source": [
    "# Agora que já aprendemos a separar path de arquivo, vamos aprender a separar a extensão do nome\n",
    "os.path.splitext(arquivo)"
   ]
  },
  {
   "cell_type": "code",
   "execution_count": 9,
   "id": "6c45c2cf",
   "metadata": {},
   "outputs": [
    {
     "data": {
      "text/plain": [
       "'Seção_14_Python_Bibliotecas_Gerais\\teste'"
      ]
     },
     "execution_count": 9,
     "metadata": {},
     "output_type": "execute_result"
    }
   ],
   "source": [
    "os.path.splitext(arquivo)[0]"
   ]
  },
  {
   "cell_type": "code",
   "execution_count": 10,
   "id": "b1e2a579",
   "metadata": {},
   "outputs": [
    {
     "data": {
      "text/plain": [
       "'.txt'"
      ]
     },
     "execution_count": 10,
     "metadata": {},
     "output_type": "execute_result"
    }
   ],
   "source": [
    "os.path.splitext(arquivo)[1]"
   ]
  },
  {
   "cell_type": "code",
   "execution_count": 11,
   "id": "6035775b",
   "metadata": {},
   "outputs": [
    {
     "data": {
      "text/plain": [
       "False"
      ]
     },
     "execution_count": 11,
     "metadata": {},
     "output_type": "execute_result"
    }
   ],
   "source": [
    "# Como verificar se um caminho para o diretório existe?\n",
    "os.path.exists(fullpath)"
   ]
  },
  {
   "cell_type": "code",
   "execution_count": 12,
   "id": "9d76e3bc",
   "metadata": {},
   "outputs": [],
   "source": [
    "# Uma situação pratica é verificar se um diretório existe e caso não exista, criar\n",
    "path = 'caminho do arquivo'\n",
    "\n",
    "if not os.path.exists(path):\n",
    "    os.makedirs(path)"
   ]
  }
 ],
 "metadata": {
  "kernelspec": {
   "display_name": "Python 3 (ipykernel)",
   "language": "python",
   "name": "python3"
  },
  "language_info": {
   "codemirror_mode": {
    "name": "ipython",
    "version": 3
   },
   "file_extension": ".py",
   "mimetype": "text/x-python",
   "name": "python",
   "nbconvert_exporter": "python",
   "pygments_lexer": "ipython3",
   "version": "3.10.2"
  }
 },
 "nbformat": 4,
 "nbformat_minor": 5
}
