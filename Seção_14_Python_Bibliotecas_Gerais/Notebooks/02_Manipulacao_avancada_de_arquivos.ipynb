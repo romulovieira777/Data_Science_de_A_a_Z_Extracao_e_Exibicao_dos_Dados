{
 "cells": [
  {
   "cell_type": "code",
   "execution_count": 1,
   "id": "bbb673b5",
   "metadata": {},
   "outputs": [],
   "source": [
    "# Isto irá criar um arquivo. Quando um arquivo não existe, o parâmetro W cria um.\n",
    "arquivo = open('../Dataset/teste.txt', 'w')"
   ]
  },
  {
   "cell_type": "markdown",
   "id": "072fa6ea",
   "metadata": {},
   "source": [
    "### Tente deletar o arquivo. O arquivo não é apagado pois o Python está em poder do arquivo"
   ]
  },
  {
   "cell_type": "code",
   "execution_count": 2,
   "id": "0fef49b9",
   "metadata": {},
   "outputs": [],
   "source": [
    "# Após executar o comando abaixo, apague o arquivo\n",
    "arquivo.close()"
   ]
  },
  {
   "cell_type": "code",
   "execution_count": 3,
   "id": "c10a5e9a",
   "metadata": {},
   "outputs": [],
   "source": [
    "# Crie novamente o arquivo\n",
    "arquivo = open('../Dataset/teste.txt', 'w')"
   ]
  },
  {
   "cell_type": "code",
   "execution_count": 4,
   "id": "f0111619",
   "metadata": {},
   "outputs": [
    {
     "data": {
      "text/plain": [
       "28"
      ]
     },
     "execution_count": 4,
     "metadata": {},
     "output_type": "execute_result"
    }
   ],
   "source": [
    "# Escreva algo no arquivo\n",
    "arquivo.write('Alguma coisa escrita aqui!!!')"
   ]
  },
  {
   "cell_type": "code",
   "execution_count": 5,
   "id": "0c78024f",
   "metadata": {},
   "outputs": [],
   "source": [
    "# Feche o arquivo e verifique o conteúdo escrito\n",
    "arquivo.close()"
   ]
  },
  {
   "cell_type": "code",
   "execution_count": 6,
   "id": "9b3d5144",
   "metadata": {},
   "outputs": [
    {
     "data": {
      "text/plain": [
       "'Alguma coisa escrita aqui!!!'"
      ]
     },
     "execution_count": 6,
     "metadata": {},
     "output_type": "execute_result"
    }
   ],
   "source": [
    "# Podemos abrir o arquivo em modo leitura e armazenar o conteúdo em uma variável\n",
    "arquivo = open('../Dataset/teste.txt', 'r')\n",
    "conteudo = arquivo.read()\n",
    "conteudo"
   ]
  },
  {
   "cell_type": "code",
   "execution_count": 7,
   "id": "1cd781df",
   "metadata": {},
   "outputs": [],
   "source": [
    "# Necessitamos fechar o arquivo\n",
    "arquivo.close()"
   ]
  },
  {
   "cell_type": "code",
   "execution_count": 8,
   "id": "b01b499f",
   "metadata": {},
   "outputs": [],
   "source": [
    "# Vamos escrever uma nova linha\n",
    "arquivo = open('../Dataset/teste.txt', 'w')\n",
    "arquivo.write('Escrevendo uma nova linha!')\n",
    "arquivo.close()"
   ]
  },
  {
   "cell_type": "code",
   "execution_count": 9,
   "id": "e6972456",
   "metadata": {},
   "outputs": [],
   "source": [
    "# Ao abrir o arquivo, vemos que a linha foi sobrescrita.\n",
    "# Como escrever uma nova linha então?\n",
    "# Como o modo A de APPEND\n",
    "arquivo = open('../Dataset/teste.txt', 'a')\n",
    "arquivo.write('\\nEscrevendo uma nova linha com append ;-)')\n",
    "arquivo.close()"
   ]
  },
  {
   "cell_type": "markdown",
   "id": "2db63a75",
   "metadata": {},
   "source": [
    "## O que aprendemos:\n",
    "    1 - Abrir o arquivo\n",
    "    2 - Ler ou escrever\n",
    "    3 - Fechar o arquivo\n",
    "\n",
    "## Devemos indicar o caminho do arquivo caso contrário, ele será criado em nosso diretório de trabalho."
   ]
  },
  {
   "cell_type": "code",
   "execution_count": 10,
   "id": "80dd15a7",
   "metadata": {},
   "outputs": [],
   "source": [
    "# Podemos simplificar\n",
    "with open('../Dataset/teste.txt', 'w') as arq:\n",
    "    arq.write('Utilizando WITH')"
   ]
  }
 ],
 "metadata": {
  "kernelspec": {
   "display_name": "Python 3 (ipykernel)",
   "language": "python",
   "name": "python3"
  },
  "language_info": {
   "codemirror_mode": {
    "name": "ipython",
    "version": 3
   },
   "file_extension": ".py",
   "mimetype": "text/x-python",
   "name": "python",
   "nbconvert_exporter": "python",
   "pygments_lexer": "ipython3",
   "version": "3.10.2"
  }
 },
 "nbformat": 4,
 "nbformat_minor": 5
}
