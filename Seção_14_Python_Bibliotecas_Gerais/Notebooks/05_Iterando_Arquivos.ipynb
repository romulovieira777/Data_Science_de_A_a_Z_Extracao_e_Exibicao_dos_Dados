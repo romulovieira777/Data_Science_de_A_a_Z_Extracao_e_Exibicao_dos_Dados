{
 "cells": [
  {
   "cell_type": "code",
   "execution_count": 1,
   "id": "177de147",
   "metadata": {},
   "outputs": [],
   "source": [
    "import os\n",
    "\n",
    "os.chdir('caminho do arquivo')"
   ]
  },
  {
   "cell_type": "code",
   "execution_count": 2,
   "id": "de2936b8",
   "metadata": {},
   "outputs": [],
   "source": [
    "with open('caminho do arquivo\\teste.txt', 'w') as arq:\n",
    "    arq.write('Utilizando WITH')"
   ]
  },
  {
   "cell_type": "code",
   "execution_count": 3,
   "id": "df281f73",
   "metadata": {},
   "outputs": [],
   "source": [
    "# Renomeando arquivos e diretórios\n",
    "os.rename('.teste.txt', 'teste.csv')"
   ]
  },
  {
   "cell_type": "code",
   "execution_count": 4,
   "id": "ceb31d0b",
   "metadata": {},
   "outputs": [
    {
     "data": {
      "text/plain": [
       "['Dataset', 'Notebooks', 'teste.csv']"
      ]
     },
     "execution_count": 4,
     "metadata": {},
     "output_type": "execute_result"
    }
   ],
   "source": [
    "os.listdir()"
   ]
  },
  {
   "cell_type": "code",
   "execution_count": 5,
   "id": "4df1deb2",
   "metadata": {},
   "outputs": [],
   "source": [
    "arquivo = 'teste.csv'"
   ]
  },
  {
   "cell_type": "code",
   "execution_count": 6,
   "id": "6159f017",
   "metadata": {},
   "outputs": [],
   "source": [
    "nome = os.path.splitext(arquivo)[0]"
   ]
  },
  {
   "cell_type": "code",
   "execution_count": 7,
   "id": "d4b7b958",
   "metadata": {},
   "outputs": [
    {
     "data": {
      "text/plain": [
       "'teste'"
      ]
     },
     "execution_count": 7,
     "metadata": {},
     "output_type": "execute_result"
    }
   ],
   "source": [
    "nome"
   ]
  },
  {
   "cell_type": "code",
   "execution_count": 8,
   "id": "b955072f",
   "metadata": {},
   "outputs": [],
   "source": [
    "novonome = nome + '.txt'"
   ]
  },
  {
   "cell_type": "code",
   "execution_count": 9,
   "id": "cbc71534",
   "metadata": {},
   "outputs": [
    {
     "data": {
      "text/plain": [
       "'teste.txt'"
      ]
     },
     "execution_count": 9,
     "metadata": {},
     "output_type": "execute_result"
    }
   ],
   "source": [
    "novonome"
   ]
  },
  {
   "cell_type": "code",
   "execution_count": 10,
   "id": "c425cee8",
   "metadata": {},
   "outputs": [],
   "source": [
    "os.rename(arquivo, novonome)"
   ]
  },
  {
   "cell_type": "code",
   "execution_count": 11,
   "id": "c0deacd6",
   "metadata": {},
   "outputs": [
    {
     "data": {
      "text/plain": [
       "['Dataset', 'Notebooks', 'teste.txt']"
      ]
     },
     "execution_count": 11,
     "metadata": {},
     "output_type": "execute_result"
    }
   ],
   "source": [
    "os.listdir()"
   ]
  },
  {
   "cell_type": "markdown",
   "id": "a5b31507",
   "metadata": {},
   "source": [
    "## Caso eu tenha muitos arquivos?"
   ]
  },
  {
   "cell_type": "code",
   "execution_count": 12,
   "id": "808d6c87",
   "metadata": {},
   "outputs": [],
   "source": [
    "# O módulo glob fornece uma função para criar listas de arquivos a partir de buscas em diretórios usando caracteres curinga\n",
    "import glob\n",
    "import os"
   ]
  },
  {
   "cell_type": "code",
   "execution_count": 13,
   "id": "525a6575",
   "metadata": {},
   "outputs": [],
   "source": [
    "os.chdir('caminho do arquivo')"
   ]
  },
  {
   "cell_type": "code",
   "execution_count": 14,
   "id": "f9d3e94a",
   "metadata": {},
   "outputs": [
    {
     "data": {
      "text/plain": [
       "['Dataset', 'Notebooks', 'teste.txt']"
      ]
     },
     "execution_count": 14,
     "metadata": {},
     "output_type": "execute_result"
    }
   ],
   "source": [
    "os.listdir()"
   ]
  },
  {
   "cell_type": "code",
   "execution_count": 15,
   "id": "b973e3ed",
   "metadata": {},
   "outputs": [],
   "source": [
    "# Utilizando o glob\n",
    "txtlist = glob.glob('*.csv')"
   ]
  },
  {
   "cell_type": "code",
   "execution_count": 16,
   "id": "4813abe0",
   "metadata": {},
   "outputs": [
    {
     "name": "stdout",
     "output_type": "stream",
     "text": [
      "[]\n"
     ]
    }
   ],
   "source": [
    "print(txtlist)"
   ]
  },
  {
   "cell_type": "code",
   "execution_count": 17,
   "id": "623f2483",
   "metadata": {},
   "outputs": [],
   "source": [
    "# Iterando a lista\n",
    "for arquivo in txtlist:\n",
    "    nome = os.path.splitext(arquivo)[0]\n",
    "    novonome = nome + '.csv'\n",
    "    os.rename(arquivo, novonome)"
   ]
  },
  {
   "cell_type": "code",
   "execution_count": 18,
   "id": "74a87e5a",
   "metadata": {},
   "outputs": [
    {
     "data": {
      "text/plain": [
       "['Dataset', 'Notebooks', 'teste.txt']"
      ]
     },
     "execution_count": 18,
     "metadata": {},
     "output_type": "execute_result"
    }
   ],
   "source": [
    "os.listdir()"
   ]
  }
 ],
 "metadata": {
  "kernelspec": {
   "display_name": "Python 3 (ipykernel)",
   "language": "python",
   "name": "python3"
  },
  "language_info": {
   "codemirror_mode": {
    "name": "ipython",
    "version": 3
   },
   "file_extension": ".py",
   "mimetype": "text/x-python",
   "name": "python",
   "nbconvert_exporter": "python",
   "pygments_lexer": "ipython3",
   "version": "3.10.2"
  }
 },
 "nbformat": 4,
 "nbformat_minor": 5
}
