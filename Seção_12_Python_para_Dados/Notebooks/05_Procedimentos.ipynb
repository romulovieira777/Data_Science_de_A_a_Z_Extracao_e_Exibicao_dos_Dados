{
 "cells": [
  {
   "cell_type": "markdown",
   "id": "7610cc72",
   "metadata": {},
   "source": [
    "## Criando Procedimentos"
   ]
  },
  {
   "cell_type": "code",
   "execution_count": 1,
   "id": "82ad5e70",
   "metadata": {},
   "outputs": [],
   "source": [
    "# Adiferença entre um return e um print é que você pode fazer qualquer coisa com um retorno. Podemos atribuir um retorno \n",
    "# a uma variável, fazer qualquer operação, inclusive imprimir o retorno.\n",
    "\n",
    "def soma(a, b):\n",
    "    return(a + b)"
   ]
  },
  {
   "cell_type": "code",
   "execution_count": 2,
   "id": "9d9e90f9",
   "metadata": {},
   "outputs": [
    {
     "data": {
      "text/plain": [
       "30"
      ]
     },
     "execution_count": 2,
     "metadata": {},
     "output_type": "execute_result"
    }
   ],
   "source": [
    "soma(10, 20)"
   ]
  },
  {
   "cell_type": "code",
   "execution_count": 3,
   "id": "043ab86f",
   "metadata": {},
   "outputs": [],
   "source": [
    "# Definir um procedimento que verifique se um número é maior que outro\n",
    "# Útil em Estatística\n",
    "\n",
    "def verificacao(a, b):\n",
    "    if a > b:\n",
    "        return a\n",
    "    elif b > a:\n",
    "        return b\n",
    "    else:\n",
    "        return \"Números iguais\""
   ]
  },
  {
   "cell_type": "code",
   "execution_count": 4,
   "id": "c8b49f75",
   "metadata": {},
   "outputs": [
    {
     "data": {
      "text/plain": [
       "'Números iguais'"
      ]
     },
     "execution_count": 4,
     "metadata": {},
     "output_type": "execute_result"
    }
   ],
   "source": [
    "verificacao(10, 10)"
   ]
  },
  {
   "cell_type": "code",
   "execution_count": 5,
   "id": "a5846fdf",
   "metadata": {},
   "outputs": [
    {
     "data": {
      "text/plain": [
       "40"
      ]
     },
     "execution_count": 5,
     "metadata": {},
     "output_type": "execute_result"
    }
   ],
   "source": [
    "verificacao(30, 40)"
   ]
  },
  {
   "cell_type": "code",
   "execution_count": 6,
   "id": "43a4db85",
   "metadata": {},
   "outputs": [],
   "source": [
    "def concat(a, b):\n",
    "    return a + \" \" + b"
   ]
  },
  {
   "cell_type": "code",
   "execution_count": 7,
   "id": "676cb39f",
   "metadata": {},
   "outputs": [
    {
     "data": {
      "text/plain": [
       "'Uma vez Duas vez'"
      ]
     },
     "execution_count": 7,
     "metadata": {},
     "output_type": "execute_result"
    }
   ],
   "source": [
    "concat(\"Uma vez\", \"Duas vez\")"
   ]
  },
  {
   "cell_type": "code",
   "execution_count": 8,
   "id": "5efcf8ed",
   "metadata": {},
   "outputs": [],
   "source": [
    "# Defina um procedimento que verifique se um número é par ou ímpar"
   ]
  },
  {
   "cell_type": "code",
   "execution_count": 9,
   "id": "d954c860",
   "metadata": {},
   "outputs": [],
   "source": [
    "def parImpar(num):\n",
    "    mod = num % 2\n",
    "    if mod == 0:\n",
    "        return \"Par\"\n",
    "    else:\n",
    "        return \"Ímpar\""
   ]
  },
  {
   "cell_type": "code",
   "execution_count": 10,
   "id": "f20f0389",
   "metadata": {},
   "outputs": [
    {
     "name": "stdout",
     "output_type": "stream",
     "text": [
      "Par\n",
      "Ímpar\n"
     ]
    }
   ],
   "source": [
    "print(parImpar(10))\n",
    "print(parImpar(5))"
   ]
  },
  {
   "cell_type": "markdown",
   "id": "4f4b8190",
   "metadata": {},
   "source": [
    "## Escopo de Variáveis"
   ]
  },
  {
   "cell_type": "code",
   "execution_count": 11,
   "id": "a8a3e4b6",
   "metadata": {},
   "outputs": [],
   "source": [
    "numero = 10\n",
    "\n",
    "def potencia(numero, pot):\n",
    "    numero2 = numero ** pot\n",
    "    print(numero2)"
   ]
  },
  {
   "cell_type": "code",
   "execution_count": 12,
   "id": "48287e7e",
   "metadata": {},
   "outputs": [
    {
     "name": "stdout",
     "output_type": "stream",
     "text": [
      "100\n"
     ]
    }
   ],
   "source": [
    "potencia(10, 2)"
   ]
  },
  {
   "cell_type": "code",
   "execution_count": 13,
   "id": "6ead8749",
   "metadata": {},
   "outputs": [],
   "source": [
    "numero = 10\n",
    "\n",
    "def potencia(nuero, pot):\n",
    "    numero2 = numero ** pot\n",
    "    print(numero2)"
   ]
  },
  {
   "cell_type": "code",
   "execution_count": 14,
   "id": "18463a41",
   "metadata": {},
   "outputs": [
    {
     "name": "stdout",
     "output_type": "stream",
     "text": [
      "100\n"
     ]
    }
   ],
   "source": [
    "potencia(numero, 2)"
   ]
  },
  {
   "cell_type": "code",
   "execution_count": 15,
   "id": "c178d106",
   "metadata": {},
   "outputs": [
    {
     "name": "stdout",
     "output_type": "stream",
     "text": [
      "10\n"
     ]
    }
   ],
   "source": [
    "print(numero)"
   ]
  }
 ],
 "metadata": {
  "kernelspec": {
   "display_name": "Python 3 (ipykernel)",
   "language": "python",
   "name": "python3"
  },
  "language_info": {
   "codemirror_mode": {
    "name": "ipython",
    "version": 3
   },
   "file_extension": ".py",
   "mimetype": "text/x-python",
   "name": "python",
   "nbconvert_exporter": "python",
   "pygments_lexer": "ipython3",
   "version": "3.10.2"
  }
 },
 "nbformat": 4,
 "nbformat_minor": 5
}
