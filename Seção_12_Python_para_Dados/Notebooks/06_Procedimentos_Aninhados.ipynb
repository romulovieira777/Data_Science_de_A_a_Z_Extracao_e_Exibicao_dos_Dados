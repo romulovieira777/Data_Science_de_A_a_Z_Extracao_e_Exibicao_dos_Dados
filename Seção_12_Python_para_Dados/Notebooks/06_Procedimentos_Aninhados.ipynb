{
 "cells": [
  {
   "cell_type": "markdown",
   "id": "12549a8e",
   "metadata": {},
   "source": [
    "## Procedimentos Aninhados"
   ]
  },
  {
   "cell_type": "code",
   "execution_count": 1,
   "id": "abe3fe7d",
   "metadata": {},
   "outputs": [],
   "source": [
    "def pessoa(a):\n",
    "    return a + \" vai a/ao\""
   ]
  },
  {
   "cell_type": "code",
   "execution_count": 2,
   "id": "3ab94f76",
   "metadata": {},
   "outputs": [],
   "source": [
    "def lugar(b):\n",
    "    return b + \"!!!\""
   ]
  },
  {
   "cell_type": "code",
   "execution_count": 3,
   "id": "ca42a96a",
   "metadata": {},
   "outputs": [],
   "source": [
    "def frase(a, b):\n",
    "    sujeito = pessoa(a)\n",
    "    local = lugar(b)\n",
    "    return sujeito + \" \" + local"
   ]
  },
  {
   "cell_type": "code",
   "execution_count": 4,
   "id": "463a8de4",
   "metadata": {},
   "outputs": [
    {
     "data": {
      "text/plain": [
       "'Felicity vai a/ao Smoke!!!'"
      ]
     },
     "execution_count": 4,
     "metadata": {},
     "output_type": "execute_result"
    }
   ],
   "source": [
    "frase('Felicity', 'Smoke')"
   ]
  },
  {
   "cell_type": "markdown",
   "id": "f55682cf",
   "metadata": {},
   "source": [
    "### Podemos aninhar procedimentos e essa é uma das funções do retorno, ou seja, passar um parâmetro para outro procedimento e obter assim um resultado mais complexo."
   ]
  },
  {
   "cell_type": "code",
   "execution_count": 5,
   "id": "e77c3bda",
   "metadata": {},
   "outputs": [],
   "source": [
    "# Dados 3 números, descubra o maior deles.\n",
    "# Há várias formas de resolver o problema.\n",
    "def maiorNum(a, b):\n",
    "    if a > b:\n",
    "        return a\n",
    "    elif b > a:\n",
    "        return b\n",
    "    else:\n",
    "        return a"
   ]
  },
  {
   "cell_type": "code",
   "execution_count": 6,
   "id": "40c51695",
   "metadata": {},
   "outputs": [
    {
     "data": {
      "text/plain": [
       "23"
      ]
     },
     "execution_count": 6,
     "metadata": {},
     "output_type": "execute_result"
    }
   ],
   "source": [
    "maiorNum(23, 10)"
   ]
  },
  {
   "cell_type": "code",
   "execution_count": 7,
   "id": "194e0e16",
   "metadata": {},
   "outputs": [],
   "source": [
    "def maiorTres(a, b, c):\n",
    "    aux = maiorNum(a, b)\n",
    "    if aux > c:\n",
    "        return aux\n",
    "    elif c > aux:\n",
    "        return c\n",
    "    else:\n",
    "        return aux"
   ]
  },
  {
   "cell_type": "code",
   "execution_count": 8,
   "id": "76325877",
   "metadata": {},
   "outputs": [
    {
     "data": {
      "text/plain": [
       "865"
      ]
     },
     "execution_count": 8,
     "metadata": {},
     "output_type": "execute_result"
    }
   ],
   "source": [
    "maiorTres(56, 653, 865)"
   ]
  }
 ],
 "metadata": {
  "kernelspec": {
   "display_name": "Python 3 (ipykernel)",
   "language": "python",
   "name": "python3"
  },
  "language_info": {
   "codemirror_mode": {
    "name": "ipython",
    "version": 3
   },
   "file_extension": ".py",
   "mimetype": "text/x-python",
   "name": "python",
   "nbconvert_exporter": "python",
   "pygments_lexer": "ipython3",
   "version": "3.10.2"
  }
 },
 "nbformat": 4,
 "nbformat_minor": 5
}
