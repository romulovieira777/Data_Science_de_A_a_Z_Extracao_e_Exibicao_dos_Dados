{
 "cells": [
  {
   "cell_type": "markdown",
   "id": "adb88f6f",
   "metadata": {},
   "source": [
    "## Os sets são consjuntos únicos. Semelhante à um SELECT DISTINCT, e são muito utilizados em análises de Dados."
   ]
  },
  {
   "cell_type": "code",
   "execution_count": 1,
   "id": "f3e15ac4",
   "metadata": {},
   "outputs": [],
   "source": [
    "conjunto = set()"
   ]
  },
  {
   "cell_type": "code",
   "execution_count": 2,
   "id": "7916aafe",
   "metadata": {},
   "outputs": [],
   "source": [
    "conjunto.add(\"Java\")\n",
    "conjunto.add(\"R\")\n",
    "conjunto.add(\"Python\")"
   ]
  },
  {
   "cell_type": "code",
   "execution_count": 3,
   "id": "2d7c2fd3",
   "metadata": {},
   "outputs": [
    {
     "name": "stdout",
     "output_type": "stream",
     "text": [
      "{'R', 'Python', 'Java'}\n"
     ]
    }
   ],
   "source": [
    "print(conjunto)"
   ]
  },
  {
   "cell_type": "code",
   "execution_count": 4,
   "id": "cb420c01",
   "metadata": {},
   "outputs": [],
   "source": [
    "# Tentando adicionar um elemento repetido\n",
    "conjunto.add(\"Java\")"
   ]
  },
  {
   "cell_type": "code",
   "execution_count": 5,
   "id": "4230a2c5",
   "metadata": {},
   "outputs": [
    {
     "name": "stdout",
     "output_type": "stream",
     "text": [
      "{'R', 'Python', 'Java'}\n"
     ]
    }
   ],
   "source": [
    "# Imprimindo novamente\n",
    "print(conjunto)"
   ]
  },
  {
   "cell_type": "code",
   "execution_count": 6,
   "id": "098a18a7",
   "metadata": {},
   "outputs": [
    {
     "ename": "TypeError",
     "evalue": "'set' object is not subscriptable",
     "output_type": "error",
     "traceback": [
      "\u001b[1;31m---------------------------------------------------------------------------\u001b[0m",
      "\u001b[1;31mTypeError\u001b[0m                                 Traceback (most recent call last)",
      "Input \u001b[1;32mIn [6]\u001b[0m, in \u001b[0;36m<module>\u001b[1;34m\u001b[0m\n\u001b[0;32m      1\u001b[0m \u001b[38;5;66;03m# Sets não suportam indexação\u001b[39;00m\n\u001b[1;32m----> 2\u001b[0m \u001b[43mconjunto\u001b[49m\u001b[43m[\u001b[49m\u001b[38;5;241;43m1\u001b[39;49m\u001b[43m]\u001b[49m\n",
      "\u001b[1;31mTypeError\u001b[0m: 'set' object is not subscriptable"
     ]
    }
   ],
   "source": [
    "# Sets não suportam indexação\n",
    "conjunto[1]"
   ]
  },
  {
   "cell_type": "code",
   "execution_count": 7,
   "id": "1d863367",
   "metadata": {},
   "outputs": [
    {
     "data": {
      "text/plain": [
       "set"
      ]
     },
     "execution_count": 7,
     "metadata": {},
     "output_type": "execute_result"
    }
   ],
   "source": [
    "type(conjunto)"
   ]
  },
  {
   "cell_type": "code",
   "execution_count": 8,
   "id": "81772a71",
   "metadata": {},
   "outputs": [],
   "source": [
    "engenheiros = set(['João', 'Jane', 'Clara', 'Celia'])\n",
    "programadores = set(['Clara', 'Sam', 'Susan', 'Celia'])\n",
    "gerentes = set(['Jane', 'Clara', 'Susan', 'Zack'])"
   ]
  },
  {
   "cell_type": "code",
   "execution_count": 9,
   "id": "9de57421",
   "metadata": {},
   "outputs": [
    {
     "data": {
      "text/plain": [
       "{'Celia', 'Clara', 'Jane', 'João'}"
      ]
     },
     "execution_count": 9,
     "metadata": {},
     "output_type": "execute_result"
    }
   ],
   "source": [
    "engenheiros"
   ]
  },
  {
   "cell_type": "code",
   "execution_count": 10,
   "id": "3738c940",
   "metadata": {},
   "outputs": [
    {
     "data": {
      "text/plain": [
       "{'Celia', 'Clara', 'Jane', 'João', 'Sam', 'Susan', 'Zack'}"
      ]
     },
     "execution_count": 10,
     "metadata": {},
     "output_type": "execute_result"
    }
   ],
   "source": [
    "# União\n",
    "funcionarios = engenheiros | programadores | gerentes\n",
    "\n",
    "funcionarios"
   ]
  },
  {
   "cell_type": "code",
   "execution_count": 11,
   "id": "9685678f",
   "metadata": {},
   "outputs": [
    {
     "data": {
      "text/plain": [
       "{'Clara', 'Jane'}"
      ]
     },
     "execution_count": 11,
     "metadata": {},
     "output_type": "execute_result"
    }
   ],
   "source": [
    "# Interseção\n",
    "\n",
    "gerencia_de_engenharia = engenheiros & gerentes\n",
    "\n",
    "gerencia_de_engenharia"
   ]
  },
  {
   "cell_type": "code",
   "execution_count": 12,
   "id": "2d6f3f42",
   "metadata": {},
   "outputs": [
    {
     "data": {
      "text/plain": [
       "{'Susan', 'Zack'}"
      ]
     },
     "execution_count": 12,
     "metadata": {},
     "output_type": "execute_result"
    }
   ],
   "source": [
    "# Diferença\n",
    "gerentes = set(['Jane', 'Clara', 'Susan', 'Zack'])\n",
    "engenheiros = set(['João', 'Jane', 'Clara', 'Celia'])\n",
    "\n",
    "a = gerentes - engenheiros\n",
    "\n",
    "a"
   ]
  },
  {
   "cell_type": "code",
   "execution_count": 13,
   "id": "4ebc7a25",
   "metadata": {},
   "outputs": [
    {
     "data": {
      "text/plain": [
       "{'Jane', 'Zack'}"
      ]
     },
     "execution_count": 13,
     "metadata": {},
     "output_type": "execute_result"
    }
   ],
   "source": [
    "gerentes = set(['Jane', 'Clara', 'Susan', 'Zack'])\n",
    "programadores = set(['Clara', 'Sam', 'Susan', 'Celia'])\n",
    "\n",
    "b = gerentes - programadores\n",
    "\n",
    "b"
   ]
  }
 ],
 "metadata": {
  "kernelspec": {
   "display_name": "Python 3 (ipykernel)",
   "language": "python",
   "name": "python3"
  },
  "language_info": {
   "codemirror_mode": {
    "name": "ipython",
    "version": 3
   },
   "file_extension": ".py",
   "mimetype": "text/x-python",
   "name": "python",
   "nbconvert_exporter": "python",
   "pygments_lexer": "ipython3",
   "version": "3.10.2"
  }
 },
 "nbformat": 4,
 "nbformat_minor": 5
}
