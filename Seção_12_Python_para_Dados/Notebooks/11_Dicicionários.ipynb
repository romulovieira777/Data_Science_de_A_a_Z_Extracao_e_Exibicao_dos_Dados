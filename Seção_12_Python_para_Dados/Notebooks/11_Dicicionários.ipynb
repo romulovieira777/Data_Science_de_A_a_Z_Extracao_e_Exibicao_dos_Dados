{
 "cells": [
  {
   "cell_type": "markdown",
   "id": "26017798",
   "metadata": {},
   "source": [
    "## Dicionários"
   ]
  },
  {
   "cell_type": "markdown",
   "id": "3d270110",
   "metadata": {},
   "source": [
    "A diferença mais marcante entre listas e dicionários é que mesmo ambas sendo uma coleção de objetos mutáveis, as listas organizam-se por índeces posicionais, enquanto os dicionários organizam-se por padrão CHAVE VALOR. Lembra-se do Map Reduce?"
   ]
  },
  {
   "cell_type": "code",
   "execution_count": 1,
   "id": "30908400",
   "metadata": {},
   "outputs": [],
   "source": [
    "# Tuplas são criadas com parentesis, listas são criadas com colchetes, dicionários são criados com chaves\n",
    "Grunt = {'categoria': 'guerreiro', 'forca': 100, 'experiencia': 50, 'vida': 100, 'cura': 70}\n",
    "Shallur = {'categoria': 'mago', 'forca': 50, 'experiencia': 120, 'vida': 60, 'cura': 100}\n",
    "Eldor = {'categoria': 'elfo', 'forca': 70, 'experiencia': 80, 'vida': 120, 'cura': 110}"
   ]
  },
  {
   "cell_type": "code",
   "execution_count": 2,
   "id": "60ccaa91",
   "metadata": {},
   "outputs": [
    {
     "name": "stdout",
     "output_type": "stream",
     "text": [
      "{'categoria': 'guerreiro', 'forca': 100, 'experiencia': 50, 'vida': 100, 'cura': 70}\n",
      "{'categoria': 'mago', 'forca': 50, 'experiencia': 120, 'vida': 60, 'cura': 100}\n",
      "{'categoria': 'elfo', 'forca': 70, 'experiencia': 80, 'vida': 120, 'cura': 110}\n"
     ]
    }
   ],
   "source": [
    "print(Grunt)\n",
    "print(Shallur)\n",
    "print(Eldor)"
   ]
  },
  {
   "cell_type": "code",
   "execution_count": 3,
   "id": "fdeed4be",
   "metadata": {},
   "outputs": [
    {
     "name": "stdout",
     "output_type": "stream",
     "text": [
      "Força do Grunt 100\n",
      "Experiencia de Eldor 80\n"
     ]
    }
   ],
   "source": [
    "# Indexando por chaves\n",
    "print('Força do Grunt', Grunt['forca'])\n",
    "print('Experiencia de Eldor', Eldor['experiencia'])"
   ]
  },
  {
   "cell_type": "code",
   "execution_count": 4,
   "id": "e4d1351e",
   "metadata": {},
   "outputs": [],
   "source": [
    "# Criando um dicionário vazio\n",
    "Kallipha = {}"
   ]
  },
  {
   "cell_type": "code",
   "execution_count": 5,
   "id": "0f40cc2a",
   "metadata": {},
   "outputs": [],
   "source": [
    "# Adicionando elementos ao dicionário\n",
    "Kallipha['categoria'] = 'kallipha'\n",
    "Kallipha['forca'] = 75\n",
    "Kallipha['experiencia'] = 73\n",
    "Kallipha['vida'] = 124\n",
    "Kallipha['cura'] = 100"
   ]
  },
  {
   "cell_type": "code",
   "execution_count": 6,
   "id": "764f7897",
   "metadata": {},
   "outputs": [
    {
     "name": "stdout",
     "output_type": "stream",
     "text": [
      "Grunt {'categoria': 'guerreiro', 'forca': 100, 'experiencia': 50, 'vida': 100, 'cura': 70}\n",
      "Shallur {'categoria': 'mago', 'forca': 50, 'experiencia': 120, 'vida': 60, 'cura': 100}\n",
      "Eldor {'categoria': 'elfo', 'forca': 70, 'experiencia': 80, 'vida': 120, 'cura': 110}\n",
      "Kallipha {'categoria': 'kallipha', 'forca': 75, 'experiencia': 73, 'vida': 124, 'cura': 100}\n"
     ]
    }
   ],
   "source": [
    "print('Grunt', Grunt)\n",
    "print('Shallur', Shallur)\n",
    "print('Eldor', Eldor)\n",
    "print('Kallipha', Kallipha)"
   ]
  },
  {
   "cell_type": "code",
   "execution_count": 7,
   "id": "97457144",
   "metadata": {},
   "outputs": [],
   "source": [
    "# Dicionários Aninhados\n",
    "# Adicionando um elemento lista ao Dicionário\n",
    "Grunt['armas'] = ['escudo', 'espada']"
   ]
  },
  {
   "cell_type": "code",
   "execution_count": 8,
   "id": "20f3a82e",
   "metadata": {},
   "outputs": [
    {
     "name": "stdout",
     "output_type": "stream",
     "text": [
      "{'categoria': 'guerreiro', 'forca': 100, 'experiencia': 50, 'vida': 100, 'cura': 70, 'armas': ['escudo', 'espada']}\n"
     ]
    }
   ],
   "source": [
    "print(Grunt)"
   ]
  },
  {
   "cell_type": "code",
   "execution_count": 9,
   "id": "d4d569b6",
   "metadata": {},
   "outputs": [
    {
     "name": "stdout",
     "output_type": "stream",
     "text": [
      "escudo\n"
     ]
    }
   ],
   "source": [
    "print(Grunt['armas'][0])"
   ]
  },
  {
   "cell_type": "code",
   "execution_count": 10,
   "id": "c4a27d89",
   "metadata": {},
   "outputs": [],
   "source": [
    "# Adicionando um elemento na lista do dicionário\n",
    "Grunt['armas'].append('elmo')"
   ]
  },
  {
   "cell_type": "code",
   "execution_count": 11,
   "id": "27b9c821",
   "metadata": {},
   "outputs": [
    {
     "name": "stdout",
     "output_type": "stream",
     "text": [
      "{'categoria': 'guerreiro', 'forca': 100, 'experiencia': 50, 'vida': 100, 'cura': 70, 'armas': ['escudo', 'espada', 'elmo']}\n"
     ]
    }
   ],
   "source": [
    "print(Grunt)"
   ]
  },
  {
   "cell_type": "code",
   "execution_count": 12,
   "id": "e1c875bc",
   "metadata": {},
   "outputs": [
    {
     "data": {
      "text/plain": [
       "dict"
      ]
     },
     "execution_count": 12,
     "metadata": {},
     "output_type": "execute_result"
    }
   ],
   "source": [
    "# Verificando o tipo\n",
    "type(Grunt)"
   ]
  },
  {
   "cell_type": "markdown",
   "id": "17f1d6a0",
   "metadata": {},
   "source": [
    "## Métodos"
   ]
  },
  {
   "cell_type": "markdown",
   "id": "e05f3182",
   "metadata": {},
   "source": [
    "A hierarquia de impressão é: ITEM -> KEY -> VALUES"
   ]
  },
  {
   "cell_type": "code",
   "execution_count": 13,
   "id": "850066fe",
   "metadata": {},
   "outputs": [
    {
     "name": "stdout",
     "output_type": "stream",
     "text": [
      "[('categoria', 'guerreiro'), ('forca', 100), ('experiencia', 50), ('vida', 100), ('cura', 70), ('armas', ['escudo', 'espada', 'elmo'])]\n"
     ]
    }
   ],
   "source": [
    "# Imprime o ITEM, ou seja, o par CHAVE VALOR\n",
    "print(list(Grunt.items()))"
   ]
  },
  {
   "cell_type": "code",
   "execution_count": 14,
   "id": "100e01bc",
   "metadata": {},
   "outputs": [
    {
     "name": "stdout",
     "output_type": "stream",
     "text": [
      "dict_keys(['categoria', 'forca', 'experiencia', 'vida', 'cura', 'armas'])\n"
     ]
    }
   ],
   "source": [
    "# Imprime SOMENTE a chave\n",
    "print(Grunt.keys())"
   ]
  },
  {
   "cell_type": "code",
   "execution_count": 16,
   "id": "b0b1a8e3",
   "metadata": {},
   "outputs": [
    {
     "name": "stdout",
     "output_type": "stream",
     "text": [
      "['guerreiro', 100, 50, 100, 70, ['escudo', 'espada', 'elmo']]\n"
     ]
    }
   ],
   "source": [
    "# Imprime somente os VALORES\n",
    "print(list(Grunt.values()))"
   ]
  },
  {
   "cell_type": "code",
   "execution_count": 17,
   "id": "05c6052f",
   "metadata": {},
   "outputs": [
    {
     "name": "stdout",
     "output_type": "stream",
     "text": [
      "Chave: categoria\n",
      "Chave: forca\n",
      "Chave: experiencia\n",
      "Chave: vida\n",
      "Chave: cura\n",
      "Chave: armas\n"
     ]
    }
   ],
   "source": [
    "# Utilizando FOR para impressao traz traz somente as chaves\n",
    "for var in Grunt:\n",
    "    print('Chave:', var)"
   ]
  },
  {
   "cell_type": "code",
   "execution_count": 19,
   "id": "54f4a664",
   "metadata": {},
   "outputs": [
    {
     "name": "stdout",
     "output_type": "stream",
     "text": [
      "Chave: categoria mapeando para: guerreiro\n",
      "Chave: forca mapeando para: 100\n",
      "Chave: experiencia mapeando para: 50\n",
      "Chave: vida mapeando para: 100\n",
      "Chave: cura mapeando para: 70\n",
      "Chave: armas mapeando para: ['escudo', 'espada', 'elmo']\n"
     ]
    }
   ],
   "source": [
    "# Atribuição Multipla CHAVE / VALOR\n",
    "for (chave,valor) in Grunt.items():\n",
    "    print('Chave:', chave, \"mapeando para:\", valor)"
   ]
  },
  {
   "cell_type": "code",
   "execution_count": 20,
   "id": "d601393c",
   "metadata": {},
   "outputs": [
    {
     "name": "stdout",
     "output_type": "stream",
     "text": [
      "Cahve: categoria - mapeando para: guerreiro\n",
      "Cahve: forca - mapeando para: 100\n",
      "Cahve: experiencia - mapeando para: 50\n",
      "Cahve: vida - mapeando para: 100\n",
      "Cahve: cura - mapeando para: 70\n",
      "Cahve: armas - mapeando para: ['escudo', 'espada', 'elmo']\n"
     ]
    }
   ],
   "source": [
    "# Impressão através do índice VAR\n",
    "for var in Grunt:\n",
    "    print('Cahve:', var, \"- mapeando para:\", Grunt[var])"
   ]
  },
  {
   "cell_type": "code",
   "execution_count": null,
   "id": "47d74de8",
   "metadata": {},
   "outputs": [],
   "source": []
  }
 ],
 "metadata": {
  "kernelspec": {
   "display_name": "Python 3 (ipykernel)",
   "language": "python",
   "name": "python3"
  },
  "language_info": {
   "codemirror_mode": {
    "name": "ipython",
    "version": 3
   },
   "file_extension": ".py",
   "mimetype": "text/x-python",
   "name": "python",
   "nbconvert_exporter": "python",
   "pygments_lexer": "ipython3",
   "version": "3.10.2"
  }
 },
 "nbformat": 4,
 "nbformat_minor": 5
}
