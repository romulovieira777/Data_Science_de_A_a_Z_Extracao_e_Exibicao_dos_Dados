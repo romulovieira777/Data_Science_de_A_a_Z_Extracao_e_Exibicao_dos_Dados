{
 "cells": [
  {
   "cell_type": "markdown",
   "id": "efdc6a11",
   "metadata": {},
   "source": [
    "## Funções Built In"
   ]
  },
  {
   "cell_type": "code",
   "execution_count": 1,
   "id": "cac89131",
   "metadata": {},
   "outputs": [
    {
     "name": "stdout",
     "output_type": "stream",
     "text": [
      "Funções\n"
     ]
    }
   ],
   "source": [
    "# Indexação - Converte a expressão em um vetor e retorna a posição de um caracter, indicando entre os colchetes.\n",
    "print(\"Funções\")"
   ]
  },
  {
   "cell_type": "code",
   "execution_count": 2,
   "id": "1ebb889c",
   "metadata": {},
   "outputs": [
    {
     "name": "stdout",
     "output_type": "stream",
     "text": [
      "U\n"
     ]
    }
   ],
   "source": [
    "frase = \"Uma vez Flamengo, sempre Flamengo!\"\n",
    "print(frase[0])"
   ]
  },
  {
   "cell_type": "code",
   "execution_count": 3,
   "id": "8ebbb445",
   "metadata": {},
   "outputs": [
    {
     "name": "stdout",
     "output_type": "stream",
     "text": [
      "Uma vez Flamengo, sempre Flamengo!\n"
     ]
    }
   ],
   "source": [
    "print(frase[0:])"
   ]
  },
  {
   "cell_type": "code",
   "execution_count": 4,
   "id": "0a08831a",
   "metadata": {},
   "outputs": [
    {
     "name": "stdout",
     "output_type": "stream",
     "text": [
      "ez Fl\n"
     ]
    }
   ],
   "source": [
    "print(frase[5:10])"
   ]
  },
  {
   "cell_type": "code",
   "execution_count": 5,
   "id": "bfbff16c",
   "metadata": {},
   "outputs": [
    {
     "name": "stdout",
     "output_type": "stream",
     "text": [
      "Uma vez Flamengo, sempre Flamengo!\n"
     ]
    }
   ],
   "source": [
    "print(frase[::1])"
   ]
  },
  {
   "cell_type": "code",
   "execution_count": 6,
   "id": "7b13a78e",
   "metadata": {},
   "outputs": [
    {
     "name": "stdout",
     "output_type": "stream",
     "text": [
      "UavzFaeg,smr lmno\n"
     ]
    }
   ],
   "source": [
    "print(frase[::2])"
   ]
  },
  {
   "cell_type": "code",
   "execution_count": 7,
   "id": "e35fad5e",
   "metadata": {},
   "outputs": [
    {
     "name": "stdout",
     "output_type": "stream",
     "text": [
      "!ognemalF erpmes ,ognemalF zev amU\n"
     ]
    }
   ],
   "source": [
    "print(frase[::-1])"
   ]
  },
  {
   "cell_type": "markdown",
   "id": "6efc1d08",
   "metadata": {},
   "source": [
    "### find - Localiza a primeira ocorrência de uma string dentro de uma expressão NÃO INCLUSA A ÚLTIMA POSIÇÃO."
   ]
  },
  {
   "cell_type": "code",
   "execution_count": 8,
   "id": "06cb1fe4",
   "metadata": {},
   "outputs": [
    {
     "data": {
      "text/plain": [
       "-1"
      ]
     },
     "execution_count": 8,
     "metadata": {},
     "output_type": "execute_result"
    }
   ],
   "source": [
    "# Retorna  -1 em caso de objeto não encontrado\n",
    "frase.find(\"acesso\")"
   ]
  },
  {
   "cell_type": "code",
   "execution_count": 9,
   "id": "d0f47c97",
   "metadata": {},
   "outputs": [
    {
     "data": {
      "text/plain": [
       "8"
      ]
     },
     "execution_count": 9,
     "metadata": {},
     "output_type": "execute_result"
    }
   ],
   "source": [
    "frase.find(\"Flamengo\")"
   ]
  },
  {
   "cell_type": "code",
   "execution_count": 10,
   "id": "f2bc219f",
   "metadata": {},
   "outputs": [
    {
     "data": {
      "text/plain": [
       "10"
      ]
     },
     "execution_count": 10,
     "metadata": {},
     "output_type": "execute_result"
    }
   ],
   "source": [
    "frase.find(\"Flamengo\") + 2"
   ]
  },
  {
   "cell_type": "code",
   "execution_count": 11,
   "id": "c972905d",
   "metadata": {},
   "outputs": [],
   "source": [
    "# Encontrando após a primeira ocorrência. Basta adicionar um segundo parâmetro na função, que indica o início da busca"
   ]
  },
  {
   "cell_type": "code",
   "execution_count": 12,
   "id": "5334ecb8",
   "metadata": {},
   "outputs": [],
   "source": [
    "hino = \"Uma vez Flamengo, sempre Flamengo!\""
   ]
  },
  {
   "cell_type": "code",
   "execution_count": 13,
   "id": "776b7845",
   "metadata": {},
   "outputs": [
    {
     "data": {
      "text/plain": [
       "8"
      ]
     },
     "execution_count": 13,
     "metadata": {},
     "output_type": "execute_result"
    }
   ],
   "source": [
    "hino.find(\"Flamengo\")"
   ]
  },
  {
   "cell_type": "code",
   "execution_count": 14,
   "id": "e28515f4",
   "metadata": {},
   "outputs": [
    {
     "data": {
      "text/plain": [
       "25"
      ]
     },
     "execution_count": 14,
     "metadata": {},
     "output_type": "execute_result"
    }
   ],
   "source": [
    "hino.find(\"Flamengo\", 9)"
   ]
  },
  {
   "cell_type": "code",
   "execution_count": 15,
   "id": "6fbfbd21",
   "metadata": {},
   "outputs": [
    {
     "data": {
      "text/plain": [
       "'Flamengo!'"
      ]
     },
     "execution_count": 15,
     "metadata": {},
     "output_type": "execute_result"
    }
   ],
   "source": [
    "hino[25:]"
   ]
  },
  {
   "cell_type": "code",
   "execution_count": 16,
   "id": "0527fb46",
   "metadata": {},
   "outputs": [],
   "source": [
    "# Algumas outras funções"
   ]
  },
  {
   "cell_type": "code",
   "execution_count": 17,
   "id": "74c2c23a",
   "metadata": {},
   "outputs": [
    {
     "data": {
      "text/plain": [
       "'UMA VEZ FLAMENGO, SEMPRE FLAMENGO!'"
      ]
     },
     "execution_count": 17,
     "metadata": {},
     "output_type": "execute_result"
    }
   ],
   "source": [
    "hino.upper()"
   ]
  },
  {
   "cell_type": "code",
   "execution_count": 18,
   "id": "b8711098",
   "metadata": {},
   "outputs": [
    {
     "data": {
      "text/plain": [
       "'uma vez flamengo, sempre flamengo!'"
      ]
     },
     "execution_count": 18,
     "metadata": {},
     "output_type": "execute_result"
    }
   ],
   "source": [
    "hino.lower()"
   ]
  },
  {
   "cell_type": "code",
   "execution_count": 19,
   "id": "538d07f6",
   "metadata": {},
   "outputs": [
    {
     "data": {
      "text/plain": [
       "['Uma', 'vez', 'Flamengo,', 'sempre', 'Flamengo!']"
      ]
     },
     "execution_count": 19,
     "metadata": {},
     "output_type": "execute_result"
    }
   ],
   "source": [
    "hino.split()"
   ]
  },
  {
   "cell_type": "code",
   "execution_count": 20,
   "id": "7ca0dcc1",
   "metadata": {},
   "outputs": [
    {
     "data": {
      "text/plain": [
       "['Uma vez ', ', sempre ', '!']"
      ]
     },
     "execution_count": 20,
     "metadata": {},
     "output_type": "execute_result"
    }
   ],
   "source": [
    "hino.split(\"Flamengo\")"
   ]
  },
  {
   "cell_type": "code",
   "execution_count": 21,
   "id": "8fbb68da",
   "metadata": {},
   "outputs": [
    {
     "data": {
      "text/plain": [
       "True"
      ]
     },
     "execution_count": 21,
     "metadata": {},
     "output_type": "execute_result"
    }
   ],
   "source": [
    "hino.endswith(\"!\")"
   ]
  },
  {
   "cell_type": "code",
   "execution_count": 22,
   "id": "0d765163",
   "metadata": {},
   "outputs": [
    {
     "data": {
      "text/plain": [
       "False"
      ]
     },
     "execution_count": 22,
     "metadata": {},
     "output_type": "execute_result"
    }
   ],
   "source": [
    "hino.endswith(\"Flamengo\")"
   ]
  }
 ],
 "metadata": {
  "kernelspec": {
   "display_name": "Python 3 (ipykernel)",
   "language": "python",
   "name": "python3"
  },
  "language_info": {
   "codemirror_mode": {
    "name": "ipython",
    "version": 3
   },
   "file_extension": ".py",
   "mimetype": "text/x-python",
   "name": "python",
   "nbconvert_exporter": "python",
   "pygments_lexer": "ipython3",
   "version": "3.10.2"
  }
 },
 "nbformat": 4,
 "nbformat_minor": 5
}
