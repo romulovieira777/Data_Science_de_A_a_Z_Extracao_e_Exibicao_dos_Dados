{
 "cells": [
  {
   "cell_type": "code",
   "execution_count": 1,
   "id": "a4bd442e",
   "metadata": {},
   "outputs": [],
   "source": [
    "# Copie e cole essa função de média no bloco de notas e salve como arquivo_media.pv\n",
    "\n",
    "def calc_media(lista):\n",
    "    tamanho = len(lista)\n",
    "    total = sum(lista)\n",
    "    media = total / tamanho\n",
    "    return media"
   ]
  },
  {
   "cell_type": "code",
   "execution_count": 2,
   "id": "df1167c9",
   "metadata": {},
   "outputs": [],
   "source": [
    "a = [10, 20, 30]"
   ]
  },
  {
   "cell_type": "code",
   "execution_count": 3,
   "id": "908dd9c1",
   "metadata": {},
   "outputs": [
    {
     "name": "stdout",
     "output_type": "stream",
     "text": [
      "20.0\n"
     ]
    }
   ],
   "source": [
    "print(calc_media(a))"
   ]
  },
  {
   "cell_type": "code",
   "execution_count": 4,
   "id": "0b2e2f7c",
   "metadata": {},
   "outputs": [],
   "source": [
    "lista = [30, 40, 50]"
   ]
  },
  {
   "cell_type": "code",
   "execution_count": 5,
   "id": "36df27da",
   "metadata": {},
   "outputs": [
    {
     "data": {
      "text/plain": [
       "3"
      ]
     },
     "execution_count": 5,
     "metadata": {},
     "output_type": "execute_result"
    }
   ],
   "source": [
    "len(lista)"
   ]
  },
  {
   "cell_type": "code",
   "execution_count": 6,
   "id": "86ce27ea",
   "metadata": {},
   "outputs": [
    {
     "data": {
      "text/plain": [
       "120"
      ]
     },
     "execution_count": 6,
     "metadata": {},
     "output_type": "execute_result"
    }
   ],
   "source": [
    "sum(lista)"
   ]
  },
  {
   "cell_type": "code",
   "execution_count": 7,
   "id": "cf35a347",
   "metadata": {},
   "outputs": [
    {
     "data": {
      "text/plain": [
       "40.0"
      ]
     },
     "execution_count": 7,
     "metadata": {},
     "output_type": "execute_result"
    }
   ],
   "source": [
    "sum(lista) / len(lista)"
   ]
  },
  {
   "cell_type": "markdown",
   "id": "8b664e72",
   "metadata": {},
   "source": [
    "## Importando a Biblioteca criada"
   ]
  },
  {
   "cell_type": "code",
   "execution_count": 8,
   "id": "99639295",
   "metadata": {},
   "outputs": [],
   "source": [
    "import media"
   ]
  },
  {
   "cell_type": "code",
   "execution_count": 9,
   "id": "fd6a1604",
   "metadata": {},
   "outputs": [],
   "source": [
    "lista = [678, 9968, 4465, 65767]"
   ]
  },
  {
   "cell_type": "code",
   "execution_count": 10,
   "id": "df68847b",
   "metadata": {},
   "outputs": [
    {
     "name": "stdout",
     "output_type": "stream",
     "text": [
      "20219.5\n"
     ]
    }
   ],
   "source": [
    "print(media.calc_media(lista))"
   ]
  },
  {
   "cell_type": "code",
   "execution_count": 11,
   "id": "d0e3aa16",
   "metadata": {},
   "outputs": [],
   "source": [
    "lista = [7687, 8908, 6664, 99777]"
   ]
  },
  {
   "cell_type": "code",
   "execution_count": 12,
   "id": "94dafe55",
   "metadata": {},
   "outputs": [
    {
     "data": {
      "text/plain": [
       "30759.0"
      ]
     },
     "execution_count": 12,
     "metadata": {},
     "output_type": "execute_result"
    }
   ],
   "source": [
    "media.calc_media(lista)"
   ]
  }
 ],
 "metadata": {
  "kernelspec": {
   "display_name": "Python 3 (ipykernel)",
   "language": "python",
   "name": "python3"
  },
  "language_info": {
   "codemirror_mode": {
    "name": "ipython",
    "version": 3
   },
   "file_extension": ".py",
   "mimetype": "text/x-python",
   "name": "python",
   "nbconvert_exporter": "python",
   "pygments_lexer": "ipython3",
   "version": "3.10.2"
  }
 },
 "nbformat": 4,
 "nbformat_minor": 5
}
