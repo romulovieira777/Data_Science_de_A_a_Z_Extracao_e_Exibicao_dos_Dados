{
 "cells": [
  {
   "cell_type": "markdown",
   "id": "e89460bd",
   "metadata": {},
   "source": [
    "# Exercício 01"
   ]
  },
  {
   "cell_type": "code",
   "execution_count": null,
   "id": "4574a6be",
   "metadata": {},
   "outputs": [],
   "source": [
    "Na expressão abaixo:\n",
    "\n",
    "Dados de acesso do cliente Universdade  dos Dados\n",
    "01/02/2017 \"3.878.00\"\n",
    "02/02/2017 \"6.088.00\"\n",
    "03/02/2017 \"645.00\"\n",
    "04/02/2017 \"10.876.00\"\n",
    "\n",
    "Necessitamos do primeiro valor de acessos 3.878\n",
    "armazene o valor em uma variável e imprima"
   ]
  },
  {
   "cell_type": "code",
   "execution_count": 1,
   "id": "1eff9c15",
   "metadata": {},
   "outputs": [
    {
     "name": "stdout",
     "output_type": "stream",
     "text": [
      "\n",
      "    Dados de acesso do cliente Universidade dos Dados\n",
      "    01/02/2017 \"3.878.00\"\n",
      "    02/02/2017 \"6.088.00\"\n",
      "    03/02/2017 \"645.00\"\n",
      "    04/02/2017 \"10.876.00\"\n",
      "\n"
     ]
    }
   ],
   "source": [
    "expr = '''\n",
    "    Dados de acesso do cliente Universidade dos Dados\n",
    "    01/02/2017 \"3.878.00\"\n",
    "    02/02/2017 \"6.088.00\"\n",
    "    03/02/2017 \"645.00\"\n",
    "    04/02/2017 \"10.876.00\"\n",
    "'''\n",
    "\n",
    "print(expr)"
   ]
  },
  {
   "cell_type": "code",
   "execution_count": 2,
   "id": "8171dd65",
   "metadata": {},
   "outputs": [
    {
     "name": "stdout",
     "output_type": "stream",
     "text": [
      "71\n"
     ]
    }
   ],
   "source": [
    "# Utilizando indexadores e Find\n",
    "# Procuramos o início do valor e somamos mais 1 para obter o número sem as aspas\n",
    "inicio = expr.find('\"') + 1\n",
    "print(inicio)"
   ]
  },
  {
   "cell_type": "code",
   "execution_count": 4,
   "id": "58bfa242",
   "metadata": {},
   "outputs": [
    {
     "name": "stdout",
     "output_type": "stream",
     "text": [
      "76\n"
     ]
    }
   ],
   "source": [
    "fim = expr.find('.00\"', inicio)\n",
    "print(fim)"
   ]
  },
  {
   "cell_type": "code",
   "execution_count": 5,
   "id": "2814a029",
   "metadata": {},
   "outputs": [
    {
     "data": {
      "text/plain": [
       "'3.878'"
      ]
     },
     "execution_count": 5,
     "metadata": {},
     "output_type": "execute_result"
    }
   ],
   "source": [
    "expr[inicio:fim]"
   ]
  }
 ],
 "metadata": {
  "kernelspec": {
   "display_name": "Python 3 (ipykernel)",
   "language": "python",
   "name": "python3"
  },
  "language_info": {
   "codemirror_mode": {
    "name": "ipython",
    "version": 3
   },
   "file_extension": ".py",
   "mimetype": "text/x-python",
   "name": "python",
   "nbconvert_exporter": "python",
   "pygments_lexer": "ipython3",
   "version": "3.10.2"
  }
 },
 "nbformat": 4,
 "nbformat_minor": 5
}
