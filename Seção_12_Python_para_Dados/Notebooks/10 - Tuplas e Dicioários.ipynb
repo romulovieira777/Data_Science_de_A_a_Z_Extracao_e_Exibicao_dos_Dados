{
 "cells": [
  {
   "cell_type": "markdown",
   "id": "e32f6f45",
   "metadata": {},
   "source": [
    "## Tuplas"
   ]
  },
  {
   "cell_type": "code",
   "execution_count": 1,
   "id": "dc01b578",
   "metadata": {},
   "outputs": [],
   "source": [
    "Rio_De_Janeiro = (2410, 1227)\n",
    "Salvador = (5816, 3039)\n",
    "Recife = (314, 5252)"
   ]
  },
  {
   "cell_type": "code",
   "execution_count": 2,
   "id": "2e60edc1",
   "metadata": {},
   "outputs": [
    {
     "name": "stdout",
     "output_type": "stream",
     "text": [
      "(2410, 1227)\n",
      "(5816, 3039)\n",
      "(314, 5252)\n"
     ]
    }
   ],
   "source": [
    "print(Rio_De_Janeiro)\n",
    "print(Salvador)\n",
    "print(Recife)"
   ]
  },
  {
   "cell_type": "code",
   "execution_count": 3,
   "id": "bfbe1440",
   "metadata": {},
   "outputs": [
    {
     "name": "stdout",
     "output_type": "stream",
     "text": [
      "<class 'tuple'>\n",
      "<class 'tuple'>\n",
      "<class 'tuple'>\n"
     ]
    }
   ],
   "source": [
    "# Verificando o tipo\n",
    "print(type(Rio_De_Janeiro))\n",
    "print(type(Salvador))\n",
    "print(type(Recife))"
   ]
  },
  {
   "cell_type": "code",
   "execution_count": 4,
   "id": "94b8bdbf",
   "metadata": {},
   "outputs": [
    {
     "name": "stdout",
     "output_type": "stream",
     "text": [
      "1227\n"
     ]
    }
   ],
   "source": [
    "# Elemento de uma tupla\n",
    "print(Rio_De_Janeiro[1])"
   ]
  },
  {
   "cell_type": "code",
   "execution_count": 9,
   "id": "cded91c8",
   "metadata": {},
   "outputs": [
    {
     "name": "stdout",
     "output_type": "stream",
     "text": [
      "As dimensões são 52 x 40 x 100\n",
      "As dimensões são 52 x 40 x 100\n"
     ]
    }
   ],
   "source": [
    "# Descompactando Tuplas\n",
    "# Observe que as tuplas estão sem parenteses, isso é frequentemente utilizado, mas não recomendado\n",
    "# O Format é um método do tipo STRING\n",
    "dimensoes = 52, 40, 100\n",
    "largura, altura, profundidade = dimensoes\n",
    "print(\"As dimensões são {} x {} x {}\".format(largura, altura, profundidade))\n",
    "print(\"As dimensões são\", largura, \"x\", altura, \"x\", profundidade)"
   ]
  },
  {
   "cell_type": "code",
   "execution_count": 10,
   "id": "4f29109a",
   "metadata": {},
   "outputs": [
    {
     "name": "stdout",
     "output_type": "stream",
     "text": [
      "A latitude de Salvador é 5816:\n"
     ]
    }
   ],
   "source": [
    "print(\"A latitude de Salvador é {}\".format(Salvador[0]))"
   ]
  },
  {
   "cell_type": "code",
   "execution_count": 11,
   "id": "d29d7c8c",
   "metadata": {},
   "outputs": [
    {
     "ename": "TypeError",
     "evalue": "'tuple' object does not support item assignment",
     "output_type": "error",
     "traceback": [
      "\u001b[1;31m---------------------------------------------------------------------------\u001b[0m",
      "\u001b[1;31mTypeError\u001b[0m                                 Traceback (most recent call last)",
      "Input \u001b[1;32mIn [11]\u001b[0m, in \u001b[0;36m<module>\u001b[1;34m\u001b[0m\n\u001b[0;32m      1\u001b[0m \u001b[38;5;66;03m# Imutabilidade de uma Tupla\u001b[39;00m\n\u001b[1;32m----> 2\u001b[0m Salvador[\u001b[38;5;241m0\u001b[39m] \u001b[38;5;241m=\u001b[39m \u001b[38;5;241m2222\u001b[39m\n",
      "\u001b[1;31mTypeError\u001b[0m: 'tuple' object does not support item assignment"
     ]
    }
   ],
   "source": [
    "# Imutabilidade de uma Tupla\n",
    "Salvador[0] = 2222"
   ]
  },
  {
   "cell_type": "code",
   "execution_count": null,
   "id": "247a64e8",
   "metadata": {},
   "outputs": [],
   "source": []
  }
 ],
 "metadata": {
  "kernelspec": {
   "display_name": "Python 3 (ipykernel)",
   "language": "python",
   "name": "python3"
  },
  "language_info": {
   "codemirror_mode": {
    "name": "ipython",
    "version": 3
   },
   "file_extension": ".py",
   "mimetype": "text/x-python",
   "name": "python",
   "nbconvert_exporter": "python",
   "pygments_lexer": "ipython3",
   "version": "3.10.2"
  }
 },
 "nbformat": 4,
 "nbformat_minor": 5
}
