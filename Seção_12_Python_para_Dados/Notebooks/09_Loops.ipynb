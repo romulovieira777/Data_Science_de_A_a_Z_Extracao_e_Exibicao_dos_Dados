{
 "cells": [
  {
   "cell_type": "markdown",
   "id": "b3e5fd53",
   "metadata": {},
   "source": [
    "## While"
   ]
  },
  {
   "cell_type": "code",
   "execution_count": 1,
   "id": "0c41d93e",
   "metadata": {},
   "outputs": [
    {
     "name": "stdout",
     "output_type": "stream",
     "text": [
      "0\n",
      "1\n",
      "2\n",
      "3\n",
      "4\n",
      "5\n",
      "6\n",
      "7\n",
      "8\n",
      "9\n",
      "10\n",
      "11\n",
      "12\n",
      "13\n",
      "14\n"
     ]
    }
   ],
   "source": [
    "# O loop while requer dois cuidados\n",
    "# 1 - O loop somente é executado se a condição for TRUE\n",
    "# 2 - Dentro do loop a condição obrigatoriamente tem que passar a false ou um break ser executado, para que o loop pare\n",
    "contador = 0\n",
    "\n",
    "while contador < 15:\n",
    "    print(contador)\n",
    "    contador = contador + 1"
   ]
  },
  {
   "cell_type": "code",
   "execution_count": 2,
   "id": "c75c6dc8",
   "metadata": {},
   "outputs": [
    {
     "name": "stdout",
     "output_type": "stream",
     "text": [
      "0\n",
      "1\n",
      "2\n",
      "3\n",
      "4\n",
      "5\n",
      "6\n",
      "7\n",
      "8\n",
      "9\n",
      "Loop concluído!\n"
     ]
    }
   ],
   "source": [
    "# A exemplo do IF / ELSE, quando o ELSE é executado após o return FALSE do IF, podemos também utilizar ELSE com WHILE\n",
    "# o loop executará enquanto a condição do WHILE for verdadeira e depois entrará no ELSE\n",
    "x = 0\n",
    "\n",
    "while x < 10:\n",
    "    print(x)\n",
    "    x += 1  # é igual a x = x + 1\n",
    "else:\n",
    "    print(\"Loop concluído!\")"
   ]
  },
  {
   "cell_type": "markdown",
   "id": "b4d7f084",
   "metadata": {},
   "source": [
    "## Loop For"
   ]
  },
  {
   "cell_type": "markdown",
   "id": "c4dc103a",
   "metadata": {},
   "source": [
    "**A principal diferença entre o loop for e do while é que o for vai ser executado ao menos uma vez, enquanto o while será\n",
    "executado somente se a expressão for verdadeira**"
   ]
  },
  {
   "cell_type": "code",
   "execution_count": 3,
   "id": "fb90de0b",
   "metadata": {},
   "outputs": [],
   "source": [
    "lista = ['Data Science', 'Estatística', 'Big Data', 'Machine Learning', 'Banco de Dados']"
   ]
  },
  {
   "cell_type": "code",
   "execution_count": 4,
   "id": "785e0dbc",
   "metadata": {},
   "outputs": [
    {
     "name": "stdout",
     "output_type": "stream",
     "text": [
      "Data Science\n",
      "Estatística\n",
      "Big Data\n",
      "Machine Learning\n",
      "Banco de Dados\n"
     ]
    }
   ],
   "source": [
    "for variavel in lista:\n",
    "    print(variavel)"
   ]
  },
  {
   "cell_type": "markdown",
   "id": "1c5d4933",
   "metadata": {},
   "source": [
    "**Podemos também percorrer uma string**"
   ]
  },
  {
   "cell_type": "code",
   "execution_count": 5,
   "id": "456ec537",
   "metadata": {},
   "outputs": [],
   "source": [
    "palavra = 'Data Science'"
   ]
  },
  {
   "cell_type": "code",
   "execution_count": 6,
   "id": "39a5287f",
   "metadata": {},
   "outputs": [
    {
     "name": "stdout",
     "output_type": "stream",
     "text": [
      "D\n",
      "a\n",
      "t\n",
      "a\n",
      " \n",
      "S\n",
      "c\n",
      "i\n",
      "e\n",
      "n\n",
      "c\n",
      "e\n"
     ]
    }
   ],
   "source": [
    "for variavel in palavra:\n",
    "    print(variavel)"
   ]
  },
  {
   "cell_type": "markdown",
   "id": "5feb4b0d",
   "metadata": {},
   "source": [
    "**Algo extremamente útil são as funções Built In de listas**"
   ]
  },
  {
   "cell_type": "code",
   "execution_count": 7,
   "id": "f97ed3bf",
   "metadata": {},
   "outputs": [],
   "source": [
    "lista = []"
   ]
  },
  {
   "cell_type": "code",
   "execution_count": 8,
   "id": "be31df99",
   "metadata": {},
   "outputs": [],
   "source": [
    "for variavel in 'Data Science':\n",
    "    lista.append(variavel)"
   ]
  },
  {
   "cell_type": "code",
   "execution_count": 9,
   "id": "be5b823b",
   "metadata": {},
   "outputs": [
    {
     "name": "stdout",
     "output_type": "stream",
     "text": [
      "['D', 'a', 't', 'a', ' ', 'S', 'c', 'i', 'e', 'n', 'c', 'e']\n"
     ]
    }
   ],
   "source": [
    "print(lista)"
   ]
  },
  {
   "cell_type": "markdown",
   "id": "aa985c5c",
   "metadata": {},
   "source": [
    " **Números Pares**"
   ]
  },
  {
   "cell_type": "code",
   "execution_count": 10,
   "id": "6afff595",
   "metadata": {},
   "outputs": [],
   "source": [
    "lista = [1, 2, 3, 4, 5, 6, 7, 8, 9, 10]"
   ]
  },
  {
   "cell_type": "code",
   "execution_count": 11,
   "id": "737e7a7a",
   "metadata": {},
   "outputs": [
    {
     "name": "stdout",
     "output_type": "stream",
     "text": [
      "2\n",
      "4\n",
      "6\n",
      "8\n",
      "10\n"
     ]
    }
   ],
   "source": [
    "for i in lista:\n",
    "    if i % 2 == 0:\n",
    "        print(i)"
   ]
  },
  {
   "cell_type": "markdown",
   "id": "480873d0",
   "metadata": {},
   "source": [
    "**Copiando os elementos de uma lista para a outra**"
   ]
  },
  {
   "cell_type": "code",
   "execution_count": 12,
   "id": "971d07e4",
   "metadata": {},
   "outputs": [],
   "source": [
    "Rio_de_Janeiro = ['Flamengo', 'Fluminense', 'Botafogo', 'Vasco']\n",
    "Sao_Paulo = ['Santos', 'São Paulo', 'Palmeiras', 'Corinthians']"
   ]
  },
  {
   "cell_type": "code",
   "execution_count": 13,
   "id": "b5042024",
   "metadata": {},
   "outputs": [],
   "source": [
    "for time in Rio_de_Janeiro:\n",
    "    Sao_Paulo.append(time)"
   ]
  },
  {
   "cell_type": "code",
   "execution_count": 14,
   "id": "44d497c5",
   "metadata": {},
   "outputs": [
    {
     "data": {
      "text/plain": [
       "['Santos',\n",
       " 'São Paulo',\n",
       " 'Palmeiras',\n",
       " 'Corinthians',\n",
       " 'Flamengo',\n",
       " 'Fluminense',\n",
       " 'Botafogo',\n",
       " 'Vasco']"
      ]
     },
     "execution_count": 14,
     "metadata": {},
     "output_type": "execute_result"
    }
   ],
   "source": [
    "Sao_Paulo"
   ]
  },
  {
   "cell_type": "markdown",
   "id": "03eeb212",
   "metadata": {},
   "source": [
    "## Range"
   ]
  },
  {
   "cell_type": "markdown",
   "id": "5badd92f",
   "metadata": {},
   "source": [
    "**Podemos utilizar o função RANGE para simplificar um grande número de iterações lembre-se que em um range, a última posição é EXCLUSIVA.**"
   ]
  },
  {
   "cell_type": "code",
   "execution_count": 15,
   "id": "e33de092",
   "metadata": {},
   "outputs": [
    {
     "name": "stdout",
     "output_type": "stream",
     "text": [
      "1\n",
      "2\n",
      "3\n",
      "4\n",
      "5\n",
      "6\n",
      "7\n",
      "8\n",
      "9\n"
     ]
    }
   ],
   "source": [
    "for i in range(1, 10):\n",
    "    print(i)"
   ]
  },
  {
   "cell_type": "markdown",
   "id": "deeda910",
   "metadata": {},
   "source": [
    "**Não confunda**"
   ]
  },
  {
   "cell_type": "code",
   "execution_count": 16,
   "id": "89919980",
   "metadata": {},
   "outputs": [
    {
     "name": "stdout",
     "output_type": "stream",
     "text": [
      "1\n",
      "1000\n"
     ]
    }
   ],
   "source": [
    "for i in(1, 1000):\n",
    "    print(i)"
   ]
  },
  {
   "cell_type": "markdown",
   "id": "4cdfd315",
   "metadata": {},
   "source": [
    "**O interessante do RANGE é a possibilidade de definirmos o passo**"
   ]
  },
  {
   "cell_type": "markdown",
   "id": "4fc70c67",
   "metadata": {},
   "source": [
    "for i in range(0, 30, 2):\n",
    "    print(i)"
   ]
  },
  {
   "cell_type": "code",
   "execution_count": 17,
   "id": "27d0e612",
   "metadata": {},
   "outputs": [
    {
     "name": "stdout",
     "output_type": "stream",
     "text": [
      "1\n",
      "3\n",
      "5\n",
      "7\n",
      "9\n",
      "11\n",
      "13\n",
      "15\n",
      "17\n",
      "19\n",
      "21\n",
      "23\n",
      "25\n",
      "27\n",
      "29\n"
     ]
    }
   ],
   "source": [
    "for i in range(0, 30, 2):\n",
    "    print(i + 1)"
   ]
  },
  {
   "cell_type": "markdown",
   "id": "77acf083",
   "metadata": {},
   "source": [
    "### Pass e Break"
   ]
  },
  {
   "cell_type": "markdown",
   "id": "f0f780e9",
   "metadata": {},
   "source": [
    "#### são comandos que atuam juntos com o loop while e dão maior flexibilidade, pois podem interromper o fluxo antes da condição principal tornar-se falsa."
   ]
  },
  {
   "cell_type": "code",
   "execution_count": 18,
   "id": "8e306cb5",
   "metadata": {},
   "outputs": [
    {
     "name": "stdout",
     "output_type": "stream",
     "text": [
      "A condição continua verdadeira. I vale: 0\n",
      "A condição continua verdadeira. I vale: 1\n",
      "A condição continua verdadeira. I vale: 2\n",
      "A condição continua verdadeira. I vale: 3\n",
      "A condição continua verdadeira. I vale: 4\n",
      "A condição continua verdadeira. I vale: 5\n",
      "A condição continua verdadeira. I vale: 6\n",
      "A condição continua verdadeira. I vale: 7\n",
      "A condição continua verdadeira. I vale: 8\n",
      "A condição continua verdadeira. I vale: 9\n",
      "A condição continua verdadeira. I vale: 10\n",
      "A condição continua verdadeira. I vale: 11\n",
      "A condição continua verdadeira. I vale: 12\n",
      "A condição continua verdadeira. I vale: 13\n",
      "A condição continua verdadeira. I vale: 14\n",
      "A condição continua verdadeira. I vale: 15\n",
      "A condição continua verdadeira. I vale: 16\n",
      "A condição continua verdadeira. I vale: 17\n",
      "A condição continua verdadeira. I vale: 18\n",
      "A condição continua verdadeira. I vale: 19\n"
     ]
    }
   ],
   "source": [
    "# Observe a condição verdadeira\n",
    "i = 0\n",
    "while True:\n",
    "    print('A condição continua verdadeira. I vale: ' + str(i))\n",
    "    i = i + 1\n",
    "    \n",
    "    if i < 20:\n",
    "        pass\n",
    "    else:\n",
    "        break"
   ]
  },
  {
   "cell_type": "code",
   "execution_count": 19,
   "id": "6c6b8dd9",
   "metadata": {},
   "outputs": [
    {
     "name": "stdout",
     "output_type": "stream",
     "text": [
      "A condição continua verdadeira. I vale: 0\n",
      "A condição continua verdadeira. I vale: 1\n",
      "A condição continua verdadeira. I vale: 2\n",
      "A condição continua verdadeira. I vale: 3\n",
      "A condição continua verdadeira. I vale: 4\n",
      "A condição continua verdadeira. I vale: 5\n",
      "A condição continua verdadeira. I vale: 6\n",
      "A condição continua verdadeira. I vale: 7\n",
      "A condição continua verdadeira. I vale: 8\n",
      "A condição continua verdadeira. I vale: 9\n",
      "A condição continua verdadeira. I vale: 10\n",
      "A condição continua verdadeira. I vale: 11\n",
      "A condição continua verdadeira. I vale: 12\n",
      "A condição continua verdadeira. I vale: 13\n",
      "A condição continua verdadeira. I vale: 14\n",
      "A condição continua verdadeira. I vale: 15\n",
      "A condição continua verdadeira. I vale: 16\n",
      "A condição continua verdadeira. I vale: 17\n",
      "A condição continua verdadeira. I vale: 18\n",
      "A condição continua verdadeira. I vale: 19\n",
      "A condição continua verdadeira. I vale: 20\n"
     ]
    }
   ],
   "source": [
    "# Observe a condição verdadeira\n",
    "i = 0\n",
    "while True:\n",
    "    print('A condição continua verdadeira. I vale: ' + str(i))\n",
    "    i += 1\n",
    "    \n",
    "    if i > 20:\n",
    "        break\n",
    "    else:\n",
    "        pass"
   ]
  },
  {
   "cell_type": "code",
   "execution_count": 20,
   "id": "3e3a3c61",
   "metadata": {},
   "outputs": [
    {
     "name": "stdout",
     "output_type": "stream",
     "text": [
      "0\n",
      "1\n",
      "2\n",
      "3\n",
      "4\n",
      "5\n",
      "6\n",
      "7\n",
      "8\n",
      "9\n"
     ]
    }
   ],
   "source": [
    "i = 0\n",
    "\n",
    "while i < 1000:\n",
    "    if i == 10:\n",
    "        break\n",
    "    else:\n",
    "        pass\n",
    "    print(i)\n",
    "    i = i + 1"
   ]
  },
  {
   "cell_type": "code",
   "execution_count": 21,
   "id": "2cc6734a",
   "metadata": {},
   "outputs": [
    {
     "name": "stdout",
     "output_type": "stream",
     "text": [
      "2\n",
      "4\n",
      "6\n",
      "8\n",
      "10\n",
      "12\n",
      "14\n",
      "16\n",
      "18\n",
      "20\n",
      "22\n",
      "24\n",
      "26\n",
      "28\n"
     ]
    }
   ],
   "source": [
    "# podemos utilizar o PASS para imprimir números ímpares, por exemplo\n",
    "indice = 2\n",
    "while indice < 30:\n",
    "    if indice % 2 == 1:\n",
    "        pass\n",
    "    else:\n",
    "        print(indice)\n",
    "    indice = indice + 1"
   ]
  },
  {
   "cell_type": "code",
   "execution_count": 22,
   "id": "e5579e0f",
   "metadata": {},
   "outputs": [
    {
     "name": "stdout",
     "output_type": "stream",
     "text": [
      "Número ímpar. 3\n",
      "Número par. 4\n",
      "Número ímpar. 5\n",
      "Número par. 6\n",
      "Número ímpar. 7\n",
      "Número par. 8\n",
      "Número ímpar. 9\n"
     ]
    }
   ],
   "source": [
    "num = 3\n",
    "while num < 10:\n",
    "    if(num % 2 == 0):\n",
    "        print(\"Número par.\", num)\n",
    "    else:\n",
    "        print(\"Número ímpar.\", num)\n",
    "    num = num + 1"
   ]
  },
  {
   "cell_type": "markdown",
   "id": "15d73b8a",
   "metadata": {},
   "source": [
    "## While e For juntos"
   ]
  },
  {
   "cell_type": "code",
   "execution_count": 23,
   "id": "2fc60c8c",
   "metadata": {},
   "outputs": [
    {
     "name": "stdout",
     "output_type": "stream",
     "text": [
      "Iteração i: 0\n",
      "j 0\n",
      "j 1\n",
      "j 2\n",
      "j 3\n",
      "j 4\n",
      "Iteração i: 1\n",
      "j 0\n",
      "j 1\n",
      "j 2\n",
      "j 3\n",
      "j 4\n",
      "Iteração i: 2\n",
      "j 0\n",
      "j 1\n",
      "j 2\n",
      "j 3\n",
      "j 4\n",
      "Iteração i: 3\n",
      "j 0\n",
      "j 1\n",
      "j 2\n",
      "j 3\n",
      "j 4\n",
      "Iteração i: 4\n",
      "j 0\n",
      "j 1\n",
      "j 2\n",
      "j 3\n",
      "j 4\n",
      "Iteração i: 5\n",
      "j 0\n",
      "j 1\n",
      "j 2\n",
      "j 3\n",
      "j 4\n",
      "Iteração i: 6\n",
      "j 0\n",
      "j 1\n",
      "j 2\n",
      "j 3\n",
      "j 4\n",
      "Iteração i: 7\n",
      "j 0\n",
      "j 1\n",
      "j 2\n",
      "j 3\n",
      "j 4\n",
      "Iteração i: 8\n",
      "j 0\n",
      "j 1\n",
      "j 2\n",
      "j 3\n",
      "j 4\n",
      "Iteração i: 9\n",
      "j 0\n",
      "j 1\n",
      "j 2\n",
      "j 3\n",
      "j 4\n"
     ]
    }
   ],
   "source": [
    "for i in range(0, 10):\n",
    "    j = 0\n",
    "    print(\"Iteração i: \" + str(i))\n",
    "    \n",
    "    while j < 5:\n",
    "        print('j', j)\n",
    "        j = j + 1"
   ]
  }
 ],
 "metadata": {
  "kernelspec": {
   "display_name": "Python 3 (ipykernel)",
   "language": "python",
   "name": "python3"
  },
  "language_info": {
   "codemirror_mode": {
    "name": "ipython",
    "version": 3
   },
   "file_extension": ".py",
   "mimetype": "text/x-python",
   "name": "python",
   "nbconvert_exporter": "python",
   "pygments_lexer": "ipython3",
   "version": "3.10.2"
  }
 },
 "nbformat": 4,
 "nbformat_minor": 5
}
