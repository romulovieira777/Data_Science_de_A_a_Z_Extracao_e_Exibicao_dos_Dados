{
 "cells": [
  {
   "cell_type": "markdown",
   "id": "b3e5fd53",
   "metadata": {},
   "source": [
    "## While"
   ]
  },
  {
   "cell_type": "code",
   "execution_count": 1,
   "id": "0c41d93e",
   "metadata": {},
   "outputs": [
    {
     "name": "stdout",
     "output_type": "stream",
     "text": [
      "0\n",
      "1\n",
      "2\n",
      "3\n",
      "4\n",
      "5\n",
      "6\n",
      "7\n",
      "8\n",
      "9\n",
      "10\n",
      "11\n",
      "12\n",
      "13\n",
      "14\n"
     ]
    }
   ],
   "source": [
    "# O loop while requer dois cuidados\n",
    "# 1 - O loop somente é executado se a condição for TRUE\n",
    "# 2 - Dentro do loop a condição obrigatoriamente tem que passar a false ou um break ser executado, para que o loop pare\n",
    "contador = 0\n",
    "\n",
    "while contador < 15:\n",
    "    print(contador)\n",
    "    contador = contador + 1"
   ]
  },
  {
   "cell_type": "code",
   "execution_count": 2,
   "id": "c75c6dc8",
   "metadata": {},
   "outputs": [
    {
     "name": "stdout",
     "output_type": "stream",
     "text": [
      "0\n",
      "1\n",
      "2\n",
      "3\n",
      "4\n",
      "5\n",
      "6\n",
      "7\n",
      "8\n",
      "9\n",
      "Loop concluído!\n"
     ]
    }
   ],
   "source": [
    "# A exemplo do IF / ELSE, quando o ELSE é executado após o return FALSE do IF, podemos também utilizar ELSE com WHILE\n",
    "# o loop executará enquanto a condição do WHILE for verdadeira e depois entrará no ELSE\n",
    "x = 0\n",
    "\n",
    "while x < 10:\n",
    "    print(x)\n",
    "    x += 1  # é igual a x = x + 1\n",
    "else:\n",
    "    print(\"Loop concluído!\")"
   ]
  },
  {
   "cell_type": "code",
   "execution_count": null,
   "id": "fceb1215",
   "metadata": {},
   "outputs": [],
   "source": []
  }
 ],
 "metadata": {
  "kernelspec": {
   "display_name": "Python 3 (ipykernel)",
   "language": "python",
   "name": "python3"
  },
  "language_info": {
   "codemirror_mode": {
    "name": "ipython",
    "version": 3
   },
   "file_extension": ".py",
   "mimetype": "text/x-python",
   "name": "python",
   "nbconvert_exporter": "python",
   "pygments_lexer": "ipython3",
   "version": "3.10.2"
  }
 },
 "nbformat": 4,
 "nbformat_minor": 5
}
