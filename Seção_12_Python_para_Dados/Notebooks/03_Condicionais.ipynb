{
 "cells": [
  {
   "cell_type": "markdown",
   "id": "3ec58bba",
   "metadata": {},
   "source": [
    "### IF - Compara uma expressão e resulta um boleano. Em caso de verdade, entra no bloco, em caso de não verdade, segue o fluxo."
   ]
  },
  {
   "cell_type": "code",
   "execution_count": 1,
   "id": "59cdda31",
   "metadata": {},
   "outputs": [
    {
     "name": "stdout",
     "output_type": "stream",
     "text": [
      "Dentro do if\n"
     ]
    }
   ],
   "source": [
    "a = \"Dentro do if\"\n",
    "b = \"Fora do if\"\n",
    "if(2 == 2):\n",
    "    print(a)\n",
    "else:\n",
    "    print(b)"
   ]
  },
  {
   "cell_type": "code",
   "execution_count": 2,
   "id": "e925a4ee",
   "metadata": {},
   "outputs": [
    {
     "name": "stdout",
     "output_type": "stream",
     "text": [
      "Menor que 40 e maior que 10\n"
     ]
    }
   ],
   "source": [
    "num = 40\n",
    "if num > 40:\n",
    "    if num <= 50:\n",
    "        print(\"Menor que 50\")\n",
    "    else:\n",
    "        print(\"Maior que 50\")\n",
    "else:\n",
    "    if num <= 40:\n",
    "        if num >= 10:\n",
    "            print(\"Menor que 40 e maior que 10\")\n",
    "        else:\n",
    "            print(\"Manor que 40 e menor que 10\")"
   ]
  },
  {
   "cell_type": "code",
   "execution_count": 3,
   "id": "edc045b9",
   "metadata": {},
   "outputs": [
    {
     "name": "stdout",
     "output_type": "stream",
     "text": [
      "Opção 3\n"
     ]
    }
   ],
   "source": [
    "if 2 > 3:\n",
    "    print(\"Opção 1\")\n",
    "if 2 == 3:\n",
    "    print(\"Opção 2\")\n",
    "if 2 < 3:\n",
    "    print(\"Opção 3\")\n",
    "else:\n",
    "    print(\"Opção 4\")"
   ]
  },
  {
   "cell_type": "code",
   "execution_count": 4,
   "id": "361ab161",
   "metadata": {},
   "outputs": [
    {
     "name": "stdout",
     "output_type": "stream",
     "text": [
      "Opção 3\n"
     ]
    }
   ],
   "source": [
    "if 2 > 3:\n",
    "    print(\"Opção 1\")\n",
    "elif 2 == 3:\n",
    "    print(\"Opção 2\")\n",
    "elif 2 < 3:\n",
    "    print(\"Opção 3\")\n",
    "else:\n",
    "    print(\"Opção 4\")"
   ]
  },
  {
   "cell_type": "code",
   "execution_count": 5,
   "id": "8adfe58e",
   "metadata": {},
   "outputs": [
    {
     "name": "stdout",
     "output_type": "stream",
     "text": [
      "Ímpar\n"
     ]
    }
   ],
   "source": [
    "a = 7\n",
    "\n",
    "if False:\n",
    "    b = a % 2\n",
    "    b == 0\n",
    "    print(\"Par\")\n",
    "else:\n",
    "    print(\"Ímpar\")"
   ]
  }
 ],
 "metadata": {
  "kernelspec": {
   "display_name": "Python 3 (ipykernel)",
   "language": "python",
   "name": "python3"
  },
  "language_info": {
   "codemirror_mode": {
    "name": "ipython",
    "version": 3
   },
   "file_extension": ".py",
   "mimetype": "text/x-python",
   "name": "python",
   "nbconvert_exporter": "python",
   "pygments_lexer": "ipython3",
   "version": "3.10.2"
  }
 },
 "nbformat": 4,
 "nbformat_minor": 5
}
