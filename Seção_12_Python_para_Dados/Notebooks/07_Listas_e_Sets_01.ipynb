{
 "cells": [
  {
   "cell_type": "markdown",
   "id": "0e20af12",
   "metadata": {},
   "source": [
    "## Listas"
   ]
  },
  {
   "cell_type": "code",
   "execution_count": 1,
   "id": "d9bfd8a4",
   "metadata": {},
   "outputs": [],
   "source": [
    "# Criação de lista\n",
    "linguagens = ['Python', 'R', 'Julia', 'PHP']"
   ]
  },
  {
   "cell_type": "code",
   "execution_count": 2,
   "id": "4fc81215",
   "metadata": {},
   "outputs": [
    {
     "name": "stdout",
     "output_type": "stream",
     "text": [
      "['Python', 'R', 'Julia', 'PHP']\n"
     ]
    }
   ],
   "source": [
    "print(linguagens)"
   ]
  },
  {
   "cell_type": "code",
   "execution_count": 3,
   "id": "6a233558",
   "metadata": {},
   "outputs": [],
   "source": [
    "# Lista heterogenea\n",
    "mundiais = [\"Brasil\", 58, 62, 70, 94, 2002]"
   ]
  },
  {
   "cell_type": "code",
   "execution_count": 4,
   "id": "6cfc6211",
   "metadata": {},
   "outputs": [
    {
     "name": "stdout",
     "output_type": "stream",
     "text": [
      "['Brasil', 58, 62, 70, 94, 2002]\n"
     ]
    }
   ],
   "source": [
    "print(mundiais)"
   ]
  },
  {
   "cell_type": "code",
   "execution_count": 5,
   "id": "fc9f52d6",
   "metadata": {},
   "outputs": [],
   "source": [
    "# Assim como em strings, podemos também indexar listas.\n",
    "pais = mundiais[0]\n",
    "titulo01 = mundiais[1]\n",
    "titulo02 = mundiais[2]\n",
    "titulo03 = mundiais[3]\n",
    "titulo04 = mundiais[4]\n",
    "titulo05 = mundiais[5]"
   ]
  },
  {
   "cell_type": "code",
   "execution_count": 6,
   "id": "4e08a6ba",
   "metadata": {},
   "outputs": [
    {
     "name": "stdout",
     "output_type": "stream",
     "text": [
      "Brasil\n",
      "58\n",
      "62\n",
      "70\n",
      "94\n",
      "2002\n"
     ]
    }
   ],
   "source": [
    "print(pais)\n",
    "print(titulo01)\n",
    "print(titulo02)\n",
    "print(titulo03)\n",
    "print(titulo04)\n",
    "print(titulo05)"
   ]
  },
  {
   "cell_type": "markdown",
   "id": "5efc08dd",
   "metadata": {},
   "source": [
    "## Atualização de Listas"
   ]
  },
  {
   "cell_type": "code",
   "execution_count": 7,
   "id": "55e11542",
   "metadata": {},
   "outputs": [],
   "source": [
    "# Listas são mutáveis\n",
    "mundiais[0] = \"Alemanha\""
   ]
  },
  {
   "cell_type": "code",
   "execution_count": 8,
   "id": "0b6316d7",
   "metadata": {},
   "outputs": [
    {
     "data": {
      "text/plain": [
       "'Alemanha'"
      ]
     },
     "execution_count": 8,
     "metadata": {},
     "output_type": "execute_result"
    }
   ],
   "source": [
    "mundiais[0]"
   ]
  },
  {
   "cell_type": "code",
   "execution_count": 9,
   "id": "85c82038",
   "metadata": {},
   "outputs": [
    {
     "data": {
      "text/plain": [
       "['Alemanha', 58, 62, 70, 94, 2002]"
      ]
     },
     "execution_count": 9,
     "metadata": {},
     "output_type": "execute_result"
    }
   ],
   "source": [
    "mundiais"
   ]
  },
  {
   "cell_type": "markdown",
   "id": "54d161b2",
   "metadata": {},
   "source": [
    "## Operação com Listas"
   ]
  },
  {
   "cell_type": "markdown",
   "id": "0d7fff82",
   "metadata": {},
   "source": [
    "#### Delete - Podemos deletar um elemento separado ou um range através de ÍNDICE"
   ]
  },
  {
   "cell_type": "code",
   "execution_count": 10,
   "id": "f7eaf718",
   "metadata": {},
   "outputs": [],
   "source": [
    "del mundiais[1:]"
   ]
  },
  {
   "cell_type": "code",
   "execution_count": 11,
   "id": "cb37d8ab",
   "metadata": {},
   "outputs": [
    {
     "name": "stdout",
     "output_type": "stream",
     "text": [
      "['Alemanha']\n"
     ]
    }
   ],
   "source": [
    "print(mundiais)"
   ]
  },
  {
   "cell_type": "code",
   "execution_count": 12,
   "id": "f9bac567",
   "metadata": {},
   "outputs": [],
   "source": [
    "# Adicionando elemento\n",
    "mundiais.append(2014)"
   ]
  },
  {
   "cell_type": "code",
   "execution_count": 13,
   "id": "4e217a9a",
   "metadata": {},
   "outputs": [
    {
     "name": "stdout",
     "output_type": "stream",
     "text": [
      "['Alemanha', 2014]\n"
     ]
    }
   ],
   "source": [
    "print(mundiais)"
   ]
  },
  {
   "cell_type": "code",
   "execution_count": 14,
   "id": "8d112e4b",
   "metadata": {},
   "outputs": [],
   "source": [
    "# Adicionando mais de um elemento\n",
    "mundiais.extend([1954, 1974, 1990, 1990])"
   ]
  },
  {
   "cell_type": "code",
   "execution_count": 15,
   "id": "0b2f1299",
   "metadata": {},
   "outputs": [
    {
     "name": "stdout",
     "output_type": "stream",
     "text": [
      "['Alemanha', 2014, 1954, 1974, 1990, 1990]\n"
     ]
    }
   ],
   "source": [
    "print(mundiais)"
   ]
  },
  {
   "cell_type": "code",
   "execution_count": 16,
   "id": "b841e9b4",
   "metadata": {},
   "outputs": [],
   "source": [
    "# Podemos remover um elemento específico com a função REMOVE\n",
    "mundiais.remove(1990)"
   ]
  },
  {
   "cell_type": "markdown",
   "id": "503bbaa8",
   "metadata": {},
   "source": [
    "## Lista Aninhadas"
   ]
  },
  {
   "cell_type": "code",
   "execution_count": 17,
   "id": "5b45f2c0",
   "metadata": {},
   "outputs": [],
   "source": [
    "mundiais = [[\"Brasil\", 58, 62, 70, 94, 2002], [\"Alemanha\", 1954, 1974, 1990, 2014]]"
   ]
  },
  {
   "cell_type": "code",
   "execution_count": 18,
   "id": "b65bc532",
   "metadata": {},
   "outputs": [
    {
     "name": "stdout",
     "output_type": "stream",
     "text": [
      "[['Brasil', 58, 62, 70, 94, 2002], ['Alemanha', 1954, 1974, 1990, 2014]]\n"
     ]
    }
   ],
   "source": [
    "print(mundiais)"
   ]
  },
  {
   "cell_type": "code",
   "execution_count": 19,
   "id": "195ed75f",
   "metadata": {},
   "outputs": [
    {
     "name": "stdout",
     "output_type": "stream",
     "text": [
      "['Brasil', 58, 62, 70, 94, 2002]\n"
     ]
    }
   ],
   "source": [
    "# Trazendo o primeiro elemento da lista\n",
    "print(mundiais[0])"
   ]
  },
  {
   "cell_type": "code",
   "execution_count": 20,
   "id": "d8651ab0",
   "metadata": {},
   "outputs": [
    {
     "name": "stdout",
     "output_type": "stream",
     "text": [
      "62\n"
     ]
    }
   ],
   "source": [
    "# Acessando a lista e trazendo o segundo título do Brasil\n",
    "print(mundiais[0][2])"
   ]
  },
  {
   "cell_type": "markdown",
   "id": "0486dafc",
   "metadata": {},
   "source": [
    "## Concatenando Listas"
   ]
  },
  {
   "cell_type": "code",
   "execution_count": 21,
   "id": "449e7ff3",
   "metadata": {},
   "outputs": [],
   "source": [
    "a = [\"Argentina\", 1986, 1978]"
   ]
  },
  {
   "cell_type": "code",
   "execution_count": 22,
   "id": "b6f8f34c",
   "metadata": {},
   "outputs": [],
   "source": [
    "b = [\"Alemanha\", 1954, 1974, 1990, 2014]"
   ]
  },
  {
   "cell_type": "code",
   "execution_count": 23,
   "id": "857069cb",
   "metadata": {},
   "outputs": [],
   "source": [
    "c = [\"Brasil\", 58, 62, 70, 94, 2002]"
   ]
  },
  {
   "cell_type": "code",
   "execution_count": 24,
   "id": "01a60b82",
   "metadata": {},
   "outputs": [],
   "source": [
    "# Concatenando\n",
    "fifa = a + b + c"
   ]
  },
  {
   "cell_type": "code",
   "execution_count": 25,
   "id": "dd25c7aa",
   "metadata": {},
   "outputs": [
    {
     "data": {
      "text/plain": [
       "['Argentina',\n",
       " 1986,\n",
       " 1978,\n",
       " 'Alemanha',\n",
       " 1954,\n",
       " 1974,\n",
       " 1990,\n",
       " 2014,\n",
       " 'Brasil',\n",
       " 58,\n",
       " 62,\n",
       " 70,\n",
       " 94,\n",
       " 2002]"
      ]
     },
     "execution_count": 25,
     "metadata": {},
     "output_type": "execute_result"
    }
   ],
   "source": [
    "fifa"
   ]
  },
  {
   "cell_type": "code",
   "execution_count": 26,
   "id": "0b833b1b",
   "metadata": {},
   "outputs": [
    {
     "data": {
      "text/plain": [
       "62"
      ]
     },
     "execution_count": 26,
     "metadata": {},
     "output_type": "execute_result"
    }
   ],
   "source": [
    "fifa[10]"
   ]
  },
  {
   "cell_type": "markdown",
   "id": "80c7667c",
   "metadata": {},
   "source": [
    "## Operador in"
   ]
  },
  {
   "cell_type": "code",
   "execution_count": 27,
   "id": "b528522d",
   "metadata": {},
   "outputs": [
    {
     "name": "stdout",
     "output_type": "stream",
     "text": [
      "False\n"
     ]
    }
   ],
   "source": [
    "# Verificando se um elemento está na lista\n",
    "print(\"Uruguai\" in fifa)"
   ]
  },
  {
   "cell_type": "code",
   "execution_count": 28,
   "id": "b970f593",
   "metadata": {},
   "outputs": [
    {
     "name": "stdout",
     "output_type": "stream",
     "text": [
      "True\n"
     ]
    }
   ],
   "source": [
    "print(\"Brasil\" in fifa)"
   ]
  },
  {
   "cell_type": "code",
   "execution_count": 29,
   "id": "ef86dc20",
   "metadata": {},
   "outputs": [
    {
     "name": "stdout",
     "output_type": "stream",
     "text": [
      "Indíce da equipe: 8\n",
      "Brasil\n",
      "[58, 62, 70, 94, 2002]\n"
     ]
    }
   ],
   "source": [
    "# Imprimindo os títulos de uma equipe\n",
    "equipe = \"Brasil\"\n",
    "\n",
    "if equipe in fifa:\n",
    "    a = fifa.index(equipe)\n",
    "    print(\"Indíce da equipe:\", a)\n",
    "    print(equipe)\n",
    "    print(fifa[a + 1 :])\n",
    "else:\n",
    "    print(equipe + ' não possui títulos ou não está na lista')"
   ]
  },
  {
   "cell_type": "markdown",
   "id": "b3d3cb12",
   "metadata": {},
   "source": [
    "## Funções Built-in"
   ]
  },
  {
   "cell_type": "code",
   "execution_count": 30,
   "id": "0307a062",
   "metadata": {},
   "outputs": [
    {
     "data": {
      "text/plain": [
       "14"
      ]
     },
     "execution_count": 30,
     "metadata": {},
     "output_type": "execute_result"
    }
   ],
   "source": [
    "# Retorna o tamanho da lista\n",
    "len(fifa)"
   ]
  },
  {
   "cell_type": "code",
   "execution_count": 31,
   "id": "d850ac80",
   "metadata": {},
   "outputs": [
    {
     "ename": "TypeError",
     "evalue": "'>' not supported between instances of 'int' and 'str'",
     "output_type": "error",
     "traceback": [
      "\u001b[1;31m---------------------------------------------------------------------------\u001b[0m",
      "\u001b[1;31mTypeError\u001b[0m                                 Traceback (most recent call last)",
      "Input \u001b[1;32mIn [31]\u001b[0m, in \u001b[0;36m<module>\u001b[1;34m\u001b[0m\n\u001b[0;32m      1\u001b[0m \u001b[38;5;66;03m# Valor máximo da lista Não funciona com listas heterogeneas\u001b[39;00m\n\u001b[1;32m----> 2\u001b[0m \u001b[38;5;28;43mmax\u001b[39;49m\u001b[43m(\u001b[49m\u001b[43mfifa\u001b[49m\u001b[43m)\u001b[49m\n",
      "\u001b[1;31mTypeError\u001b[0m: '>' not supported between instances of 'int' and 'str'"
     ]
    }
   ],
   "source": [
    "# Valor máximo da lista Não funciona com listas heterogeneas\n",
    "max(fifa)"
   ]
  },
  {
   "cell_type": "code",
   "execution_count": 32,
   "id": "566cc030",
   "metadata": {},
   "outputs": [],
   "source": [
    "numeros = [34, 65, 32, 23, 54, 98, 12]\n",
    "palavras = ['Macaco', 'Zebra', 'Cachorro', 'Gato']  # Alfabetica"
   ]
  },
  {
   "cell_type": "code",
   "execution_count": 33,
   "id": "09601928",
   "metadata": {},
   "outputs": [
    {
     "name": "stdout",
     "output_type": "stream",
     "text": [
      "Zebra\n",
      "98\n"
     ]
    }
   ],
   "source": [
    "print(max(palavras))\n",
    "print(max(numeros))"
   ]
  },
  {
   "cell_type": "code",
   "execution_count": 34,
   "id": "c47fac15",
   "metadata": {},
   "outputs": [
    {
     "name": "stdout",
     "output_type": "stream",
     "text": [
      "Cachorro\n",
      "12\n"
     ]
    }
   ],
   "source": [
    "# Valor minimo da lista\n",
    "print(min(palavras))\n",
    "print(min(numeros))"
   ]
  },
  {
   "cell_type": "code",
   "execution_count": 35,
   "id": "d6163c09",
   "metadata": {},
   "outputs": [
    {
     "data": {
      "text/plain": [
       "[7, 6, 5, 4, 8, 2, 10]"
      ]
     },
     "execution_count": 35,
     "metadata": {},
     "output_type": "execute_result"
    }
   ],
   "source": [
    "# Reverte a lista POSICIONALMENTE\n",
    "numeros = [10, 2, 8, 4, 5, 6, 7]\n",
    "numeros.reverse()\n",
    "numeros"
   ]
  },
  {
   "cell_type": "code",
   "execution_count": 36,
   "id": "c657a48a",
   "metadata": {},
   "outputs": [
    {
     "data": {
      "text/plain": [
       "[2, 4, 5, 6, 7, 8, 10]"
      ]
     },
     "execution_count": 36,
     "metadata": {},
     "output_type": "execute_result"
    }
   ],
   "source": [
    "# Ordena a lista em ORDEM CRESCENTE\n",
    "numeros.sort()\n",
    "numeros"
   ]
  },
  {
   "cell_type": "code",
   "execution_count": 37,
   "id": "be180d14",
   "metadata": {},
   "outputs": [
    {
     "name": "stdout",
     "output_type": "stream",
     "text": [
      "['Macaco', 'Zebra', 'Cachorro', 'Gato', 'Macaco']\n"
     ]
    }
   ],
   "source": [
    "# Adicionando um valor repetido\n",
    "palavras.append(\"Macaco\")\n",
    "\n",
    "# Contando o numero de ocorrencias\n",
    "palavras.count(\"Macaco\")\n",
    "\n",
    "print(palavras)"
   ]
  },
  {
   "cell_type": "code",
   "execution_count": 38,
   "id": "4625318e",
   "metadata": {},
   "outputs": [],
   "source": [
    "# Criando uma lista vazia\n",
    "a = []"
   ]
  },
  {
   "cell_type": "code",
   "execution_count": 39,
   "id": "dc303e2a",
   "metadata": {},
   "outputs": [
    {
     "name": "stdout",
     "output_type": "stream",
     "text": [
      "[]\n"
     ]
    }
   ],
   "source": [
    "print(a)"
   ]
  },
  {
   "cell_type": "code",
   "execution_count": 40,
   "id": "583ca28a",
   "metadata": {},
   "outputs": [
    {
     "data": {
      "text/plain": [
       "list"
      ]
     },
     "execution_count": 40,
     "metadata": {},
     "output_type": "execute_result"
    }
   ],
   "source": [
    "type(a)"
   ]
  },
  {
   "cell_type": "markdown",
   "id": "506ec1bd",
   "metadata": {},
   "source": [
    "## POP - Retira o último objeto da lista, mas tem como retorno o próprio objeto. É POSICIONAL"
   ]
  },
  {
   "cell_type": "code",
   "execution_count": 41,
   "id": "3e34891f",
   "metadata": {},
   "outputs": [
    {
     "name": "stdout",
     "output_type": "stream",
     "text": [
      "['B', 'C', 'D', 'E', 'A']\n"
     ]
    }
   ],
   "source": [
    "lista = ['B', 'C', 'D', 'E', 'A']\n",
    "\n",
    "print(lista)"
   ]
  },
  {
   "cell_type": "code",
   "execution_count": 42,
   "id": "c86239c4",
   "metadata": {},
   "outputs": [
    {
     "name": "stdout",
     "output_type": "stream",
     "text": [
      "A\n"
     ]
    }
   ],
   "source": [
    "print(lista.pop())"
   ]
  },
  {
   "cell_type": "code",
   "execution_count": 43,
   "id": "b2407e79",
   "metadata": {},
   "outputs": [
    {
     "name": "stdout",
     "output_type": "stream",
     "text": [
      "['Estatistica', 'SQL', 'ETL', 'Big Data', 'Machine Learning']\n"
     ]
    }
   ],
   "source": [
    "lista = ['Estatistica', 'SQL', 'ETL', 'Big Data', 'Machine Learning']\n",
    "\n",
    "print(lista)"
   ]
  },
  {
   "cell_type": "code",
   "execution_count": 44,
   "id": "035c497e",
   "metadata": {},
   "outputs": [
    {
     "name": "stdout",
     "output_type": "stream",
     "text": [
      "Machine Learning\n"
     ]
    }
   ],
   "source": [
    "print(lista.pop())"
   ]
  },
  {
   "cell_type": "code",
   "execution_count": 45,
   "id": "9d84c5f0",
   "metadata": {},
   "outputs": [
    {
     "name": "stdout",
     "output_type": "stream",
     "text": [
      "['Estatistica', 'SQL', 'ETL', 'Big Data']\n"
     ]
    }
   ],
   "source": [
    "print(lista)"
   ]
  },
  {
   "cell_type": "code",
   "execution_count": 46,
   "id": "ba4b649d",
   "metadata": {},
   "outputs": [
    {
     "name": "stdout",
     "output_type": "stream",
     "text": [
      "Retirado o objeto SQL\n"
     ]
    }
   ],
   "source": [
    "# Podemos também INDEXAR o objeto, iniciando de 0\n",
    "print(\"Retirado o objeto\", lista.pop(1))"
   ]
  },
  {
   "cell_type": "code",
   "execution_count": 47,
   "id": "76da9e7f",
   "metadata": {},
   "outputs": [
    {
     "name": "stdout",
     "output_type": "stream",
     "text": [
      "['Estatistica', 'ETL', 'Big Data']\n"
     ]
    }
   ],
   "source": [
    "print(lista)"
   ]
  },
  {
   "cell_type": "code",
   "execution_count": 48,
   "id": "e5b01b19",
   "metadata": {},
   "outputs": [
    {
     "name": "stdout",
     "output_type": "stream",
     "text": [
      "Quero retirar o objeto ETL. Retirado: ETL\n"
     ]
    }
   ],
   "source": [
    "print(\"Quero retirar o objeto ETL. Retirado:\", lista.pop(1))"
   ]
  }
 ],
 "metadata": {
  "kernelspec": {
   "display_name": "Python 3 (ipykernel)",
   "language": "python",
   "name": "python3"
  },
  "language_info": {
   "codemirror_mode": {
    "name": "ipython",
    "version": 3
   },
   "file_extension": ".py",
   "mimetype": "text/x-python",
   "name": "python",
   "nbconvert_exporter": "python",
   "pygments_lexer": "ipython3",
   "version": "3.10.2"
  }
 },
 "nbformat": 4,
 "nbformat_minor": 5
}
