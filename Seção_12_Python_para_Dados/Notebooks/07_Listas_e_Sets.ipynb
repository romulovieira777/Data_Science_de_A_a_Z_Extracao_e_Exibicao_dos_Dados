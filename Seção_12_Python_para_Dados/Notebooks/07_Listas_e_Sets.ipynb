{
 "cells": [
  {
   "cell_type": "markdown",
   "id": "0e20af12",
   "metadata": {},
   "source": [
    "## Listas"
   ]
  },
  {
   "cell_type": "code",
   "execution_count": 1,
   "id": "d9bfd8a4",
   "metadata": {},
   "outputs": [],
   "source": [
    "# Criação de lista\n",
    "linguagens = ['Python', 'R', 'Julia', 'PHP']"
   ]
  },
  {
   "cell_type": "code",
   "execution_count": 2,
   "id": "4fc81215",
   "metadata": {},
   "outputs": [
    {
     "name": "stdout",
     "output_type": "stream",
     "text": [
      "['Python, R, Julia, PHP']\n"
     ]
    }
   ],
   "source": [
    "print(linguagens)"
   ]
  },
  {
   "cell_type": "code",
   "execution_count": 3,
   "id": "6a233558",
   "metadata": {},
   "outputs": [],
   "source": [
    "# Lista heterogenea\n",
    "mundiais = [\"Brasil\", 58, 62, 70, 94, 2002]"
   ]
  },
  {
   "cell_type": "code",
   "execution_count": 4,
   "id": "6cfc6211",
   "metadata": {},
   "outputs": [
    {
     "name": "stdout",
     "output_type": "stream",
     "text": [
      "['Brasil', 58, 62, 70, 94, 2002]\n"
     ]
    }
   ],
   "source": [
    "print(mundiais)"
   ]
  },
  {
   "cell_type": "code",
   "execution_count": 5,
   "id": "fc9f52d6",
   "metadata": {},
   "outputs": [],
   "source": [
    "# Assim como em strings, podemos também indexar listas.\n",
    "pais = mundiais[0]\n",
    "titulo01 = mundiais[1]\n",
    "titulo02 = mundiais[2]\n",
    "titulo03 = mundiais[3]\n",
    "titulo04 = mundiais[4]\n",
    "titulo05 = mundiais[5]"
   ]
  },
  {
   "cell_type": "code",
   "execution_count": 6,
   "id": "4e08a6ba",
   "metadata": {},
   "outputs": [
    {
     "name": "stdout",
     "output_type": "stream",
     "text": [
      "Brasil\n",
      "58\n",
      "62\n",
      "70\n",
      "94\n",
      "2002\n"
     ]
    }
   ],
   "source": [
    "print(pais)\n",
    "print(titulo01)\n",
    "print(titulo02)\n",
    "print(titulo03)\n",
    "print(titulo04)\n",
    "print(titulo05)"
   ]
  },
  {
   "cell_type": "markdown",
   "id": "5efc08dd",
   "metadata": {},
   "source": [
    "## Atualização de Listas"
   ]
  },
  {
   "cell_type": "code",
   "execution_count": 8,
   "id": "55e11542",
   "metadata": {},
   "outputs": [],
   "source": [
    "# Listas são mutáveis\n",
    "mundiais[0] = \"Alemanha\""
   ]
  },
  {
   "cell_type": "code",
   "execution_count": 9,
   "id": "0b6316d7",
   "metadata": {},
   "outputs": [
    {
     "data": {
      "text/plain": [
       "'Alemanha'"
      ]
     },
     "execution_count": 9,
     "metadata": {},
     "output_type": "execute_result"
    }
   ],
   "source": [
    "mundiais[0]"
   ]
  },
  {
   "cell_type": "code",
   "execution_count": 10,
   "id": "85c82038",
   "metadata": {},
   "outputs": [
    {
     "data": {
      "text/plain": [
       "['Alemanha', 58, 62, 70, 94, 2002]"
      ]
     },
     "execution_count": 10,
     "metadata": {},
     "output_type": "execute_result"
    }
   ],
   "source": [
    "mundiais"
   ]
  },
  {
   "cell_type": "markdown",
   "id": "54d161b2",
   "metadata": {},
   "source": [
    "## Operação com Listas"
   ]
  },
  {
   "cell_type": "markdown",
   "id": "0d7fff82",
   "metadata": {},
   "source": [
    "#### Delete - Podemos deletar um elemento separado ou um range através de ÍNDICE"
   ]
  },
  {
   "cell_type": "code",
   "execution_count": 11,
   "id": "f7eaf718",
   "metadata": {},
   "outputs": [],
   "source": [
    "del mundiais[1:]"
   ]
  },
  {
   "cell_type": "code",
   "execution_count": 12,
   "id": "cb37d8ab",
   "metadata": {},
   "outputs": [
    {
     "name": "stdout",
     "output_type": "stream",
     "text": [
      "['Alemanha']\n"
     ]
    }
   ],
   "source": [
    "print(mundiais)"
   ]
  },
  {
   "cell_type": "code",
   "execution_count": 13,
   "id": "f9bac567",
   "metadata": {},
   "outputs": [],
   "source": [
    "# Adicionando elemento\n",
    "mundiais.append(2014)"
   ]
  },
  {
   "cell_type": "code",
   "execution_count": 14,
   "id": "4e217a9a",
   "metadata": {},
   "outputs": [
    {
     "name": "stdout",
     "output_type": "stream",
     "text": [
      "['Alemanha', 2014]\n"
     ]
    }
   ],
   "source": [
    "print(mundiais)"
   ]
  },
  {
   "cell_type": "code",
   "execution_count": null,
   "id": "8d112e4b",
   "metadata": {},
   "outputs": [],
   "source": []
  }
 ],
 "metadata": {
  "kernelspec": {
   "display_name": "Python 3 (ipykernel)",
   "language": "python",
   "name": "python3"
  },
  "language_info": {
   "codemirror_mode": {
    "name": "ipython",
    "version": 3
   },
   "file_extension": ".py",
   "mimetype": "text/x-python",
   "name": "python",
   "nbconvert_exporter": "python",
   "pygments_lexer": "ipython3",
   "version": "3.10.2"
  }
 },
 "nbformat": 4,
 "nbformat_minor": 5
}
