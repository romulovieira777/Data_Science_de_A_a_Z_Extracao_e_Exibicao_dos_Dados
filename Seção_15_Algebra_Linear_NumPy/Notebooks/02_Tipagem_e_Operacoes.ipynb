{
 "cells": [
  {
   "cell_type": "code",
   "execution_count": 1,
   "id": "469c6f0f",
   "metadata": {},
   "outputs": [],
   "source": [
    "# Importação do NumPy\n",
    "import numpy as np"
   ]
  },
  {
   "cell_type": "markdown",
   "id": "b08335f6",
   "metadata": {},
   "source": [
    "## Tipagem de Dados"
   ]
  },
  {
   "cell_type": "code",
   "execution_count": 2,
   "id": "e84a2338",
   "metadata": {},
   "outputs": [],
   "source": [
    "# Podemos passar um tipo para o Array por parâmetro\n",
    "a = np.array([-10, 10, 20, 30], dtype = 'float')"
   ]
  },
  {
   "cell_type": "code",
   "execution_count": 3,
   "id": "f56c58af",
   "metadata": {},
   "outputs": [
    {
     "data": {
      "text/plain": [
       "array([-10.,  10.,  20.,  30.])"
      ]
     },
     "execution_count": 3,
     "metadata": {},
     "output_type": "execute_result"
    }
   ],
   "source": [
    "a"
   ]
  },
  {
   "cell_type": "code",
   "execution_count": 4,
   "id": "d4bac80c",
   "metadata": {},
   "outputs": [
    {
     "data": {
      "text/plain": [
       "dtype('float64')"
      ]
     },
     "execution_count": 4,
     "metadata": {},
     "output_type": "execute_result"
    }
   ],
   "source": [
    "# A propriedade dtype me retorna o tipo dos elementos do array\n",
    "a.dtype"
   ]
  },
  {
   "cell_type": "code",
   "execution_count": 5,
   "id": "40d0a38a",
   "metadata": {},
   "outputs": [
    {
     "data": {
      "text/plain": [
       "dtype('int32')"
      ]
     },
     "execution_count": 5,
     "metadata": {},
     "output_type": "execute_result"
    }
   ],
   "source": [
    "# Caso eu não passe o tipo para o Python, ele definirá automaticamente\n",
    "b = np.array([-10, 10, 20, 30])\n",
    "b.dtype"
   ]
  },
  {
   "cell_type": "code",
   "execution_count": 6,
   "id": "7271d9a2",
   "metadata": {},
   "outputs": [
    {
     "data": {
      "text/plain": [
       "dtype('float64')"
      ]
     },
     "execution_count": 6,
     "metadata": {},
     "output_type": "execute_result"
    }
   ],
   "source": [
    "# Caso exista um elemento diferente dos demais, o Python irá tipar o array pelo elemento mais específico\n",
    "c = np.array([10, 20, 30, 40.5])\n",
    "c.dtype"
   ]
  },
  {
   "cell_type": "code",
   "execution_count": 7,
   "id": "3bf5634f",
   "metadata": {},
   "outputs": [],
   "source": [
    "# Podemos também ter um tipo string\n",
    "d = np.array(['Universidade', 'dos', 'Dados'])"
   ]
  },
  {
   "cell_type": "code",
   "execution_count": 8,
   "id": "8b580477",
   "metadata": {},
   "outputs": [
    {
     "data": {
      "text/plain": [
       "dtype('<U12')"
      ]
     },
     "execution_count": 8,
     "metadata": {},
     "output_type": "execute_result"
    }
   ],
   "source": [
    "d.dtype"
   ]
  },
  {
   "cell_type": "code",
   "execution_count": 9,
   "id": "403382f3",
   "metadata": {},
   "outputs": [],
   "source": [
    "# Array do tipo boleano\n",
    "e = np.array([False, False, True])"
   ]
  },
  {
   "cell_type": "code",
   "execution_count": 10,
   "id": "e2aa78da",
   "metadata": {},
   "outputs": [
    {
     "data": {
      "text/plain": [
       "dtype('bool')"
      ]
     },
     "execution_count": 10,
     "metadata": {},
     "output_type": "execute_result"
    }
   ],
   "source": [
    "e.dtype"
   ]
  },
  {
   "cell_type": "markdown",
   "id": "38649bb5",
   "metadata": {},
   "source": [
    "## Cast de Arrays"
   ]
  },
  {
   "cell_type": "code",
   "execution_count": 11,
   "id": "b781968b",
   "metadata": {},
   "outputs": [
    {
     "data": {
      "text/plain": [
       "dtype('float64')"
      ]
     },
     "execution_count": 11,
     "metadata": {},
     "output_type": "execute_result"
    }
   ],
   "source": [
    "f = np.array([-9, 10, 20.7])\n",
    "f.dtype"
   ]
  },
  {
   "cell_type": "code",
   "execution_count": 12,
   "id": "d84d5c99",
   "metadata": {},
   "outputs": [
    {
     "data": {
      "text/plain": [
       "array([-9, 10, 20])"
      ]
     },
     "execution_count": 12,
     "metadata": {},
     "output_type": "execute_result"
    }
   ],
   "source": [
    "# Posso realizar um CAST com a função astype()\n",
    "f.astype(int)"
   ]
  },
  {
   "cell_type": "markdown",
   "id": "4bf602a5",
   "metadata": {},
   "source": [
    "## Criando Arrays com operações aritméticas em tempo de execução"
   ]
  },
  {
   "cell_type": "code",
   "execution_count": 13,
   "id": "e91eb2c6",
   "metadata": {},
   "outputs": [
    {
     "data": {
      "text/plain": [
       "array([0, 1, 2, 3, 4])"
      ]
     },
     "execution_count": 13,
     "metadata": {},
     "output_type": "execute_result"
    }
   ],
   "source": [
    "# Aprendemos que a função arange serve para criar um array\n",
    "array = np.arange(0,5)\n",
    "array"
   ]
  }
 ],
 "metadata": {
  "kernelspec": {
   "display_name": "Python 3 (ipykernel)",
   "language": "python",
   "name": "python3"
  },
  "language_info": {
   "codemirror_mode": {
    "name": "ipython",
    "version": 3
   },
   "file_extension": ".py",
   "mimetype": "text/x-python",
   "name": "python",
   "nbconvert_exporter": "python",
   "pygments_lexer": "ipython3",
   "version": "3.11.0"
  }
 },
 "nbformat": 4,
 "nbformat_minor": 5
}
