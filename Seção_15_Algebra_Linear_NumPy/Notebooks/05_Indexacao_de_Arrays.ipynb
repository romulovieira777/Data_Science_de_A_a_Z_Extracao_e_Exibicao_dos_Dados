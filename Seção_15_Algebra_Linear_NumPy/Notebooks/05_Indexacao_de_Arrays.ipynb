{
 "cells": [
  {
   "cell_type": "code",
   "execution_count": 1,
   "id": "080d9c90",
   "metadata": {},
   "outputs": [],
   "source": [
    "import numpy as np"
   ]
  },
  {
   "cell_type": "code",
   "execution_count": 2,
   "id": "6213bf50",
   "metadata": {},
   "outputs": [
    {
     "name": "stdout",
     "output_type": "stream",
     "text": [
      "<class 'numpy.ndarray'>\n"
     ]
    }
   ],
   "source": [
    "a = [1, 2, 11, 6, 8, 18, 2]\n",
    "\n",
    "array = np.array(a)\n",
    "\n",
    "print(type(array))"
   ]
  },
  {
   "cell_type": "code",
   "execution_count": 3,
   "id": "f98288f3",
   "metadata": {},
   "outputs": [
    {
     "name": "stdout",
     "output_type": "stream",
     "text": [
      "(7,)\n"
     ]
    }
   ],
   "source": [
    "# Verificando o tamanho do array\n",
    "print(array.shape)"
   ]
  },
  {
   "cell_type": "code",
   "execution_count": 4,
   "id": "245e2d9f",
   "metadata": {},
   "outputs": [
    {
     "data": {
      "text/plain": [
       "1"
      ]
     },
     "execution_count": 4,
     "metadata": {},
     "output_type": "execute_result"
    }
   ],
   "source": [
    "# Primeiro Elemento\n",
    "array[0]"
   ]
  },
  {
   "cell_type": "code",
   "execution_count": 5,
   "id": "7070d56d",
   "metadata": {},
   "outputs": [
    {
     "data": {
      "text/plain": [
       "11"
      ]
     },
     "execution_count": 5,
     "metadata": {},
     "output_type": "execute_result"
    }
   ],
   "source": [
    "# Elemento no índice 2\n",
    "array[2]"
   ]
  },
  {
   "cell_type": "code",
   "execution_count": 6,
   "id": "5dad038b",
   "metadata": {},
   "outputs": [
    {
     "data": {
      "text/plain": [
       "2"
      ]
     },
     "execution_count": 6,
     "metadata": {},
     "output_type": "execute_result"
    }
   ],
   "source": [
    "# Último Elemento\n",
    "array[-1]"
   ]
  },
  {
   "cell_type": "code",
   "execution_count": 7,
   "id": "e69a6f94",
   "metadata": {},
   "outputs": [
    {
     "name": "stdout",
     "output_type": "stream",
     "text": [
      "[ 2 11  6  8]\n"
     ]
    }
   ],
   "source": [
    "# Trazendo o índice 1 até o 5 (exclusivo)\n",
    "print(array[1:5])"
   ]
  },
  {
   "cell_type": "code",
   "execution_count": 8,
   "id": "dd97d834",
   "metadata": {},
   "outputs": [
    {
     "name": "stdout",
     "output_type": "stream",
     "text": [
      "[2 6]\n"
     ]
    }
   ],
   "source": [
    "# utilizando um passo 2 em 2\n",
    "print(array[1:5:2])"
   ]
  },
  {
   "cell_type": "code",
   "execution_count": 9,
   "id": "7aab74d3",
   "metadata": {},
   "outputs": [
    {
     "name": "stdout",
     "output_type": "stream",
     "text": [
      "[ 1  2 11  6]\n"
     ]
    }
   ],
   "source": [
    "# Trazendo com índices negativos\n",
    "# -7 representa o primeiro da esquerda e -3 o último a ser trazido (exclusivo)\n",
    "print(array[-7:-3])"
   ]
  },
  {
   "cell_type": "code",
   "execution_count": 10,
   "id": "28ecf624",
   "metadata": {},
   "outputs": [
    {
     "name": "stdout",
     "output_type": "stream",
     "text": [
      "[ 6  8 18  2]\n"
     ]
    }
   ],
   "source": [
    "# Índice 3 até o fim\n",
    "print(array[3:])"
   ]
  },
  {
   "cell_type": "code",
   "execution_count": 11,
   "id": "791f2f40",
   "metadata": {},
   "outputs": [
    {
     "name": "stdout",
     "output_type": "stream",
     "text": [
      "[ 1  2 11  6]\n"
     ]
    }
   ],
   "source": [
    "# Início até o índice 4\n",
    "print(array[:4])"
   ]
  },
  {
   "cell_type": "code",
   "execution_count": 12,
   "id": "2761f2d5",
   "metadata": {},
   "outputs": [
    {
     "data": {
      "text/plain": [
       "array([ 2, 18,  8,  6, 11,  2,  1])"
      ]
     },
     "execution_count": 12,
     "metadata": {},
     "output_type": "execute_result"
    }
   ],
   "source": [
    "# Invertendo o Array - Início até o fim, ao passo de -1\n",
    "array[::-1]"
   ]
  },
  {
   "cell_type": "code",
   "execution_count": 13,
   "id": "5b1c42bb",
   "metadata": {},
   "outputs": [
    {
     "name": "stdout",
     "output_type": "stream",
     "text": [
      "[ 1  2 11  6  8 18  2]\n"
     ]
    }
   ],
   "source": [
    "# Copiando um Array por referência\n",
    "b = array[:]\n",
    "print(b)"
   ]
  },
  {
   "cell_type": "code",
   "execution_count": 14,
   "id": "02805536",
   "metadata": {},
   "outputs": [
    {
     "name": "stdout",
     "output_type": "stream",
     "text": [
      "[ 2  6  8  4 11  8  2]\n"
     ]
    }
   ],
   "source": [
    "# Concatenando 2 Arrays\n",
    "x = np.array([2, 6, 8, 4])\n",
    "\n",
    "y = np.array([11, 8, 2])\n",
    "\n",
    "z = np.concatenate([x, y])\n",
    "\n",
    "print(z)"
   ]
  }
 ],
 "metadata": {
  "kernelspec": {
   "display_name": "Python 3 (ipykernel)",
   "language": "python",
   "name": "python3"
  },
  "language_info": {
   "codemirror_mode": {
    "name": "ipython",
    "version": 3
   },
   "file_extension": ".py",
   "mimetype": "text/x-python",
   "name": "python",
   "nbconvert_exporter": "python",
   "pygments_lexer": "ipython3",
   "version": "3.11.0"
  }
 },
 "nbformat": 4,
 "nbformat_minor": 5
}
