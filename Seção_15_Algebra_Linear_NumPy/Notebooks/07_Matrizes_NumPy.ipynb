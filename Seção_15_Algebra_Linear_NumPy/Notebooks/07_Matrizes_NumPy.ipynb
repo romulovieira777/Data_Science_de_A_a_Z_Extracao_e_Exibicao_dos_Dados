{
 "cells": [
  {
   "cell_type": "markdown",
   "id": "6684daff",
   "metadata": {},
   "source": [
    "## Matrizes são Objetos ESTRITAMENTE bidimensionais, o que torna mais fácil as Operações Aritméticas"
   ]
  },
  {
   "cell_type": "code",
   "execution_count": 1,
   "id": "d3fcad4a",
   "metadata": {},
   "outputs": [],
   "source": [
    "import numpy as np"
   ]
  },
  {
   "cell_type": "code",
   "execution_count": null,
   "id": "9adda06d",
   "metadata": {},
   "outputs": [],
   "source": [
    "A = np.matrix([[1, 2], [3, 4]])\n",
    "B = np.matrix([[5, 3], [8, 7]])\n",
    "\n",
    "Z = np.array([\n",
    "    [[2, 6], [8, 4]],\n",
    "    [[2, 6], [8, 4]],\n",
    "    [[2, 6], [8, 4]]\n",
    "])\n",
    "\n",
    "Y = np.array([2, 6, 8, 4])"
   ]
  }
 ],
 "metadata": {
  "kernelspec": {
   "display_name": "Python 3 (ipykernel)",
   "language": "python",
   "name": "python3"
  },
  "language_info": {
   "codemirror_mode": {
    "name": "ipython",
    "version": 3
   },
   "file_extension": ".py",
   "mimetype": "text/x-python",
   "name": "python",
   "nbconvert_exporter": "python",
   "pygments_lexer": "ipython3",
   "version": "3.11.4"
  }
 },
 "nbformat": 4,
 "nbformat_minor": 5
}
