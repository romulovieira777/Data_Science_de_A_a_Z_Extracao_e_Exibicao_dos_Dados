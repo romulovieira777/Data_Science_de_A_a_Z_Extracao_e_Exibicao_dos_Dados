{
 "cells": [
  {
   "cell_type": "markdown",
   "id": "a9bd07ea",
   "metadata": {},
   "source": [
    "## NumPy - Biblioteca matemática, mais utilizada com Álgebra Linear. Vetores e Matrizes."
   ]
  },
  {
   "cell_type": "code",
   "execution_count": 1,
   "id": "f2c8a3fd",
   "metadata": {},
   "outputs": [],
   "source": [
    "# Importação do NumPy\n",
    "import numpy as np"
   ]
  },
  {
   "cell_type": "markdown",
   "id": "8d506b2e",
   "metadata": {},
   "source": [
    "Estruturas Unidimensionais"
   ]
  },
  {
   "cell_type": "code",
   "execution_count": 2,
   "id": "f62fc8e1",
   "metadata": {},
   "outputs": [],
   "source": [
    "a1 = np.array(['Spark', 'Hadoop', 'Python', 'R'])"
   ]
  },
  {
   "cell_type": "code",
   "execution_count": 3,
   "id": "31f2f2f0",
   "metadata": {},
   "outputs": [
    {
     "data": {
      "text/plain": [
       "array(['Spark', 'Hadoop', 'Python', 'R'], dtype='<U6')"
      ]
     },
     "execution_count": 3,
     "metadata": {},
     "output_type": "execute_result"
    }
   ],
   "source": [
    "a1"
   ]
  },
  {
   "cell_type": "markdown",
   "id": "5cf22ece",
   "metadata": {},
   "source": [
    "## Arrays podem ter listas de tipos diferentes"
   ]
  },
  {
   "cell_type": "markdown",
   "id": "a34947da",
   "metadata": {},
   "source": [
    "Estruturas Bidmensionais"
   ]
  },
  {
   "cell_type": "code",
   "execution_count": 4,
   "id": "a076fc39",
   "metadata": {},
   "outputs": [],
   "source": [
    "a2 = np.array([['Altura', 'Largura', 'Profundidade'], [42, 78, 10]])"
   ]
  },
  {
   "cell_type": "code",
   "execution_count": 5,
   "id": "fe5ce443",
   "metadata": {},
   "outputs": [
    {
     "data": {
      "text/plain": [
       "array([['Altura', 'Largura', 'Profundidade'],\n",
       "       ['42', '78', '10']], dtype='<U12')"
      ]
     },
     "execution_count": 5,
     "metadata": {},
     "output_type": "execute_result"
    }
   ],
   "source": [
    "a2"
   ]
  },
  {
   "cell_type": "code",
   "execution_count": 6,
   "id": "2b524475",
   "metadata": {},
   "outputs": [],
   "source": [
    "a3 = np.array([[10, 20, 30], [40, 50, 60]])"
   ]
  },
  {
   "cell_type": "code",
   "execution_count": 7,
   "id": "75b65eca",
   "metadata": {},
   "outputs": [
    {
     "data": {
      "text/plain": [
       "array([[10, 20, 30],\n",
       "       [40, 50, 60]])"
      ]
     },
     "execution_count": 7,
     "metadata": {},
     "output_type": "execute_result"
    }
   ],
   "source": [
    "a3"
   ]
  },
  {
   "cell_type": "code",
   "execution_count": 8,
   "id": "5111db7e",
   "metadata": {},
   "outputs": [
    {
     "name": "stdout",
     "output_type": "stream",
     "text": [
      "(4,)\n",
      "(2, 3)\n"
     ]
    }
   ],
   "source": [
    "# Tamanho do Array\n",
    "print(a1.shape)\n",
    "print(a2.shape)"
   ]
  },
  {
   "cell_type": "code",
   "execution_count": 9,
   "id": "d1ddc4da",
   "metadata": {},
   "outputs": [
    {
     "data": {
      "text/plain": [
       "1"
      ]
     },
     "execution_count": 9,
     "metadata": {},
     "output_type": "execute_result"
    }
   ],
   "source": [
    "# Dimensões do Array\n",
    "a1.ndim"
   ]
  },
  {
   "cell_type": "code",
   "execution_count": 10,
   "id": "dba0aa1a",
   "metadata": {},
   "outputs": [
    {
     "data": {
      "text/plain": [
       "2"
      ]
     },
     "execution_count": 10,
     "metadata": {},
     "output_type": "execute_result"
    }
   ],
   "source": [
    "a2.ndim"
   ]
  },
  {
   "cell_type": "markdown",
   "id": "fd0b0462",
   "metadata": {},
   "source": [
    "Ausência ou presença de parênteses:\n",
    "\n",
    "Podemos realizar uma analogia com características e ações. O uso de parênteses reflete uma AÇÃO, equanto a ausência, reflete uma característica."
   ]
  },
  {
   "cell_type": "code",
   "execution_count": 11,
   "id": "be10e197",
   "metadata": {},
   "outputs": [
    {
     "data": {
      "text/plain": [
       "60"
      ]
     },
     "execution_count": 11,
     "metadata": {},
     "output_type": "execute_result"
    }
   ],
   "source": [
    "# O método max() não funciona em arrays de tipos heterogêneo\n",
    "a3.max()"
   ]
  },
  {
   "cell_type": "code",
   "execution_count": 12,
   "id": "0aa3d447",
   "metadata": {},
   "outputs": [
    {
     "data": {
      "text/plain": [
       "2"
      ]
     },
     "execution_count": 12,
     "metadata": {},
     "output_type": "execute_result"
    }
   ],
   "source": [
    "# Atributo\n",
    "a2.ndim"
   ]
  },
  {
   "cell_type": "markdown",
   "id": "1e03f698",
   "metadata": {},
   "source": [
    "## Método Arrange"
   ]
  },
  {
   "cell_type": "code",
   "execution_count": 13,
   "id": "664f0d91",
   "metadata": {},
   "outputs": [
    {
     "data": {
      "text/plain": [
       "array([ 0,  1,  2,  3,  4,  5,  6,  7,  8,  9, 10, 11, 12, 13, 14, 15, 16,\n",
       "       17, 18, 19])"
      ]
     },
     "execution_count": 13,
     "metadata": {},
     "output_type": "execute_result"
    }
   ],
   "source": [
    "array = np.arange(20)\n",
    "array"
   ]
  },
  {
   "cell_type": "code",
   "execution_count": 14,
   "id": "96ee5bc2",
   "metadata": {},
   "outputs": [],
   "source": [
    "# usando start/end - de 0 a 100 de 10 em 10\n",
    "array = np.arange(0, 100, 10)"
   ]
  },
  {
   "cell_type": "code",
   "execution_count": 15,
   "id": "ebf38fba",
   "metadata": {},
   "outputs": [
    {
     "data": {
      "text/plain": [
       "array([ 0, 10, 20, 30, 40, 50, 60, 70, 80, 90])"
      ]
     },
     "execution_count": 15,
     "metadata": {},
     "output_type": "execute_result"
    }
   ],
   "source": [
    "array"
   ]
  },
  {
   "cell_type": "markdown",
   "id": "63a70bcd",
   "metadata": {},
   "source": [
    "## Criando estruturas de dados com linspace"
   ]
  },
  {
   "cell_type": "code",
   "execution_count": 16,
   "id": "1ca2fc8d",
   "metadata": {},
   "outputs": [
    {
     "data": {
      "text/plain": [
       "array([ 0, 10, 20, 30, 40, 50, 60, 70, 80, 90])"
      ]
     },
     "execution_count": 16,
     "metadata": {},
     "output_type": "execute_result"
    }
   ],
   "source": [
    "# Fique atento: A diferença do linspace para o range é que no arange o últim argumento é o incremento, e no\n",
    "# linspace o último argumento é o número de elementos do vetor (aleatório)\n",
    "matriz = np.linspace(0, 10, 20)\n",
    "array"
   ]
  },
  {
   "cell_type": "code",
   "execution_count": 17,
   "id": "d25d7128",
   "metadata": {},
   "outputs": [
    {
     "data": {
      "text/plain": [
       "array([ 0. ,  2.5,  5. ,  7.5, 10. ])"
      ]
     },
     "execution_count": 17,
     "metadata": {},
     "output_type": "execute_result"
    }
   ],
   "source": [
    "matriz = np.linspace(0, 10, 5)\n",
    "matriz"
   ]
  },
  {
   "cell_type": "code",
   "execution_count": 18,
   "id": "2202ae94",
   "metadata": {},
   "outputs": [
    {
     "data": {
      "text/plain": [
       "array([0.  , 1.25, 2.5 , 3.75, 5.  ])"
      ]
     },
     "execution_count": 18,
     "metadata": {},
     "output_type": "execute_result"
    }
   ],
   "source": [
    "matriz = np.linspace(0, 5, 5)\n",
    "matriz"
   ]
  },
  {
   "cell_type": "markdown",
   "id": "b3ae1acf",
   "metadata": {},
   "source": [
    "## Estruturas de Matrizes"
   ]
  },
  {
   "cell_type": "code",
   "execution_count": 19,
   "id": "e87f3ec6",
   "metadata": {},
   "outputs": [
    {
     "data": {
      "text/plain": [
       "array([[0., 0., 0., 0., 0., 0., 0., 0., 0., 0.],\n",
       "       [0., 0., 0., 0., 0., 0., 0., 0., 0., 0.],\n",
       "       [0., 0., 0., 0., 0., 0., 0., 0., 0., 0.],\n",
       "       [0., 0., 0., 0., 0., 0., 0., 0., 0., 0.],\n",
       "       [0., 0., 0., 0., 0., 0., 0., 0., 0., 0.],\n",
       "       [0., 0., 0., 0., 0., 0., 0., 0., 0., 0.],\n",
       "       [0., 0., 0., 0., 0., 0., 0., 0., 0., 0.],\n",
       "       [0., 0., 0., 0., 0., 0., 0., 0., 0., 0.],\n",
       "       [0., 0., 0., 0., 0., 0., 0., 0., 0., 0.],\n",
       "       [0., 0., 0., 0., 0., 0., 0., 0., 0., 0.]])"
      ]
     },
     "execution_count": 19,
     "metadata": {},
     "output_type": "execute_result"
    }
   ],
   "source": [
    "# numpy.zeros\n",
    "matriz = np.zeros((10 ,10))\n",
    "matriz"
   ]
  },
  {
   "cell_type": "code",
   "execution_count": 20,
   "id": "c7006e30",
   "metadata": {},
   "outputs": [
    {
     "data": {
      "text/plain": [
       "array([[1., 1., 1.],\n",
       "       [1., 1., 1.]])"
      ]
     },
     "execution_count": 20,
     "metadata": {},
     "output_type": "execute_result"
    }
   ],
   "source": [
    "# Numpy.ones\n",
    "matriz = np.ones((2, 3))\n",
    "matriz"
   ]
  },
  {
   "cell_type": "code",
   "execution_count": 21,
   "id": "9054401f",
   "metadata": {},
   "outputs": [
    {
     "data": {
      "text/plain": [
       "array([[1., 0., 0., 0., 0., 0., 0., 0., 0., 0.],\n",
       "       [0., 1., 0., 0., 0., 0., 0., 0., 0., 0.],\n",
       "       [0., 0., 1., 0., 0., 0., 0., 0., 0., 0.],\n",
       "       [0., 0., 0., 1., 0., 0., 0., 0., 0., 0.],\n",
       "       [0., 0., 0., 0., 1., 0., 0., 0., 0., 0.],\n",
       "       [0., 0., 0., 0., 0., 1., 0., 0., 0., 0.],\n",
       "       [0., 0., 0., 0., 0., 0., 1., 0., 0., 0.],\n",
       "       [0., 0., 0., 0., 0., 0., 0., 1., 0., 0.],\n",
       "       [0., 0., 0., 0., 0., 0., 0., 0., 1., 0.],\n",
       "       [0., 0., 0., 0., 0., 0., 0., 0., 0., 1.]])"
      ]
     },
     "execution_count": 21,
     "metadata": {},
     "output_type": "execute_result"
    }
   ],
   "source": [
    "# Numpy.eye - Produz uma matriz do tipo Identity\n",
    "matriz = np.eye(10)\n",
    "matriz"
   ]
  },
  {
   "cell_type": "code",
   "execution_count": 22,
   "id": "817de987",
   "metadata": {},
   "outputs": [
    {
     "data": {
      "text/plain": [
       "array([[ 2,  0,  0,  0,  0,  0,  0,  0,  0,  0],\n",
       "       [ 0,  4,  0,  0,  0,  0,  0,  0,  0,  0],\n",
       "       [ 0,  0,  6,  0,  0,  0,  0,  0,  0,  0],\n",
       "       [ 0,  0,  0,  8,  0,  0,  0,  0,  0,  0],\n",
       "       [ 0,  0,  0,  0, 10,  0,  0,  0,  0,  0],\n",
       "       [ 0,  0,  0,  0,  0, 12,  0,  0,  0,  0],\n",
       "       [ 0,  0,  0,  0,  0,  0, 14,  0,  0,  0],\n",
       "       [ 0,  0,  0,  0,  0,  0,  0, 16,  0,  0],\n",
       "       [ 0,  0,  0,  0,  0,  0,  0,  0, 18,  0],\n",
       "       [ 0,  0,  0,  0,  0,  0,  0,  0,  0, 20]])"
      ]
     },
     "execution_count": 22,
     "metadata": {},
     "output_type": "execute_result"
    }
   ],
   "source": [
    "# Numpy.diag produz o mesmo resultado, porém podemos definir os números das diagonais\n",
    "matriz = np.diag((2, 4, 6, 8, 10, 12, 14, 16 ,18, 20))\n",
    "matriz"
   ]
  },
  {
   "cell_type": "code",
   "execution_count": 23,
   "id": "c0e8d353",
   "metadata": {},
   "outputs": [
    {
     "data": {
      "text/plain": [
       "array([[ 8.27000674e-312,  8.26981601e-312,  8.53188081e-304,\n",
       "         2.37106476e-303, -1.04660429e+299],\n",
       "       [ 1.71207507e-303,  6.07843378e-063,  2.00543126e-303,\n",
       "         1.78629114e-101,  1.45859711e-303],\n",
       "       [ 1.64088072e-303,  1.64087637e-303,  8.20796373e-304,\n",
       "         8.36439795e-299,  9.11575223e-304],\n",
       "       [ 4.64588662e-217,  1.82315321e-303, -5.11536792e+289,\n",
       "         1.21930460e-310,  2.09382304e+137],\n",
       "       [ 6.09972950e+149,  4.97470806e+127,  1.36769260e-313,\n",
       "         8.18434960e-085,  5.81821776e+180],\n",
       "       [ 7.05307792e-297,  1.89120937e+219,  4.54253337e+198,\n",
       "         8.82879322e+199,  7.31467580e-314],\n",
       "       [ 4.65203811e+151,  1.21572612e-224,  4.55068629e-313,\n",
       "         8.74601785e-308,  1.33360314e+241],\n",
       "       [ 3.77248412e-310,  5.08851955e+074,  1.83436589e-312,\n",
       "         6.18196790e-309,  1.33360294e+241],\n",
       "       [ 5.67421675e-311,  5.03961303e-266,  3.99046880e-008,\n",
       "         2.08868046e-310,  7.44046971e-251],\n",
       "       [ 7.34234302e-270,  1.18456207e-269,  6.83958312e-259,\n",
       "         1.47775872e-309,  0.00000000e+000]])"
      ]
     },
     "execution_count": 23,
     "metadata": {},
     "output_type": "execute_result"
    }
   ],
   "source": [
    "# Numpy.empty produz uma matriz vazia\n",
    "matriz = np.empty((10, 5))\n",
    "matriz"
   ]
  },
  {
   "cell_type": "markdown",
   "id": "af8524de",
   "metadata": {},
   "source": [
    "## numpy.file"
   ]
  },
  {
   "cell_type": "code",
   "execution_count": 24,
   "id": "434009e3",
   "metadata": {},
   "outputs": [
    {
     "data": {
      "text/plain": [
       "array([[1, 2, 1, 2, 1, 2],\n",
       "       [3, 4, 3, 4, 3, 4],\n",
       "       [5, 6, 5, 6, 5, 6]])"
      ]
     },
     "execution_count": 24,
     "metadata": {},
     "output_type": "execute_result"
    }
   ],
   "source": [
    "np.tile(np.array([[1, 2], [3, 4], [5, 6]]), 3)"
   ]
  },
  {
   "cell_type": "code",
   "execution_count": 25,
   "id": "a90e006e",
   "metadata": {},
   "outputs": [
    {
     "data": {
      "text/plain": [
       "array([[1, 2, 1, 2, 1, 2, 1, 2, 1, 2, 1, 2],\n",
       "       [3, 4, 3, 4, 3, 4, 3, 4, 3, 4, 3, 4],\n",
       "       [5, 6, 5, 6, 5, 6, 5, 6, 5, 6, 5, 6],\n",
       "       [1, 2, 1, 2, 1, 2, 1, 2, 1, 2, 1, 2],\n",
       "       [3, 4, 3, 4, 3, 4, 3, 4, 3, 4, 3, 4],\n",
       "       [5, 6, 5, 6, 5, 6, 5, 6, 5, 6, 5, 6],\n",
       "       [1, 2, 1, 2, 1, 2, 1, 2, 1, 2, 1, 2],\n",
       "       [3, 4, 3, 4, 3, 4, 3, 4, 3, 4, 3, 4],\n",
       "       [5, 6, 5, 6, 5, 6, 5, 6, 5, 6, 5, 6]])"
      ]
     },
     "execution_count": 25,
     "metadata": {},
     "output_type": "execute_result"
    }
   ],
   "source": [
    "# Num de vezes do array na vertical, num de vezes do array na horizontal\n",
    "np.tile(np.array([[1, 2], [3, 4], [5, 6]]), (3, 6))"
   ]
  }
 ],
 "metadata": {
  "kernelspec": {
   "display_name": "Python 3 (ipykernel)",
   "language": "python",
   "name": "python3"
  },
  "language_info": {
   "codemirror_mode": {
    "name": "ipython",
    "version": 3
   },
   "file_extension": ".py",
   "mimetype": "text/x-python",
   "name": "python",
   "nbconvert_exporter": "python",
   "pygments_lexer": "ipython3",
   "version": "3.10.2"
  }
 },
 "nbformat": 4,
 "nbformat_minor": 5
}
