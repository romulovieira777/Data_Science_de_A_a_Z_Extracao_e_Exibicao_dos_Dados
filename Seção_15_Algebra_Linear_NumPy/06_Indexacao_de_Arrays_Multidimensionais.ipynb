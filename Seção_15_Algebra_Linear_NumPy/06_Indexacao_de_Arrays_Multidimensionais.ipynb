{
 "cells": [
  {
   "cell_type": "code",
   "execution_count": 1,
   "id": "17be7fd9",
   "metadata": {},
   "outputs": [],
   "source": [
    "import numpy as np"
   ]
  },
  {
   "cell_type": "markdown",
   "id": "a2d2c252",
   "metadata": {},
   "source": [
    "## Operações com Arrays Multidimensionais"
   ]
  },
  {
   "cell_type": "code",
   "execution_count": 2,
   "id": "eb547985",
   "metadata": {},
   "outputs": [
    {
     "name": "stdout",
     "output_type": "stream",
     "text": [
      "[[ 1  2  3  4]\n",
      " [ 5  6  7  8]\n",
      " [10 20 30 40]\n",
      " [50 60 70 80]]\n"
     ]
    }
   ],
   "source": [
    "A = [[1, 2, 3, 4], [5, 6, 7, 8], [10, 20, 30, 40], [50, 60, 70, 80]]\n",
    "\n",
    "array = np.array(A)\n",
    "\n",
    "print(array)"
   ]
  },
  {
   "cell_type": "code",
   "execution_count": 3,
   "id": "2ca1c360",
   "metadata": {},
   "outputs": [
    {
     "name": "stdout",
     "output_type": "stream",
     "text": [
      "[1 2 3 4]\n"
     ]
    }
   ],
   "source": [
    "# Primeira linha\n",
    "print(array[0])"
   ]
  },
  {
   "cell_type": "code",
   "execution_count": 4,
   "id": "0857654f",
   "metadata": {},
   "outputs": [
    {
     "name": "stdout",
     "output_type": "stream",
     "text": [
      "[10 20 30 40]\n"
     ]
    }
   ],
   "source": [
    "# linha de indice 2\n",
    "print(array[2])"
   ]
  },
  {
   "cell_type": "code",
   "execution_count": 5,
   "id": "47032325",
   "metadata": {},
   "outputs": [
    {
     "name": "stdout",
     "output_type": "stream",
     "text": [
      "4\n"
     ]
    }
   ],
   "source": [
    "# Primeira linha e última coluna\n",
    "print(array[0,-1])"
   ]
  },
  {
   "cell_type": "code",
   "execution_count": 6,
   "id": "74131fa7",
   "metadata": {},
   "outputs": [
    {
     "name": "stdout",
     "output_type": "stream",
     "text": [
      "[[ 0  2  3  4]\n",
      " [ 5  6  7  8]\n",
      " [10 20 30 40]\n",
      " [50 60 70 80]]\n"
     ]
    }
   ],
   "source": [
    "# Atribuindo um valor a uma posição da matriz\n",
    "array[0,0] = 0\n",
    "\n",
    "print(array)"
   ]
  },
  {
   "cell_type": "markdown",
   "id": "cc36edde",
   "metadata": {},
   "source": [
    "## Trabalhando com intervalos"
   ]
  },
  {
   "cell_type": "code",
   "execution_count": 7,
   "id": "3a9d61b6",
   "metadata": {},
   "outputs": [
    {
     "name": "stdout",
     "output_type": "stream",
     "text": [
      "[[ 6  7]\n",
      " [20 30]]\n"
     ]
    }
   ],
   "source": [
    "# Pegando os numeros centrais\n",
    "print(array[1:3, 1:3])"
   ]
  },
  {
   "cell_type": "code",
   "execution_count": 8,
   "id": "958ffe6b",
   "metadata": {},
   "outputs": [
    {
     "name": "stdout",
     "output_type": "stream",
     "text": [
      "[[ 7  8]\n",
      " [30 40]]\n"
     ]
    }
   ],
   "source": [
    "# Pegando o intervalo 7, 8, 30, 40\n",
    "print(array[1:3, 2:4])"
   ]
  },
  {
   "cell_type": "code",
   "execution_count": 9,
   "id": "23c67bfa",
   "metadata": {},
   "outputs": [
    {
     "name": "stdout",
     "output_type": "stream",
     "text": [
      "[50 60 70 80]\n"
     ]
    }
   ],
   "source": [
    "# Trazendo somente a última coluna\n",
    "print(array[-1,:])"
   ]
  },
  {
   "cell_type": "code",
   "execution_count": 10,
   "id": "ea04db07",
   "metadata": {},
   "outputs": [
    {
     "name": "stdout",
     "output_type": "stream",
     "text": [
      "[[1 2]\n",
      " [3 4]\n",
      " [5 6]]\n"
     ]
    }
   ],
   "source": [
    "# Conectando arrays multidimensionais\n",
    "A = np.array([[1, 2], [3, 4]])\n",
    "B = np.array([[5, 6]])\n",
    "\n",
    "C = np.concatenate((A, B))\n",
    "\n",
    "print(C)"
   ]
  }
 ],
 "metadata": {
  "kernelspec": {
   "display_name": "Python 3 (ipykernel)",
   "language": "python",
   "name": "python3"
  },
  "language_info": {
   "codemirror_mode": {
    "name": "ipython",
    "version": 3
   },
   "file_extension": ".py",
   "mimetype": "text/x-python",
   "name": "python",
   "nbconvert_exporter": "python",
   "pygments_lexer": "ipython3",
   "version": "3.11.4"
  }
 },
 "nbformat": 4,
 "nbformat_minor": 5
}
